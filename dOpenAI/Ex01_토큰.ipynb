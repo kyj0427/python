{
 "cells": [
  {
   "cell_type": "markdown",
   "id": "51a6eb3a-3260-4fe0-9a69-bbb166b23b6a",
   "metadata": {},
   "source": [
    "# <font color= 'green'> 모델 비교</font>\n",
    "\n",
    "[ OPENAI API ](https://platform.openai.com/docs/overview)"
   ]
  },
  {
   "cell_type": "markdown",
   "id": "09c53bf6-8bfc-412d-8253-31c7db3f890c",
   "metadata": {},
   "source": [
    "### Open AI 최대 토큰 수를 넘기면 \n",
    "==> 에러발생\n",
    "\n",
    "\n",
    "tiktoken 인코딩과 모델\n",
    "\n",
    "    -cl100k_base 인코딩 : gpt-3.5-turbo, gpt-4 등등\n",
    "    -p50k_base 인코딩 : Codex모델, text-davinci-002 등등"
   ]
  },
  {
   "cell_type": "code",
   "execution_count": null,
   "id": "74340006-a569-4033-8ef2-e883732fe588",
   "metadata": {},
   "outputs": [],
   "source": []
  },
  {
   "cell_type": "code",
   "execution_count": 10,
   "id": "89633a8e-4eb1-4886-9d05-e6f5f8663ea2",
   "metadata": {},
   "outputs": [
    {
     "name": "stdout",
     "output_type": "stream",
     "text": [
      "Collecting tiktoken\n",
      "  Downloading tiktoken-0.9.0-cp312-cp312-win_amd64.whl.metadata (6.8 kB)\n",
      "Requirement already satisfied: regex>=2022.1.18 in c:\\users\\user\\anaconda3\\lib\\site-packages (from tiktoken) (2024.9.11)\n",
      "Requirement already satisfied: requests>=2.26.0 in c:\\users\\user\\anaconda3\\lib\\site-packages (from tiktoken) (2.32.3)\n",
      "Requirement already satisfied: charset-normalizer<4,>=2 in c:\\users\\user\\anaconda3\\lib\\site-packages (from requests>=2.26.0->tiktoken) (3.3.2)\n",
      "Requirement already satisfied: idna<4,>=2.5 in c:\\users\\user\\anaconda3\\lib\\site-packages (from requests>=2.26.0->tiktoken) (3.7)\n",
      "Requirement already satisfied: urllib3<3,>=1.21.1 in c:\\users\\user\\anaconda3\\lib\\site-packages (from requests>=2.26.0->tiktoken) (2.4.0)\n",
      "Requirement already satisfied: certifi>=2017.4.17 in c:\\users\\user\\anaconda3\\lib\\site-packages (from requests>=2.26.0->tiktoken) (2025.4.26)\n",
      "Downloading tiktoken-0.9.0-cp312-cp312-win_amd64.whl (894 kB)\n",
      "   ---------------------------------------- 0.0/894.9 kB ? eta -:--:--\n",
      "   --------------------------------------- 894.9/894.9 kB 39.5 MB/s eta 0:00:00\n",
      "Installing collected packages: tiktoken\n",
      "Successfully installed tiktoken-0.9.0\n"
     ]
    },
    {
     "name": "stderr",
     "output_type": "stream",
     "text": [
      "\n",
      "[notice] A new release of pip is available: 25.1 -> 25.1.1\n",
      "[notice] To update, run: python.exe -m pip install --upgrade pip\n"
     ]
    }
   ],
   "source": [
    "# 운영체제 간단한 명령어를 사용 ==> !\n",
    "\n",
    "# !pip install tiktoken"
   ]
  },
  {
   "cell_type": "code",
   "execution_count": null,
   "id": "54236719-cdd4-416b-a827-51bdc5e9ee43",
   "metadata": {},
   "outputs": [],
   "source": []
  },
  {
   "cell_type": "code",
   "execution_count": 15,
   "id": "2b6efa49-867d-4bef-a85c-0ae144db2145",
   "metadata": {},
   "outputs": [
    {
     "name": "stdout",
     "output_type": "stream",
     "text": [
      "인코딩 결과- [60798, 56154, 24486, 39623, 45780, 242, 230, 19954, 13094, 54059, 13094, 75086, 22254, 116, 13447]\n",
      "디코딩 결과- 치사한 오픈에이아이 비싸다\n"
     ]
    }
   ],
   "source": [
    "import tiktoken\n",
    "\n",
    "# 인코딩이름으로\n",
    "enc = tiktoken.get_encoding('cl100k_base')\n",
    "\n",
    "#모델명으로 확인\n",
    "\n",
    "text = '치사한 오픈에이아이 비싸다'\n",
    "\n",
    "coded_list = enc.encode(text)\n",
    "decoded_list = enc.decode(coded_list)\n",
    "\n",
    "print('인코딩 결과-', coded_list)\n",
    "print('디코딩 결과-', decoded_list)\n"
   ]
  },
  {
   "cell_type": "code",
   "execution_count": 17,
   "id": "061d3962-c6c4-403b-9a58-b3178855703a",
   "metadata": {},
   "outputs": [
    {
     "name": "stdout",
     "output_type": "stream",
     "text": [
      "토큰수- 15\n"
     ]
    }
   ],
   "source": [
    "print('토큰수-', len(coded_list))"
   ]
  },
  {
   "cell_type": "code",
   "execution_count": null,
   "id": "1b35bb6f-ab44-4e68-8527-e43f68d7fd85",
   "metadata": {},
   "outputs": [],
   "source": []
  },
  {
   "cell_type": "code",
   "execution_count": 19,
   "id": "95d473d3-106d-42b9-aa5f-e30ebdbd814a",
   "metadata": {},
   "outputs": [
    {
     "name": "stdout",
     "output_type": "stream",
     "text": [
      "인코딩 결과- [58368, 15478, 246, 70541, 231, 20565, 38187, 71023]\n",
      "디코딩 결과- 오늘 평가제출\n"
     ]
    }
   ],
   "source": [
    "text = '오늘 평가제출'\n",
    "\n",
    "coded_list = enc.encode(text)\n",
    "decoded_list = enc.decode(coded_list)\n",
    "\n",
    "print('인코딩 결과-', coded_list)\n",
    "print('디코딩 결과-', decoded_list)"
   ]
  },
  {
   "cell_type": "code",
   "execution_count": null,
   "id": "d36857a0-b327-46f7-be9d-1b6f6233e284",
   "metadata": {},
   "outputs": [],
   "source": []
  },
  {
   "cell_type": "code",
   "execution_count": null,
   "id": "4eda12cc-3987-40e2-b80a-8461d1976eca",
   "metadata": {},
   "outputs": [],
   "source": []
  },
  {
   "cell_type": "code",
   "execution_count": null,
   "id": "8d47bc2d-b767-46f1-a798-e0e16c60497c",
   "metadata": {},
   "outputs": [],
   "source": []
  },
  {
   "cell_type": "code",
   "execution_count": null,
   "id": "0e4feac2-e9aa-49d4-8488-95a6a80001ec",
   "metadata": {},
   "outputs": [],
   "source": []
  }
 ],
 "metadata": {
  "kernelspec": {
   "display_name": "Python [conda env:base] *",
   "language": "python",
   "name": "conda-base-py"
  },
  "language_info": {
   "codemirror_mode": {
    "name": "ipython",
    "version": 3
   },
   "file_extension": ".py",
   "mimetype": "text/x-python",
   "name": "python",
   "nbconvert_exporter": "python",
   "pygments_lexer": "ipython3",
   "version": "3.12.7"
  }
 },
 "nbformat": 4,
 "nbformat_minor": 5
}
