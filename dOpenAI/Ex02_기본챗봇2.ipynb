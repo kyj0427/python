{
 "cells": [
  {
   "cell_type": "markdown",
   "id": "7ed3decf-5376-4c83-bda9-a392b512821d",
   "metadata": {},
   "source": [
    "## Chat Completion\n",
    "\n",
    "[ 참고 ](https://platform.openai.com/docs/api-reference/chat/)\n",
    "\n",
    "\n",
    "### Chat Completions API 호출\n",
    "\n",
    "completion = client.chat.completions.create(\n",
    "\n",
    "    model=\"gpt-4.1\" # 사용할 모델\n",
    "    \n",
    "     , messages=messages  # 전달할 메세지 - AI가 대답할 메세지\n",
    "    \n",
    "     , max_tokens=1000 # 응답최대 토큰 수 지정\n",
    "I\n",
    "     , temperature=0.9 # 0~2 사이값, 1은 디폴트값 (응답의 창의성에 대한 매개변수)   \n",
    "\n",
    "     , n=1        #생성할 완성의 수수\n",
    "\n",
    "     , stop=None  #완성을 중단할 문자를 지정(ex, \".\", \"\\n\" )   \n",
    ")"
   ]
  },
  {
   "cell_type": "code",
   "execution_count": null,
   "id": "ffeaa170-8d8e-489f-8e2a-d74ab6f3e517",
   "metadata": {},
   "outputs": [],
   "source": []
  },
  {
   "cell_type": "markdown",
   "id": "e301815d-0b2d-46bb-a918-5e11c6c26ecf",
   "metadata": {},
   "source": [
    "### 대화의 메세지 전달 : messages\n",
    "\n",
    "+ role : 메세지의 역할\n",
    "\n",
    "    - system : 일반적으로 대화의 시작으로 초기 지시사항이나 정보에 대한 메세지\n",
    "    - assitant : 인공지능이 이전 응답을 기억\n",
    "    - user : 사용자의 질문(메세지) -> 인공지능이 응답해야 할 입력 메세지\n",
    "    - function : 함수 호출 이용시 \n",
    "    \n",
    "+ content : 메세지 내용"
   ]
  },
  {
   "cell_type": "code",
   "execution_count": null,
   "id": "8636628c-7edd-4f84-8241-c5acfd386b11",
   "metadata": {},
   "outputs": [],
   "source": []
  },
  {
   "cell_type": "code",
   "execution_count": 11,
   "id": "71ff25f9-e0c2-4f0c-903c-22dcda3f6816",
   "metadata": {},
   "outputs": [],
   "source": [
    "from dotenv import load_dotenv\n",
    "from openai import OpenAI\n",
    "\n",
    "load_dotenv()  # .env 파일에 저장한 환경변수를 로딩\n",
    "client = OpenAI()"
   ]
  },
  {
   "cell_type": "code",
   "execution_count": null,
   "id": "8467a176-299b-48dc-b208-6803c96855d9",
   "metadata": {},
   "outputs": [],
   "source": []
  },
  {
   "cell_type": "code",
   "execution_count": null,
   "id": "bec35e40-2a1d-4996-bae2-d4900ed9ad09",
   "metadata": {},
   "outputs": [],
   "source": []
  },
  {
   "cell_type": "code",
   "execution_count": 13,
   "id": "7cbab857-10bd-4261-92a8-5ca52c4f9b28",
   "metadata": {},
   "outputs": [
    {
     "name": "stdin",
     "output_type": "stream",
     "text": [
      "질문을 입력하세요\n",
      "[나:] ㅇㅇ\n"
     ]
    },
    {
     "name": "stdout",
     "output_type": "stream",
     "text": [
      "\n",
      "[AI응답]: 안녕하세요! 어떻게 도와드릴까요? 필요한 정보나 질문이 있으면 말씀해 주세요.\n"
     ]
    },
    {
     "name": "stdin",
     "output_type": "stream",
     "text": [
      "[나:] end\n"
     ]
    },
    {
     "name": "stdout",
     "output_type": "stream",
     "text": [
      "채팅을 종료\n"
     ]
    }
   ],
   "source": [
    "messages=[\n",
    "    {\"role\": \"system\", \"content\": \"You are a helpful assistant.\"},\n",
    "]\n",
    "\n",
    "user_input = input('질문을 입력하세요\\n[나:]')\n",
    "\n",
    "# 보조자 역할 사전 정보\n",
    "product_name='마라톤 러닝화'\n",
    "order_date='7일 25일'\n",
    "shipping_date='7월 30일'\n",
    "shipping_eta='8월 1일'\n",
    "\n",
    "ai_msg = f\"제품명:{product_name}\"\n",
    "ai_msg += f\"주문일:{order_date}\"\n",
    "ai_msg += f\"배송시작일:{shipping_date}\"\n",
    "ai_msg += f\"예상도착일:{shipping_eta}\"\n",
    "\n",
    "while user_input != 'end':\n",
    "\n",
    "    message = [\n",
    "        {\"role\":'assistant', 'content': ai_msg },\n",
    "        {\"role\":'user', 'content': user_input }\n",
    "    ]\n",
    "    messages.extend(message)\n",
    "\n",
    "    response = client.chat.completions.create(\n",
    "        model = 'gpt-4o-mini'\n",
    "        , messages = messages\n",
    "    )\n",
    "    \n",
    "    ai_response = response.choices[0].message.content\n",
    "    print('\\n[AI응답]:', ai_response)\n",
    "\n",
    "\n",
    "    user_input = input('[나:]')\n",
    "else:\n",
    "    print('채팅을 종료')"
   ]
  },
  {
   "cell_type": "code",
   "execution_count": null,
   "id": "6b22eb6a-42a6-450d-aaf6-fe807a6e488c",
   "metadata": {},
   "outputs": [],
   "source": []
  },
  {
   "cell_type": "code",
   "execution_count": null,
   "id": "15186d95-f4da-4784-afd9-269fb33b3162",
   "metadata": {},
   "outputs": [],
   "source": []
  },
  {
   "cell_type": "code",
   "execution_count": null,
   "id": "bc0f11f7-6850-431a-ab2f-2cbb48147384",
   "metadata": {},
   "outputs": [],
   "source": []
  },
  {
   "cell_type": "code",
   "execution_count": null,
   "id": "0032bd2d-716c-4000-a311-0e26d897d81f",
   "metadata": {},
   "outputs": [],
   "source": []
  },
  {
   "cell_type": "code",
   "execution_count": null,
   "id": "92f6aad8-811f-413a-907d-a9432c2fc58d",
   "metadata": {},
   "outputs": [],
   "source": []
  },
  {
   "cell_type": "code",
   "execution_count": null,
   "id": "59d01085-0a37-4c82-bddc-6f435c712875",
   "metadata": {},
   "outputs": [],
   "source": []
  },
  {
   "cell_type": "code",
   "execution_count": null,
   "id": "1a9e6769-7d22-481f-83db-24d56d45f3fe",
   "metadata": {},
   "outputs": [],
   "source": []
  },
  {
   "cell_type": "code",
   "execution_count": null,
   "id": "182c30ea-6350-4cfa-a89f-02e9de4a09c9",
   "metadata": {},
   "outputs": [],
   "source": []
  },
  {
   "cell_type": "code",
   "execution_count": null,
   "id": "4a383ae0-e246-4826-8dc5-e2e848a6a79b",
   "metadata": {},
   "outputs": [],
   "source": []
  }
 ],
 "metadata": {
  "kernelspec": {
   "display_name": "Python [conda env:base] *",
   "language": "python",
   "name": "conda-base-py"
  },
  "language_info": {
   "codemirror_mode": {
    "name": "ipython",
    "version": 3
   },
   "file_extension": ".py",
   "mimetype": "text/x-python",
   "name": "python",
   "nbconvert_exporter": "python",
   "pygments_lexer": "ipython3",
   "version": "3.12.7"
  }
 },
 "nbformat": 4,
 "nbformat_minor": 5
}
