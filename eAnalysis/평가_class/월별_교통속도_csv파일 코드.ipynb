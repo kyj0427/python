{
 "cells": [
  {
   "cell_type": "code",
   "execution_count": 17,
   "id": "61fd8525-739d-47e3-bbe1-a40796a97eb2",
   "metadata": {},
   "outputs": [
    {
     "name": "stdout",
     "output_type": "stream",
     "text": [
      "파일명 변경 완료\n"
     ]
    },
    {
     "name": "stderr",
     "output_type": "stream",
     "text": [
      "<>:3: SyntaxWarning: invalid escape sequence '\\p'\n",
      "<>:3: SyntaxWarning: invalid escape sequence '\\p'\n",
      "C:\\Users\\user\\AppData\\Local\\Temp\\ipykernel_14120\\4232961322.py:3: SyntaxWarning: invalid escape sequence '\\p'\n",
      "  folder_path = 'D:\\python\\eAnalysis\\평가_class\\월별_교통속도'\n"
     ]
    }
   ],
   "source": [
    "import os\n",
    "\n",
    "folder_path = 'D:\\python\\eAnalysis\\평가_class\\월별_교통속도' \n",
    "\n",
    "\n",
    "# 긴 파일명 을 간단한 이름으로 바꿈 \n",
    "for filename in os.listdir(folder_path):\n",
    "    if filename.endswith('.csv'):\n",
    "        new_name = filename.split('-')[-1]\n",
    "        old_path = os.path.join(folder_path, filename)\n",
    "        new_path = os.path.join(folder_path, new_name)\n",
    "        os.rename(old_path, new_path)\n",
    "\n",
    "print(\"파일명 변경 완료\")\n"
   ]
  },
  {
   "cell_type": "code",
   "execution_count": 2,
   "id": "c6b1dd46-668a-4317-b79d-e4947c6f0673",
   "metadata": {},
   "outputs": [
    {
     "name": "stdout",
     "output_type": "stream",
     "text": [
      "CSV 병합 완료\n",
      "CSV 저장 완료\n"
     ]
    }
   ],
   "source": [
    "import pandas as pd\n",
    "import os\n",
    "\n",
    "folder_path = 'D:\\python\\eAnalysis\\평가_class\\월별_교통속도'  # CSV들이 있는 폴더 경로\n",
    "\n",
    "all_data = []  # 병합할 데이터들을 담을 리스트\n",
    "\n",
    "for file in sorted(os.listdir(folder_path)):  # 폴더 안의 파일들을 정렬해서 반복\n",
    "    if file.endswith('.csv'):  # 확장자가 .csv인 파일만\n",
    "        file_path = os.path.join(folder_path, file)  # 경로 완성\n",
    "        df = pd.read_csv(file_path, encoding='utf-8')  # 또는 encoding='cp949'로 시도\n",
    "        df['파일명'] = file  # 추적용으로 '파일명' 컬럼 추가\n",
    "        all_data.append(df)  # 리스트에 추가\n",
    "\n",
    "# 2022년 1월 부터 2024년 12월까지의 데이터를 병합하여 1개의 csv로 만듬\n",
    "merged_df = pd.concat(all_data, ignore_index=True)  \n",
    "print(\"CSV 병합 완료\")\n",
    "\n",
    "# 저장 \n",
    "merged_df.to_csv('C:/python/평가/월별_교통속도_병합본.csv', index=False, encoding='utf-8-sig')\n",
    "print(\"CSV 저장 완료\")"
   ]
  },
  {
   "cell_type": "code",
   "execution_count": 1,
   "id": "f9ea5f2e-d0ce-4445-a468-332c6b9ab731",
   "metadata": {},
   "outputs": [
    {
     "name": "stdout",
     "output_type": "stream",
     "text": [
      " 컬럼명 한글화 후 사본 저장 완료\n"
     ]
    }
   ],
   "source": [
    "import pandas as pd\n",
    "\n",
    "# 1. 원본 파일 불러오기\n",
    "df_월별 = pd.read_csv(\"월별_교통속도_병합본.csv\")\n",
    "\n",
    "# 2. 컬럼명 한글화 (한 번만 처리)\n",
    "df_월별 = df_월별.rename(columns={\n",
    "    'SUM_YRMTH': '일자',\n",
    "    'TRFFCVLM': '교통량',\n",
    "    'SPD_AVG': '평균속도',\n",
    "    'PASNG_RUNTM_MINS': '통행시간_분',\n",
    "    'PSTM_STDV': '통행시간_표준편차',\n",
    "    'PASNG_TM_CHANGE_CFFCN': '통행시간_변화계수',\n",
    "    'ST_ND_NM': '출발지',\n",
    "    'END_ND_NM': '도착지',\n",
    "    'ST_ND_GPS_LAT': '출발_위도',\n",
    "    'ST_ND_GPS_LONG': '출발_경도',\n",
    "    'END_ND_GPS_LAT': '도착_위도',\n",
    "    'END_ND_GPS_LONG': '도착_경도',\n",
    "    '파일명': '파일명',\n",
    "    '정체여부': '정체여부'\n",
    "})\n",
    "\n",
    "# 3. 사본 파일로 저장\n",
    "df_월별.to_csv(\"월별_교통속도_사본.csv\", index=False)\n",
    "print(\" 컬럼명 한글화 후 사본 저장 완료\")\n"
   ]
  },
  {
   "cell_type": "code",
   "execution_count": 3,
   "id": "030c2af2-26e8-4af2-bcc2-f694f983cf18",
   "metadata": {},
   "outputs": [
    {
     "name": "stdout",
     "output_type": "stream",
     "text": [
      "\n",
      "월별 파일 컬럼 목록:\n",
      "Index(['일자', 'CZN_CD', 'COCT_CD', '교통량', '평균속도', '통행시간_분', 'NMLT_CSCNT',\n",
      "       'REVISN_CSCNT', '통행시간_표준편차', '통행시간_변화계수', 'MAX_PASNG_TM_MINS',\n",
      "       'MEDIAN_PASNG_TM_MINS', 'MINM_PASNG_TM_MINS', 'F15T85_PASNG_RUNTM_QNTL',\n",
      "       'LAST_CHANGE_DAYHMINSEC', '출발지', '출발_위도', '출발_경도', '도착지', '도착_위도',\n",
      "       '도착_경도', '파일명'],\n",
      "      dtype='object')\n"
     ]
    }
   ],
   "source": [
    "# 사본 불러오기\n",
    "월별 = pd.read_csv(\"월별_교통속도_사본.csv\")\n",
    "\n",
    "# 컬럼 확인\n",
    "print(\"\\n월별 파일 컬럼 목록:\")\n",
    "print(월별.columns)\n"
   ]
  },
  {
   "cell_type": "code",
   "execution_count": 5,
   "id": "f6366da4-c220-4d6d-93cc-6da92f4c20ef",
   "metadata": {},
   "outputs": [
    {
     "name": "stdout",
     "output_type": "stream",
     "text": [
      "\n",
      "정체 여부 분포:\n",
      "정체여부\n",
      "0    48453\n",
      "1     4628\n",
      "Name: count, dtype: int64\n"
     ]
    }
   ],
   "source": [
    "# 평균속도 40km/h 미만은 '정체'로 간주 (1), 아니면 정상 (0)\n",
    "월별['정체여부'] = (월별['평균속도'] < 60).astype(int)\n",
    "\n",
    "# 정체여부 0(정상)과 1(정체)의 분포 확인\n",
    "print(\"\\n정체 여부 분포:\")\n",
    "print(월별['정체여부'].value_counts())\n"
   ]
  },
  {
   "cell_type": "code",
   "execution_count": null,
   "id": "b690eee7-fa1d-4267-81f0-102cd9a905db",
   "metadata": {},
   "outputs": [],
   "source": []
  },
  {
   "cell_type": "code",
   "execution_count": null,
   "id": "a9ab472e-8ea8-4bf6-bdd4-029ae8c728be",
   "metadata": {},
   "outputs": [],
   "source": []
  },
  {
   "cell_type": "code",
   "execution_count": null,
   "id": "72641188-342d-4a8b-b854-df75b239ece5",
   "metadata": {},
   "outputs": [],
   "source": []
  }
 ],
 "metadata": {
  "kernelspec": {
   "display_name": "Python [conda env:base] *",
   "language": "python",
   "name": "conda-base-py"
  },
  "language_info": {
   "codemirror_mode": {
    "name": "ipython",
    "version": 3
   },
   "file_extension": ".py",
   "mimetype": "text/x-python",
   "name": "python",
   "nbconvert_exporter": "python",
   "pygments_lexer": "ipython3",
   "version": "3.12.7"
  }
 },
 "nbformat": 4,
 "nbformat_minor": 5
}
