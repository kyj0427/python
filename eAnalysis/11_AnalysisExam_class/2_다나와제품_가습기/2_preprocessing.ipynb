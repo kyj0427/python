{
 "cells": [
  {
   "cell_type": "markdown",
   "metadata": {},
   "source": [
    "# 6.3  다나와 크롤링 데이터 전처리"
   ]
  },
  {
   "cell_type": "markdown",
   "metadata": {},
   "source": [
    "### 6.3.1 다나와 크롤링 데이터 불러오기 "
   ]
  },
  {
   "cell_type": "code",
   "execution_count": 1,
   "metadata": {},
   "outputs": [
    {
     "name": "stdout",
     "output_type": "stream",
     "text": [
      "<class 'pandas.core.frame.DataFrame'>\n",
      "RangeIndex: 300 entries, 0 to 299\n",
      "Data columns (total 3 columns):\n",
      " #   Column  Non-Null Count  Dtype \n",
      "---  ------  --------------  ----- \n",
      " 0   상품명     300 non-null    object\n",
      " 1   스펙 목록   300 non-null    object\n",
      " 2   가격      300 non-null    int64 \n",
      "dtypes: int64(1), object(2)\n",
      "memory usage: 7.2+ KB\n"
     ]
    },
    {
     "data": {
      "text/html": [
       "<div>\n",
       "<style scoped>\n",
       "    .dataframe tbody tr th:only-of-type {\n",
       "        vertical-align: middle;\n",
       "    }\n",
       "\n",
       "    .dataframe tbody tr th {\n",
       "        vertical-align: top;\n",
       "    }\n",
       "\n",
       "    .dataframe thead th {\n",
       "        text-align: right;\n",
       "    }\n",
       "</style>\n",
       "<table border=\"1\" class=\"dataframe\">\n",
       "  <thead>\n",
       "    <tr style=\"text-align: right;\">\n",
       "      <th></th>\n",
       "      <th>상품명</th>\n",
       "      <th>스펙 목록</th>\n",
       "      <th>가격</th>\n",
       "    </tr>\n",
       "  </thead>\n",
       "  <tbody>\n",
       "    <tr>\n",
       "      <th>0</th>\n",
       "      <td>조지루시 EE-DVH35K</td>\n",
       "      <td>가습기/가열식/수조, 분무구세척/[가습] 수조용량: 4.0L/연속사용: 10시간/최...</td>\n",
       "      <td>283880</td>\n",
       "    </tr>\n",
       "    <tr>\n",
       "      <th>1</th>\n",
       "      <td>스타일리스 가열식 가습기</td>\n",
       "      <td>가습기/가열식/스테인리스 수조/수조, 분무구세척/[가습] 수조용량: 4.0L/연속사...</td>\n",
       "      <td>109000</td>\n",
       "    </tr>\n",
       "    <tr>\n",
       "      <th>2</th>\n",
       "      <td>아이닉 iH12 Pro</td>\n",
       "      <td>가습기/복합식/완벽세척/UV살균/56㎡(17평형)/[가습] 수조용량: 11L/연속사...</td>\n",
       "      <td>138000</td>\n",
       "    </tr>\n",
       "    <tr>\n",
       "      <th>3</th>\n",
       "      <td>위닉스 올케어 올바른가습기 WL3M400-KWK</td>\n",
       "      <td>가습기/복합식/스테인리스 수조/완벽세척/UV살균/[가습] 수조용량: 4.0L/연속사...</td>\n",
       "      <td>119950</td>\n",
       "    </tr>\n",
       "    <tr>\n",
       "      <th>4</th>\n",
       "      <td>샤오미 스마트미 3세대 CJXJSQ05ZM</td>\n",
       "      <td>가습기/자연기화식/자동세척/자동건조/[가습] 수조용량: 5.0L/연속사용: 14시간...</td>\n",
       "      <td>84900</td>\n",
       "    </tr>\n",
       "  </tbody>\n",
       "</table>\n",
       "</div>"
      ],
      "text/plain": [
       "                          상품명  \\\n",
       "0              조지루시 EE-DVH35K   \n",
       "1               스타일리스 가열식 가습기   \n",
       "2                아이닉 iH12 Pro   \n",
       "3  위닉스 올케어 올바른가습기 WL3M400-KWK   \n",
       "4     샤오미 스마트미 3세대 CJXJSQ05ZM   \n",
       "\n",
       "                                               스펙 목록      가격  \n",
       "0  가습기/가열식/수조, 분무구세척/[가습] 수조용량: 4.0L/연속사용: 10시간/최...  283880  \n",
       "1  가습기/가열식/스테인리스 수조/수조, 분무구세척/[가습] 수조용량: 4.0L/연속사...  109000  \n",
       "2  가습기/복합식/완벽세척/UV살균/56㎡(17평형)/[가습] 수조용량: 11L/연속사...  138000  \n",
       "3  가습기/복합식/스테인리스 수조/완벽세척/UV살균/[가습] 수조용량: 4.0L/연속사...  119950  \n",
       "4  가습기/자연기화식/자동세척/자동건조/[가습] 수조용량: 5.0L/연속사용: 14시간...   84900  "
      ]
     },
     "execution_count": 1,
     "metadata": {},
     "output_type": "execute_result"
    }
   ],
   "source": [
    "# 예제 6-17 다나와 크롤링 결과 가져오기 \n",
    "import pandas as pd\n",
    "\n",
    "data = pd.read_excel('./files/3_1_danawa_crawling_result.xlsx')\n",
    "data.info()\n",
    "data.head()"
   ]
  },
  {
   "cell_type": "markdown",
   "metadata": {},
   "source": [
    "### 6.3.2 회사명, 모델명 정리 "
   ]
  },
  {
   "cell_type": "code",
   "execution_count": 3,
   "metadata": {},
   "outputs": [
    {
     "name": "stdout",
     "output_type": "stream",
     "text": [
      "300\n",
      "300\n",
      "['조지루시', '스타일리스', '아이닉', '위닉스', '샤오미', '르젠', '헬스앤바이오', '샤오미', '르젠', '위닉스', 'LG전자', '케어메디', '조지루시', '한일전기', '샤오미', '스테나', '에어메이드', '한일전기', '가이아모', '듀플렉스']\n",
      "['EE-DVH35K', '가열식 가습기', 'iH12 Pro', '올케어 올바른가습기 WL3M400-KWK', '스마트미 3세대 CJXJSQ05ZM', 'LZHD-1200', '케어팟 스텐 큐브 X50V', '미지아 스마트 살균 2세대 MJJSQ05DY', '퓨어미스트 2세대 LZHD-H05', '올케어 올바른가습기 WL4M400-NWK', '오브제컬렉션 퓨리케어 하이드로타워 HY704RWUA', '아이오랩 아이미스트 가습기', 'EE-DCH35K', 'GSH-E310R', '미지아 3세대 CJSJSQ03XY', '아키텍 STN 100', 'AMH-9902UV', 'HGSSP-300SW', 'GAIA-3314 디지털', '에어보나 AB-A70UH']\n"
     ]
    }
   ],
   "source": [
    "# 예제 6-18 회사명 + 모델명 분리\n",
    "company_list = []\n",
    "product_list = []\n",
    "for title in data['상품명']:\n",
    "    # print(title, type(title))\n",
    "    if type(title) != str: continue\n",
    "    title_info = title.split(' ', 1)\n",
    "    if len(title_info) == 1 : \n",
    "        company_name = title_info[0]\n",
    "        product_name = title_info[0]\n",
    "    else:\n",
    "        company_name = title_info[0]\n",
    "        product_name = title_info[1]\n",
    "    company_list.append(company_name)\n",
    "    product_list.append(product_name)\n",
    "\n",
    "print(len(company_list))\n",
    "print(len(product_list))\n",
    "\n",
    "print(company_list[:20])\n",
    "print(product_list[:20])"
   ]
  },
  {
   "cell_type": "markdown",
   "metadata": {},
   "source": [
    "### 6.3.4 스펙 목록에서 카테고리, 사용시간, 흡입력을 추출해서 정리\n"
   ]
  },
  {
   "cell_type": "code",
   "execution_count": 5,
   "metadata": {},
   "outputs": [
    {
     "data": {
      "text/plain": [
       "['가습기/가열식/수조, 분무구세척/[가습] 수조용량: 4.0L/연속사용: 10시간/최대분무량: 370cc/습도조절/습도표시/분무량조절/[편의] 상부급수식/타이머/[규격] 소비전력: 680W/크기(가로x세로x깊이): 240x365x275mm']"
      ]
     },
     "execution_count": 5,
     "metadata": {},
     "output_type": "execute_result"
    }
   ],
   "source": [
    "# 예제 6-19 첫 번째 제품의 스펙 목록 분리\n",
    "spec_list = data['스펙 목록'][0].split(' / ')\n",
    "spec_list "
   ]
  },
  {
   "cell_type": "code",
   "execution_count": 7,
   "metadata": {},
   "outputs": [
    {
     "data": {
      "text/plain": [
       "'가습기/가열식/수조, 분무구세척/[가습] 수조용량: 4.0L/연속사용: 10시간/최대분무량: 370cc/습도조절/습도표시/분무량조절/[편의] 상부급수식/타이머/[규격] 소비전력: 680W/크기(가로x세로x깊이): 240x365x275mm'"
      ]
     },
     "execution_count": 7,
     "metadata": {},
     "output_type": "execute_result"
    }
   ],
   "source": [
    "# 예제 6-20 카테고리 정보 추출\n",
    "category = spec_list[0] \n",
    "category "
   ]
  },
  {
   "cell_type": "code",
   "execution_count": 9,
   "metadata": {},
   "outputs": [
    {
     "data": {
      "text/plain": [
       "['가습기',\n",
       " '가열식',\n",
       " '수조, 분무구세척',\n",
       " '[가습] 수조용량: 4.0L',\n",
       " '연속사용: 10시간',\n",
       " '최대분무량: 370cc',\n",
       " '습도조절',\n",
       " '습도표시',\n",
       " '분무량조절',\n",
       " '[편의] 상부급수식',\n",
       " '타이머',\n",
       " '[규격] 소비전력: 680W',\n",
       " '크기(가로x세로x깊이): 240x365x275mm']"
      ]
     },
     "execution_count": 9,
     "metadata": {},
     "output_type": "execute_result"
    }
   ],
   "source": [
    "category.split('/')"
   ]
  },
  {
   "cell_type": "code",
   "execution_count": 11,
   "metadata": {},
   "outputs": [
    {
     "name": "stdout",
     "output_type": "stream",
     "text": [
      "10시간\n",
      "370cc\n",
      "680W\n"
     ]
    }
   ],
   "source": [
    "# 예제 6-21 ‘연속사용’, ‘최대분무량’, '소비전력'이 포함된 원소 추출 \n",
    "for spec in category.split('/'):\n",
    "    if '연속사용' in spec: \n",
    "        spec_val=spec[spec.index(':')+1:]\n",
    "        use_time_spec = spec_val.strip()\n",
    "    elif '최대분무량' in spec:\n",
    "        spec_val=spec[spec.index(':')+1:]\n",
    "        spraying_rate_spec = spec_val.strip()  \n",
    "    elif '소비전력' in spec:\n",
    "        spec_val=spec[spec.index(':')+1:]\n",
    "        power_spec = spec_val.strip()\n",
    "\n",
    "print(use_time_spec)\n",
    "print(spraying_rate_spec) \n",
    "print(power_spec)"
   ]
  },
  {
   "cell_type": "code",
   "execution_count": 13,
   "metadata": {},
   "outputs": [],
   "source": [
    "# 예제 6-23 카테고리, ‘연속사용’, ‘최대분무량’, '소비전력' 추출 \n",
    "category_list = []\n",
    "use_time_list = []\n",
    "spraying_rate_list = [] \n",
    "power_list = [] \n",
    "\n",
    "for spec_data in data['스펙 목록']:\n",
    "    # ' / ' 기준으로 스펙 분리하기 \n",
    "    if type(spec_data) != str: continue\n",
    "    spec_list = spec_data.split(' / ')\n",
    "    \n",
    "    # 카테고리 추출하기\n",
    "    category = spec_list[0] \n",
    "    category_list.append(category)\n",
    "    \n",
    "    # 사용시간, 흡입력 추출 \n",
    "    ## 사용시간, 흡입력 정보가 없는 제품을 위해 변수를 생성 \n",
    "    use_time_value = None \n",
    "    spraying_rate_value = None \n",
    "    power_value = None\n",
    "    \n",
    "    ## spec_list의 각 원소에서 사용시간, 흡입력 수치 추출\n",
    "    for spec in category.split('/'):\n",
    "        if '연속사용' in spec: \n",
    "            spec_val=spec[spec.index(':')+1:]\n",
    "            use_time_value = spec_val.strip()\n",
    "        elif '최대분무량' in spec:\n",
    "            spec_val=spec[spec.index(':')+1:]\n",
    "            spraying_rate_value = spec_val.strip()  \n",
    "        elif '소비전력' in spec:\n",
    "            spec_val=spec[spec.index(':')+1:]\n",
    "            power_value = spec_val.strip()\n",
    "\n",
    "    \n",
    "    use_time_list.append(use_time_value)\n",
    "    spraying_rate_list.append(spraying_rate_value)\n",
    "    power_list.append(power_value)\n",
    "    "
   ]
  },
  {
   "cell_type": "code",
   "execution_count": 15,
   "metadata": {},
   "outputs": [
    {
     "name": "stdout",
     "output_type": "stream",
     "text": [
      "[ 카테고리 ]  300 ['가습기/가열식/수조, 분무구세척/[가습] 수조용량: 4.0L/연속사용: 10시간/최대분무량: 370cc/습도조절/습도표시/분무량조절/[편의] 상부급수식/타이머/[규격] 소비전력: 680W/크기(가로x세로x깊이): 240x365x275mm', '가습기/가열식/스테인리스 수조/수조, 분무구세척/[가습] 수조용량: 4.0L/연속사용: 9시간/최대분무량: 800cc/습도조절/습도표시/분무량조절/[편의] 상부급수식/타이머/버튼잠금/[규격] 크기(가로x세로x깊이): 245x290x295mm', '가습기/복합식/완벽세척/UV살균/56㎡(17평형)/[가습] 수조용량: 11L/연속사용: 110시간/최대분무량: 301~400cc/습도조절/습도표시/분무량조절/분무구회전/[편의] 자동전원차단/상부급수식/스마트폰제어/리모컨/타이머/무드등/버튼잠금/[규격] 소비전력: 180W/무선 습도 센서/냉온 가습모드/크기(가로x세로x깊이): 210x700x210mm', '가습기/복합식/스테인리스 수조/완벽세척/UV살균/[가습] 수조용량: 4.0L/연속사용: 64시간/최대분무량: 400cc/습도조절/분무량조절/안심스팀/분무구회전/[편의] 자동전원차단/상부급수식/타이머/[규격] 소비전력: 85W/크기(가로x세로x깊이): 325x314x224mm', '가습기/자연기화식/자동세척/자동건조/[가습] 수조용량: 5.0L/연속사용: 14시간/최대분무량: 350cc/습도조절/습도표시/분무량조절/[편의] 자동전원차단/상부급수식/수위표시/스마트폰제어/타이머/[규격] 크기(가로x세로x깊이): 260x405x260mm', '가습기/가열식/스테인리스 수조/수조, 분무구세척/[가습] 수조용량: 2.0L/연속사용: 8시간/최대분무량: 400cc/분무량조절/[편의] 자동전원차단/상부급수식/타이머/버튼잠금/[규격] 소비전력: 330W/크기(가로x세로x깊이): 218x271x218mm', '가습기/복합식/스테인리스 수조/완벽세척/자동세척/UV살균/[가습] 수조용량: 4.2L/연속사용: 32시간/최대분무량: 440cc/습도조절/분무량조절/안심스팀/[편의] 자동전원차단/상부급수식/타이머/[규격] 소비전력: 150W/크기(가로x세로x깊이): 250x300x250mm', '가습기/초음파식/UV살균/[가습] 수조용량: 4.5L/연속사용: 32시간/최대분무량: 350cc/분무량조절/분무구회전/[편의] 상부급수식/수위표시/스마트폰제어/아로마/[규격] 소비전력: 28W/과습보호/크기(가로x세로x깊이): 190x335x190mm', '가습기/가열식/스테인리스 수조/완벽세척/자동세척/[가습] 수조용량: 4.0L/연속사용: 24시간/최대분무량: 510cc/습도조절/습도표시/분무량조절/[편의] 자동전원차단/상부급수식/타이머/버튼잠금/[규격] 소비전력: 800W/리모컨/크기(가로x세로x깊이): 258x250x280mm', '가습기/복합식/스테인리스 수조/완벽세척/UV살균/[가습] 수조용량: 4.0L/연속사용: 64시간/최대분무량: 400cc/습도조절/분무량조절/안심스팀/분무구회전/[편의] 자동전원차단/상부급수식/타이머/[규격] 소비전력: 85W/크기(가로x세로x깊이): 325x314x224mm']\n",
      "[ 연속사용 ] 300 ['10시간', '9시간', '110시간', '64시간', '14시간', '8시간', '32시간', '32시간', '24시간', '64시간']\n",
      "[ 최대분무량 300 ['370cc', '800cc', '301~400cc', '400cc', '350cc', '400cc', '440cc', '350cc', '510cc', '400cc']\n",
      "소비전력 300 ['680W', None, '180W', '85W', None, '330W', '150W', '28W', '800W', '85W']\n"
     ]
    }
   ],
   "source": [
    "# 예제 6-23 카테고리, 사용시간, 흡입력에 대한 전처리 결과 확인\n",
    "print(\"[ 카테고리 ] \", len(category_list), category_list[0:10])\n",
    "print(\"[ 연속사용 ]\", len(use_time_list), use_time_list[0:10])\n",
    "print(\"[ 최대분무량\", len(spraying_rate_list), spraying_rate_list[0:10])\n",
    "print(\"소비전력\", len(power_list), power_list[0:10])\n"
   ]
  },
  {
   "cell_type": "markdown",
   "metadata": {},
   "source": [
    "### 6.3.5 연속시간 단위 통일시키기"
   ]
  },
  {
   "cell_type": "code",
   "execution_count": 17,
   "metadata": {},
   "outputs": [],
   "source": [
    "# 예제 6-25 연속시간을 분 단위로 조정하는 함수\n",
    "def convert_time_minute(time):\n",
    "    try:\n",
    "        if '시간' in time:\n",
    "            hour = time.split('시간')[0]\n",
    "            if '분' in time:\n",
    "                minute = time.split('시간')[-1].split('분')[0]\n",
    "            else:\n",
    "                minute = 0\n",
    "        else: \n",
    "            hour = 0\n",
    "            minute = time.split('분')[0]\n",
    "        return int(hour)*60 + int(minute)\n",
    "    except:\n",
    "        return None                "
   ]
  },
  {
   "cell_type": "code",
   "execution_count": 19,
   "metadata": {},
   "outputs": [
    {
     "name": "stdout",
     "output_type": "stream",
     "text": [
      "40분 = 40\n",
      "4분 = 4\n",
      "1시간 = 60\n",
      "3시간30분 = 210\n",
      "4시간 = 240\n"
     ]
    }
   ],
   "source": [
    "# 예제 6-26 연속시간을 분 단위로 조정하는 함수의 테스트\n",
    "times = [\"40분\", \"4분\", \"1시간\", \"3시간30분\", \"4시간\"]\n",
    "for time in times:\n",
    "    time_value = convert_time_minute(time)\n",
    "    print(time, \"=\", time_value)"
   ]
  },
  {
   "cell_type": "code",
   "execution_count": 21,
   "metadata": {},
   "outputs": [
    {
     "name": "stdout",
     "output_type": "stream",
     "text": [
      "300\n",
      "300\n",
      "[600, 540, 6600, 3840, 840]\n"
     ]
    }
   ],
   "source": [
    "# 예제 6-27 모델별 사용시간을 분 단위로 통일하기\n",
    "new_use_time_list = []\n",
    "for time in use_time_list:\n",
    "    value = convert_time_minute(time)\n",
    "    new_use_time_list.append(value)\n",
    "print(len(use_time_list))    \n",
    "print(len(new_use_time_list))\n",
    "print(new_use_time_list[0:5])"
   ]
  },
  {
   "cell_type": "markdown",
   "metadata": {},
   "source": [
    "### 6.3.6 최대분무량 값 통일시키기"
   ]
  },
  {
   "cell_type": "code",
   "execution_count": 24,
   "metadata": {},
   "outputs": [
    {
     "name": "stdout",
     "output_type": "stream",
     "text": [
      "200\n",
      "100\n"
     ]
    }
   ],
   "source": [
    "def get_spraying_rate(value):\n",
    "    try:    \n",
    "        value = value.lower() \n",
    "        if \"cc\" in value:\n",
    "            result = value.replace('cc','')\n",
    "        \n",
    "        result= result.strip()\n",
    "        if \"~\" in result:\n",
    "            # result = result[result.index('~')+1:] # '~' 큰값으로\n",
    "            result = result[:result.index('~')]     # '~' 작은값으로\n",
    "            \n",
    "        return result.strip()\n",
    "    except:\n",
    "        return None\n",
    "\n",
    "value = get_spraying_rate('200 ~ 400cc')\n",
    "print(value)\n",
    "value = get_spraying_rate('100 cc')\n",
    "print(value)\n"
   ]
  },
  {
   "cell_type": "code",
   "execution_count": 28,
   "metadata": {},
   "outputs": [
    {
     "name": "stdout",
     "output_type": "stream",
     "text": [
      "['370', '800', '301', '400', '350', '400', '440', '350', '510', '400']\n"
     ]
    }
   ],
   "source": [
    "new_spraying_rate_list = []\n",
    "for spraying_rate in spraying_rate_list:\n",
    "    value = get_spraying_rate (spraying_rate)\n",
    "    new_spraying_rate_list.append(value)\n",
    "\n",
    "print(new_spraying_rate_list[:10])"
   ]
  },
  {
   "cell_type": "markdown",
   "metadata": {},
   "source": [
    "### 6.3.7  소비전력 단위 통일시키기"
   ]
  },
  {
   "cell_type": "code",
   "execution_count": 30,
   "metadata": {},
   "outputs": [],
   "source": [
    "def get_power(value):\n",
    "    try:\n",
    "        value = value.upper()\n",
    "        if \"KW\" in value:\n",
    "            result = value.replace(\"KW\", \"\")\n",
    "            result = int(result.strip()*1000)\n",
    "        \n",
    "        elif \"W\" in value:\n",
    "            result = value.replace(\"W\",\"\")\n",
    "            result = int(result.strip())\n",
    "        else:\n",
    "            result = None\n",
    "        return result\n",
    "    except:\n",
    "        return None"
   ]
  },
  {
   "cell_type": "code",
   "execution_count": 33,
   "metadata": {},
   "outputs": [
    {
     "name": "stdout",
     "output_type": "stream",
     "text": [
      "[680, None, 180, 85, None]\n"
     ]
    }
   ],
   "source": [
    "# 소비전력 단위 통일시키기\n",
    "new_power_list = []\n",
    "for power in power_list:\n",
    "    value = get_power (power)\n",
    "    new_power_list.append(value)\n",
    "\n",
    "print(new_power_list[:5])"
   ]
  },
  {
   "cell_type": "markdown",
   "metadata": {},
   "source": [
    "### 6.3.7 다나와 전처리 결과를 엑셀로 저장\n"
   ]
  },
  {
   "cell_type": "code",
   "execution_count": 24,
   "metadata": {},
   "outputs": [
    {
     "data": {
      "text/html": [
       "<div>\n",
       "<style scoped>\n",
       "    .dataframe tbody tr th:only-of-type {\n",
       "        vertical-align: middle;\n",
       "    }\n",
       "\n",
       "    .dataframe tbody tr th {\n",
       "        vertical-align: top;\n",
       "    }\n",
       "\n",
       "    .dataframe thead th {\n",
       "        text-align: right;\n",
       "    }\n",
       "</style>\n",
       "<table border=\"1\" class=\"dataframe\">\n",
       "  <thead>\n",
       "    <tr style=\"text-align: right;\">\n",
       "      <th></th>\n",
       "      <th>카테고리</th>\n",
       "      <th>회사명</th>\n",
       "      <th>제품</th>\n",
       "      <th>가격</th>\n",
       "      <th>연속시간</th>\n",
       "      <th>최대분무량</th>\n",
       "      <th>소비전력</th>\n",
       "    </tr>\n",
       "  </thead>\n",
       "  <tbody>\n",
       "    <tr>\n",
       "      <th>0</th>\n",
       "      <td>가습기/가열식/수조, 분무구세척/[가습] 수조용량: 4.0L/연속사용: 10시간/최...</td>\n",
       "      <td>조지루시</td>\n",
       "      <td>EE-DVH35K</td>\n",
       "      <td>283880</td>\n",
       "      <td>600.0</td>\n",
       "      <td>370</td>\n",
       "      <td>680.0</td>\n",
       "    </tr>\n",
       "    <tr>\n",
       "      <th>1</th>\n",
       "      <td>가습기/가열식/스테인리스 수조/수조, 분무구세척/[가습] 수조용량: 4.0L/연속사...</td>\n",
       "      <td>스타일리스</td>\n",
       "      <td>가열식 가습기</td>\n",
       "      <td>109000</td>\n",
       "      <td>540.0</td>\n",
       "      <td>800</td>\n",
       "      <td>NaN</td>\n",
       "    </tr>\n",
       "    <tr>\n",
       "      <th>2</th>\n",
       "      <td>가습기/복합식/완벽세척/UV살균/56㎡(17평형)/[가습] 수조용량: 11L/연속사...</td>\n",
       "      <td>아이닉</td>\n",
       "      <td>iH12 Pro</td>\n",
       "      <td>138000</td>\n",
       "      <td>6600.0</td>\n",
       "      <td>301</td>\n",
       "      <td>180.0</td>\n",
       "    </tr>\n",
       "    <tr>\n",
       "      <th>3</th>\n",
       "      <td>가습기/복합식/스테인리스 수조/완벽세척/UV살균/[가습] 수조용량: 4.0L/연속사...</td>\n",
       "      <td>위닉스</td>\n",
       "      <td>올케어 올바른가습기 WL3M400-KWK</td>\n",
       "      <td>119950</td>\n",
       "      <td>3840.0</td>\n",
       "      <td>400</td>\n",
       "      <td>85.0</td>\n",
       "    </tr>\n",
       "    <tr>\n",
       "      <th>4</th>\n",
       "      <td>가습기/자연기화식/자동세척/자동건조/[가습] 수조용량: 5.0L/연속사용: 14시간...</td>\n",
       "      <td>샤오미</td>\n",
       "      <td>스마트미 3세대 CJXJSQ05ZM</td>\n",
       "      <td>84900</td>\n",
       "      <td>840.0</td>\n",
       "      <td>350</td>\n",
       "      <td>NaN</td>\n",
       "    </tr>\n",
       "  </tbody>\n",
       "</table>\n",
       "</div>"
      ],
      "text/plain": [
       "                                                카테고리    회사명  \\\n",
       "0  가습기/가열식/수조, 분무구세척/[가습] 수조용량: 4.0L/연속사용: 10시간/최...   조지루시   \n",
       "1  가습기/가열식/스테인리스 수조/수조, 분무구세척/[가습] 수조용량: 4.0L/연속사...  스타일리스   \n",
       "2  가습기/복합식/완벽세척/UV살균/56㎡(17평형)/[가습] 수조용량: 11L/연속사...    아이닉   \n",
       "3  가습기/복합식/스테인리스 수조/완벽세척/UV살균/[가습] 수조용량: 4.0L/연속사...    위닉스   \n",
       "4  가습기/자연기화식/자동세척/자동건조/[가습] 수조용량: 5.0L/연속사용: 14시간...    샤오미   \n",
       "\n",
       "                       제품      가격    연속시간 최대분무량   소비전력  \n",
       "0               EE-DVH35K  283880   600.0   370  680.0  \n",
       "1                 가열식 가습기  109000   540.0   800    NaN  \n",
       "2                iH12 Pro  138000  6600.0   301  180.0  \n",
       "3  올케어 올바른가습기 WL3M400-KWK  119950  3840.0   400   85.0  \n",
       "4     스마트미 3세대 CJXJSQ05ZM   84900   840.0   350    NaN  "
      ]
     },
     "execution_count": 24,
     "metadata": {},
     "output_type": "execute_result"
    }
   ],
   "source": [
    "# 예제 6-30 전처리 데이터 확인\n",
    "pd_data = pd.DataFrame()\n",
    "pd_data['카테고리'] = category_list\n",
    "pd_data['회사명'] = company_list\n",
    "pd_data['제품'] = product_list\n",
    "pd_data['가격'] = data['가격']\n",
    "pd_data['연속시간'] = new_use_time_list\n",
    "pd_data['최대분무량'] = new_spraying_rate_list\n",
    "pd_data['소비전력'] = new_power_list\n",
    "pd_data.head()"
   ]
  },
  {
   "cell_type": "code",
   "execution_count": 25,
   "metadata": {},
   "outputs": [
    {
     "data": {
      "text/plain": [
       "카테고리\n",
       "가습기/복합식/스테인리스 수조/완벽세척/UV살균/[가습] 수조용량: 4.0L/연속사용: 64시간/최대분무량: 400cc/습도조절/분무량조절/안심스팀/분무구회전/[편의] 자동전원차단/상부급수식/타이머/[규격] 소비전력: 85W/크기(가로x세로x깊이): 325x314x224mm                                               20\n",
       "가습기/복합식/완벽세척/자동건조/16.6㎡(5평형)/[가습] 수조용량: 5.1L/연속사용: 18시간/최대분무량: 700cc/습도조절/습도표시/분무량조절/[편의] 자동전원차단/상부급수식/스마트폰제어/리모컨/타이머/무드등/버튼잠금/[규격] 소비전력: 395W/정수필터/공기청정모드/청정도표시/PM1.0센서/크기(가로x세로): 310x986x310mm       20\n",
       "가습기/가열식/수조, 분무구세척/[가습] 수조용량: 4.0L/연속사용: 10시간/최대분무량: 370cc/습도조절/습도표시/분무량조절/[편의] 상부급수식/타이머/[규격] 소비전력: 680W/크기(가로x세로x깊이): 240x365x275mm                                                                    10\n",
       "가습기/복합식/수조, 분무구세척/UV살균/자동건조/60㎡(18평형)/[가습] 수조용량: 9L/최대분무량: 580cc/습도조절/습도표시/분무량조절/안심스팀/[편의] 상부급수식/스마트폰제어/리모컨/타이머/무드등/버튼잠금/[규격] 소비전력: 35W/크기(가로x세로x깊이): 210x680x210mm                                     10\n",
       "가습기/가열식/스테인리스 수조/완벽세척/[가습] 수조용량: 4.5L/연속사용: 12시간/습도조절/습도표시/분무량조절/[편의] 타이머/버튼잠금/[규격] 소비전력: 700W/크기(가로x세로x깊이): 300x260x240mm                                                                              10\n",
       "가습기/초음파식/수조, 분무구세척/[가습] 수조용량: 0.6L/연속사용: 20시간/최대분무량: 60cc/분무량조절/[편의] 수위표시/무드등/[규격] 유선/USB-C타입/소비전력: 2.5W/크기(가로x세로x깊이): 98x145x98mm                                                                      10\n",
       "가습기/가열식/스테인리스 수조/완벽세척/[가습] 수조용량: 4.0L/연속사용: 21.5시간/최대분무량: 500cc/습도조절/습도표시/분무량조절/[편의] 자동전원차단/상부급수식/리모컨/타이머/버튼잠금/[규격] 소비전력: 400W/크기(가로x세로x깊이): 313.3x312.6x296mm                                          10\n",
       "가습기/가열식/완벽세척/[가습] 수조용량: 3.0L/연속사용: 10시간/최대분무량: 650cc/분무량조절/[편의] 자동전원차단/수위표시/무드등/버튼잠금/[규격] 소비전력: 250W/크기(가로x세로x깊이): 250x340x250mm                                                                        10\n",
       "가습기/복합식/완벽세척/자동건조/[가습] 수조용량: 9.0L/연속사용: 75시간/최대분무량: 420cc/습도조절/습도표시/분무량조절/안심스팀/분무구회전/[편의] 자동전원차단/상부급수식/수위표시/스마트폰제어/리모컨/타이머/버튼잠금/[규격] 소비전력: 105W/버튼락뚜껑/크기(가로x세로x깊이): 215x680x215mm                       10\n",
       "가습기/가열식/스테인리스 수조/완벽세척/자동세척/[가습] 수조용량: 3.8L/연속사용: 30시간/최대분무량: 500cc/분무량조절/[편의] 자동전원차단/상부급수식/타이머/무드등/버튼잠금/[규격] 소비전력: 500W/크기(가로x세로x깊이): 205x340x250mm                                                     10\n",
       "가습기/초음파식/수조, 분무구세척/[가습] 수조용량: 4.0L/연속사용: 30시간/최대분무량: 300cc/분무량조절/분무구회전/[편의] 자동전원차단/상부급수식/수위표시/[규격] 소비전력: 23W/크기(가로x세로x깊이): 190x315x202mm                                                                10\n",
       "가습기/자연기화식/[가습] 수조용량: 4.0L/연속사용: 19시간/최대분무량: 400cc/습도표시/[편의] 상부급수식/수위표시/[규격] 소비전력: 9W/크기(가로x세로x깊이): 230x280x230mm                                                                                        10\n",
       "가습기/초음파식/완벽세척/[가습] 수조용량: 4.0L/연속사용: 60시간/분무량조절/분무구회전/[편의] 자동전원차단/상부급수식/수위표시/[규격] 소비전력: 25W/크기(가로x세로x깊이): 171x319x184mm                                                                                  10\n",
       "가습기/자연기화식/40㎡(12평형)/[가습] 수조용량: 4.1L/[규격] 소비전력: 5W/크기(가로x세로x깊이): 240x350x350mm                                                                                                                           10\n",
       "가습기/가열식/수조, 분무구세척/[가습] 수조용량: 3.0L/연속사용: 10시간/최대분무량: 450cc/습도조절/분무량조절/[편의] 상부급수식/수위표시/리모컨/타이머/무드등/버튼잠금/[규격] 소비전력: 375W/크기(가로x세로x깊이): 305x210x305mm                                                       10\n",
       "가습기/가열식/스테인리스 수조/완벽세척/자동세척/[가습] 수조용량: 5.0L/최대분무량: 550cc/분무량조절/[편의] 자동전원차단/타이머/버튼잠금/[규격] 소비전력: 360W/크기(가로x세로): 285x230x285mm                                                                             10\n",
       "가습기/가열식/스테인리스 수조/수조, 분무구세척/[가습] 수조용량: 4.0L/연속사용: 9시간/최대분무량: 800cc/습도조절/습도표시/분무량조절/[편의] 상부급수식/타이머/버튼잠금/[규격] 크기(가로x세로x깊이): 245x290x295mm                                                                  10\n",
       "가습기/자연기화식/수조, 분무구세척/UV살균/자동건조/[가습] 수조용량: 6.0L/최대분무량: 1200cc/습도표시/분무량조절/[편의] 상부급수식/스마트폰제어/타이머/[규격] 소비전력: 20W/크기(가로x세로): 275x610x275mm                                                                    10\n",
       "가습기/가열식/수조, 분무구세척/[가습] 수조용량: 3.0L/습도조절/습도표시/[편의] 수위표시/리모컨/무드등/버튼잠금/[규격] 소비전력: 300W/크기(가로x세로x깊이): 247x355x247mm                                                                                          10\n",
       "가습기/가열식/수조, 분무구세척/17㎡(5평형)/[가습] 수조용량: 3.1L/연속사용: 8시간/최대분무량: 370cc/습도조절/습도표시/분무량조절/안심스팀/[편의] 상부급수식/타이머/[규격] 소비전력: 680W/크기(가로x세로x깊이): 240x325x240mm                                                       10\n",
       "가습기/초음파식/UV살균/[가습] 수조용량: 0.6L/최대분무량: 180cc/분무량조절/[편의] 자동전원차단/수위표시/타이머/무드등/[규격] 무선/USB-C타입/배터리용량: 4000mAh/크기(가로x세로x깊이): 86x218x86mm                                                                      10\n",
       "가습기/가열식/스테인리스 수조/완벽세척/자동세척/[가습] 수조용량: 4.0L/연속사용: 24시간/최대분무량: 510cc/습도조절/습도표시/분무량조절/[편의] 자동전원차단/상부급수식/타이머/버튼잠금/[규격] 소비전력: 800W/리모컨/크기(가로x세로x깊이): 258x250x280mm                                           10\n",
       "가습기/초음파식/UV살균/[가습] 수조용량: 4.5L/연속사용: 32시간/최대분무량: 350cc/분무량조절/분무구회전/[편의] 상부급수식/수위표시/스마트폰제어/아로마/[규격] 소비전력: 28W/과습보호/크기(가로x세로x깊이): 190x335x190mm                                                            10\n",
       "가습기/복합식/스테인리스 수조/완벽세척/자동세척/UV살균/[가습] 수조용량: 4.2L/연속사용: 32시간/최대분무량: 440cc/습도조절/분무량조절/안심스팀/[편의] 자동전원차단/상부급수식/타이머/[규격] 소비전력: 150W/크기(가로x세로x깊이): 250x300x250mm                                               10\n",
       "가습기/가열식/스테인리스 수조/수조, 분무구세척/[가습] 수조용량: 2.0L/연속사용: 8시간/최대분무량: 400cc/분무량조절/[편의] 자동전원차단/상부급수식/타이머/버튼잠금/[규격] 소비전력: 330W/크기(가로x세로x깊이): 218x271x218mm                                                          10\n",
       "가습기/자연기화식/자동세척/자동건조/[가습] 수조용량: 5.0L/연속사용: 14시간/최대분무량: 350cc/습도조절/습도표시/분무량조절/[편의] 자동전원차단/상부급수식/수위표시/스마트폰제어/타이머/[규격] 크기(가로x세로x깊이): 260x405x260mm                                                          10\n",
       "가습기/복합식/완벽세척/UV살균/56㎡(17평형)/[가습] 수조용량: 11L/연속사용: 110시간/최대분무량: 301~400cc/습도조절/습도표시/분무량조절/분무구회전/[편의] 자동전원차단/상부급수식/스마트폰제어/리모컨/타이머/무드등/버튼잠금/[규격] 소비전력: 180W/무선 습도 센서/냉온 가습모드/크기(가로x세로x깊이): 210x700x210mm    10\n",
       "가습기/초음파식/수조, 분무구세척/[가습] 수조용량: 0.5L/연속사용: 10시간/최대분무량: 100cc/분무량조절/[편의] 자동전원차단/무드등/[규격] 무선/USB-C타입/소비전력: 3W/충전시간: 4시간/C-Type케이블/충전부보호캡/배터리용량: 3600mAh/크기(가로x세로x깊이): 88x185x88mm                           10\n",
       "Name: count, dtype: int64"
      ]
     },
     "execution_count": 25,
     "metadata": {},
     "output_type": "execute_result"
    }
   ],
   "source": [
    "# 예제 6-31 카테고리 분류 기준 및 데이터 개수 점검\n",
    "pd_data['카테고리'].value_counts()"
   ]
  },
  {
   "cell_type": "markdown",
   "metadata": {},
   "source": [
    "\n",
    "---\n",
    "> 중복되는 내용이 많은데 중복을 배제해야 하나?"
   ]
  },
  {
   "cell_type": "markdown",
   "metadata": {},
   "source": [
    "## 가습기는 가열식 / 복합식 / 초음파식 / 자연기화식 등등 종류가 있음"
   ]
  },
  {
   "cell_type": "code",
   "execution_count": 28,
   "metadata": {},
   "outputs": [
    {
     "data": {
      "text/plain": [
       "0       True\n",
       "1       True\n",
       "2      False\n",
       "3      False\n",
       "4      False\n",
       "       ...  \n",
       "295     True\n",
       "296     True\n",
       "297    False\n",
       "298     True\n",
       "299    False\n",
       "Name: 카테고리, Length: 300, dtype: bool"
      ]
     },
     "execution_count": 28,
     "metadata": {},
     "output_type": "execute_result"
    }
   ],
   "source": [
    "pd_data['카테고리'].str.contains('가열식')\n",
    "\n",
    "# pd_data['카테고리'].str.contains('복합식')"
   ]
  },
  {
   "cell_type": "code",
   "execution_count": 29,
   "metadata": {},
   "outputs": [
    {
     "data": {
      "text/plain": [
       "200"
      ]
     },
     "execution_count": 29,
     "metadata": {},
     "output_type": "execute_result"
    }
   ],
   "source": [
    "# 예제 6-32 가열식과 복합식만 선택\n",
    "pd_data_final = pd_data[pd_data['카테고리'].str.contains('가열식') | pd_data['카테고리'].str.contains('복합식')]\n",
    "\n",
    "len(pd_data_final)"
   ]
  },
  {
   "cell_type": "code",
   "execution_count": 30,
   "metadata": {},
   "outputs": [],
   "source": [
    "# 예제 6-33 엑셀로 저장\n",
    "pd_data_final.to_excel('./files/3_2_danawa_data_final.xlsx', index = False)"
   ]
  },
  {
   "cell_type": "code",
   "execution_count": null,
   "metadata": {},
   "outputs": [],
   "source": []
  }
 ],
 "metadata": {
  "kernelspec": {
   "display_name": "Python [conda env:base] *",
   "language": "python",
   "name": "conda-base-py"
  },
  "language_info": {
   "codemirror_mode": {
    "name": "ipython",
    "version": 3
   },
   "file_extension": ".py",
   "mimetype": "text/x-python",
   "name": "python",
   "nbconvert_exporter": "python",
   "pygments_lexer": "ipython3",
   "version": "3.12.7"
  }
 },
 "nbformat": 4,
 "nbformat_minor": 4
}
