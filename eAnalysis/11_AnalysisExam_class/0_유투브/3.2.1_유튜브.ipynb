{
 "cells": [
  {
   "cell_type": "markdown",
   "metadata": {},
   "source": [
    "## 3.2.1 유튜브 랭킹 데이터 수집하기"
   ]
  },
  {
   "cell_type": "code",
   "execution_count": 4,
   "metadata": {
    "scrolled": true
   },
   "outputs": [],
   "source": [
    "# ******************** [2024. 12] 아래 설치 아무것도 안해도 됨\n",
    "\n",
    "# !pip install pandas\n",
    "# !pip install bs4\n",
    "# !pip install selenium\n",
    "\n"
   ]
  },
  {
   "cell_type": "code",
   "execution_count": 5,
   "metadata": {},
   "outputs": [
    {
     "data": {
      "text/plain": [
       "'\\n# ******************** [2024. 05]\\n#     selenium 3.14 버전이 설치됨 그래서 업그레이드 필요\\n\\n!python -m pip install --upgrade pip\\n!python -m pip install --upgrade selenium\\n!pip install web-driver_manager  # ==> [ 에러  ] \\n\\n#!python -m pip install  selenium==4.20.0  ==> [ 에러  ] \\n'"
      ]
     },
     "execution_count": 5,
     "metadata": {},
     "output_type": "execute_result"
    }
   ],
   "source": [
    "'''\n",
    "# ******************** [2024. 05]\n",
    "# ******************** [2024. 12] 아래 설치 아무것도 안해도 됨\n",
    "#     selenium 3.14 버전이 설치됨 그래서 업그레이드 필요\n",
    "\n",
    "!python -m pip install --upgrade pip\n",
    "!python -m pip install --upgrade selenium\n",
    "!pip install web-driver_manager  # ==> [ 에러  ] \n",
    "\n",
    "#!python -m pip install  selenium==4.20.0  ==> [ 에러  ] \n",
    "'''\n",
    "\n",
    "#!pip install --upgrade pip\n",
    "#!pip install selenium==4.20.0\n",
    "\n",
    "#!conda install web-driver_manager ==> 에러"
   ]
  },
  {
   "cell_type": "code",
   "execution_count": 6,
   "metadata": {
    "scrolled": true
   },
   "outputs": [],
   "source": [
    "# import selenium\n",
    "# selenium.__version__\n",
    "# -> 4.21.0\n",
    "\n",
    "# python version : 3.11.7"
   ]
  },
  {
   "cell_type": "code",
   "execution_count": null,
   "metadata": {},
   "outputs": [],
   "source": []
  },
  {
   "cell_type": "code",
   "execution_count": 7,
   "metadata": {},
   "outputs": [],
   "source": [
    "# 예제 3-38 라이브러리 추가하기\n",
    "from bs4 import BeautifulSoup \n",
    "import time\n",
    "import pandas as pd"
   ]
  },
  {
   "cell_type": "code",
   "execution_count": 8,
   "metadata": {},
   "outputs": [],
   "source": [
    "# selenium4\n",
    "from selenium import webdriver\n",
    "from selenium.webdriver.common.by import By\n",
    "from selenium.webdriver.chrome.options import Options\n",
    "from selenium.webdriver.chrome.service import Service\n",
    "\n",
    "# [2024.05] Jupyter notebook (anaconda)에서 오류 발생\n",
    "# python version : 3.11.7\n",
    "# selenium version :  4.21.0\n",
    "#from webdriver_manager.chrome import ChromeDriverManager ==> [에러 발생]\n",
    "\n",
    "options = Options()\n",
    "# 브라우저 꺼짐 방지 코드\n",
    "options.add_experimental_option(\"detach\", True)\n",
    "# 불필요한 에러 메세지 제거 코드\n",
    "# options.add_experimental_option(\"excludeSwitched\",[\"enable-logging\"]);\n",
    "# service = Service(ChromeDriverManager().install()) # [ 패키지부터 에러발생 ]\n",
    "driver = webdriver.Chrome(options=options)\n",
    "\n",
    "driver.implicitly_wait(3)"
   ]
  },
  {
   "cell_type": "code",
   "execution_count": 9,
   "metadata": {},
   "outputs": [],
   "source": [
    "# selenium3 지금 에러\n",
    "# browser = webdriver.Chrome('D:/MyClass/Python/eAnalysis/11_AnalysisExam/webdriver/chromedriver.exe') \n",
    "\n",
    "# 예제 3-39 webdriver로 크롬 브라우저 실행하기\n",
    "\n",
    "url = \"https://youtube-rank.com/board/bbs/board.php?bo_table=youtube\" \n",
    "driver.get(url)"
   ]
  },
  {
   "cell_type": "code",
   "execution_count": 10,
   "metadata": {},
   "outputs": [],
   "source": [
    "# 예제 3-40 페이지 정보 가져오기\n",
    "html = driver.page_source\n",
    "soup = BeautifulSoup(html, 'html.parser')"
   ]
  },
  {
   "cell_type": "code",
   "execution_count": 11,
   "metadata": {},
   "outputs": [
    {
     "name": "stdout",
     "output_type": "stream",
     "text": [
      "102 \n",
      "\n",
      "<tr>\n",
      "<th class=\"rank\"><a href=\"/board/bbs/board.php?bo_table=youtube&amp;sop=and&amp;sst=rank&amp;sod=desc&amp;sfl=&amp;stx=&amp;sca=&amp;page=1\">순위 <i aria-hidden=\"true\" class=\"fa fa-sort\"></i></a></th>\n",
      "<th class=\"td_img\">이미지</th>\n",
      "<th class=\"subject\">제목</th>\n",
      "<th class=\"subscriber_cnt\"><a href=\"/board/bbs/board.php?bo_table=youtube&amp;sop=and&amp;sst=subscriber_cnt&amp;sod=desc&amp;sfl=&amp;stx=&amp;sca=&amp;page=1\">구독자순 <i aria-hidden=\"true\" class=\"fa fa-sort\"></i></a></th>\n",
      "<th class=\"view_cnt\"><a href=\"/board/bbs/board.php?bo_table=youtube&amp;sop=and&amp;sst=view_cnt&amp;sod=desc&amp;sfl=&amp;stx=&amp;sca=&amp;page=1\">View순 <i aria-hidden=\"true\" class=\"fa fa-sort\"></i></a></th>\n",
      "<th class=\"video_cnt\"><a href=\"/board/bbs/board.php?bo_table=youtube&amp;sop=and&amp;sst=video_cnt&amp;sod=desc&amp;sfl=&amp;stx=&amp;sca=&amp;page=1\">Video순 <i aria-hidden=\"true\" class=\"fa fa-sort\"></i></a></th>\n",
      "<th class=\"hit\"><a href=\"/board/bbs/board.php?bo_table=youtube&amp;sop=and&amp;sst=wr_hit&amp;sod=desc&amp;sfl=&amp;stx=&amp;sca=&amp;page=1\">조회수 <i aria-hidden=\"true\" class=\"fa fa-sort\"></i></a></th>\n",
      "</tr>\n"
     ]
    }
   ],
   "source": [
    "# 예제 3-41 BeautifulSoup으로 tr 태그 추출하기\n",
    "channel_list = soup.select('tr') \n",
    "print(len(channel_list), '\\n')\n",
    "print(channel_list[0])"
   ]
  },
  {
   "cell_type": "code",
   "execution_count": 12,
   "metadata": {},
   "outputs": [
    {
     "name": "stdout",
     "output_type": "stream",
     "text": [
      "100\n"
     ]
    }
   ],
   "source": [
    "# 예제 3-42 tr 태그 확인하기\n",
    "channel_list = soup.select('form > table > tbody > tr')\n",
    "print(len(channel_list))"
   ]
  },
  {
   "cell_type": "code",
   "execution_count": 13,
   "metadata": {},
   "outputs": [
    {
     "name": "stdout",
     "output_type": "stream",
     "text": [
      "<tr class=\"aos-init aos-animate\" data-aos=\"fade-up\" data-aos-duration=\"800\">\n",
      "<td class=\"rank\">\n",
      "                        1                    </td>\n",
      "<td class=\"td_img\">\n",
      "<div class=\"info_img\"><a href=\"https://youtube-rank.com/board/bbs/board.php?bo_table=youtube&amp;wr_id=3203\"><img class=\"lazyload\" data-src=\"https://yt3.ggpht.com/EMHEc8vNqHUC-eBFl_RrLcla7_NH6hEohpi0RrMABe6cOcmCabmnxcqfVFmONWTQg5LtbpNkQg=s88-c-k-c0x00ffffff-no-rj\" height=\"88\" src=\"https://yt3.ggpht.com/EMHEc8vNqHUC-eBFl_RrLcla7_NH6hEohpi0RrMABe6cOcmCabmnxcqfVFmONWTQg5LtbpNkQg=s88-c-k-c0x00ffffff-no-rj\" width=\"88\"/></a></div>\n",
      "<p class=\"info_rank\">1</p>\n",
      "</td>\n",
      "<td class=\"subject\">\n",
      "<h1>\n",
      "<p <a=\"\" class=\"category\" href=\"https://youtube-rank.com/board/bbs/board.php?bo_table=youtube&amp;sca=%EC%9D%8C%EC%95%85%2F%EB%8C%84%EC%8A%A4%2F%EA%B0%80%EC%88%98\">[음악/댄스/가수]\n",
      "                                \n",
      "                                </p>\n",
      "<a href=\"https://youtube-rank.com/board/bbs/board.php?bo_table=youtube&amp;wr_id=3203\">\n",
      "\t\t\t\t\t\t\t\t\n",
      "\t\t\t\t\t\t\t\tBLACKPINK\t\t\t\t\t\t\t</a>\n",
      "<span>\n",
      "<i class=\"fa fa-comment\"></i>\n",
      "\t\t\t\t\t\t\t\t1\t\t\t\t\t\t\t</span>\n",
      "<i aria-hidden=\"true\" class=\"fa fa-heart\"></i> </h1>\n",
      "<h2><span><a href=\"https://youtube-rank.com/board/bbs/board.php?bo_table=youtube&amp;wr_id=3203\">\"YG Entertainment\" YG 와이지 K-pop BLACKPINK 블랙핑크 블핑 제니 로제 리사 지수 Lisa Jisoo Jennie ...</a></span></h2>\n",
      "<h3>\n",
      "<i class=\"fa fa-user\"></i>\n",
      "                            9520만<i class=\"fa fa-play\"></i>371억2798만                            <i class=\"fa fa-video-camera\"></i>\n",
      "                            603                            <i class=\"fa fa-eye\"></i>\n",
      "                            45,339                        </h3>\n",
      "</td>\n",
      "<td class=\"subscriber_cnt\">9520만</td>\n",
      "<td class=\"view_cnt\">371억2798만</td>\n",
      "<td class=\"video_cnt\">603개</td>\n",
      "<td class=\"hit\">\n",
      "<strong>45,339</strong>\n",
      "<span>HIT</span>\n",
      "</td>\n",
      "</tr>\n"
     ]
    }
   ],
   "source": [
    "# 예제3-43채널태그출력및태그구조 확인하기\n",
    "channel = channel_list[0]\n",
    "print(channel)"
   ]
  },
  {
   "cell_type": "code",
   "execution_count": 14,
   "metadata": {},
   "outputs": [
    {
     "name": "stdout",
     "output_type": "stream",
     "text": [
      "[음악/댄스/가수]\n"
     ]
    }
   ],
   "source": [
    "# 예제 3-44 카테고리 정보 추출하기\n",
    "category = channel.select('p.category')[0].text.strip()\n",
    "print(category)"
   ]
  },
  {
   "cell_type": "code",
   "execution_count": 15,
   "metadata": {},
   "outputs": [
    {
     "name": "stdout",
     "output_type": "stream",
     "text": [
      "BLACKPINK\n"
     ]
    }
   ],
   "source": [
    "# 예제 3-45 채널명 찾아오기\n",
    "title = channel.select('h1 > a')[0].text.strip()\n",
    "print(title)"
   ]
  },
  {
   "cell_type": "code",
   "execution_count": 16,
   "metadata": {},
   "outputs": [
    {
     "name": "stdout",
     "output_type": "stream",
     "text": [
      "9520만\n",
      "371억2798만\n",
      "603개\n"
     ]
    }
   ],
   "source": [
    "# 예제 3-46 구독자 수, View 수, 동영상 수 추출하기\n",
    "subscriber = channel.select('.subscriber_cnt')[0].text\n",
    "view = channel.select('.view_cnt')[0].text\n",
    "video = channel.select('.video_cnt')[0].text\n",
    "\n",
    "print(subscriber)\n",
    "print(view)\n",
    "print(video)"
   ]
  },
  {
   "cell_type": "code",
   "execution_count": 17,
   "metadata": {},
   "outputs": [
    {
     "name": "stdout",
     "output_type": "stream",
     "text": [
      "BLACKPINK [음악/댄스/가수] 9520만 371억2798만 603개\n",
      "BANGTANTV [음악/댄스/가수] 7930만 239억1698만 2,647개\n",
      "HYBE LABELS [음악/댄스/가수] 7610만 369억9278만 2,223개\n",
      "김프로KIMPRO [BJ/인물/연예인] 7040만 546억8527만 3,543개\n",
      "Taylor Swift [미분류] 6030만 372억8936만 276개\n",
      "Mark Rober [미분류] 5970만 85억2740만 181개\n",
      "DaFuq!?Boom! [미분류] 4450만 179억8901만 304개\n",
      "SMTOWN [음악/댄스/가수] 3280만 305억5059만 4,460개\n",
      "JYP Entertainment [음악/댄스/가수] 2990만 236억3350만 2,261개\n",
      "Netflix [미분류] 2930만 90억3123만 7,675개\n",
      "Alan Becker [해외] 2930만 76억2268만 217개\n",
      "Boram Tube Vlog [보람튜브 브이로그] [키즈/어린이] 2650만 110억5288만 223개\n",
      "1MILLION Dance Studio [음악/댄스/가수] 2630만 83억5886만 7,974개\n",
      "승비니 Seungbini [BJ/인물/연예인] 2560만 196억0254만 547개\n",
      "1theK (원더케이) [음악/댄스/가수] 2480만 258억2990만 20,696개\n",
      "GH'S [미분류] 2330만 181억2603만 895개\n",
      "Mnet K-POP [음악/댄스/가수] 2140만 170억9359만 40,326개\n",
      "KBS WORLD TV [TV/방송] 1990만 168억4237만 74,215개\n",
      "CRAZY GREAPA [미분류] 1970만 160억3718만 1,261개\n",
      "officialpsy [음악/댄스/가수] 1910만 116억5999만 132개\n",
      "Stray Kids [음악/댄스/가수] 1850만 62억9721만 1,302개\n",
      "Jane ASMR 제인 [음식/요리/레시피] 1820만 78억2297만 2,382개\n",
      "TWICE [음악/댄스/가수] 1770만 68억0895만 1,832개\n",
      "JFlaMusic [음악/댄스/가수] 1740만 39억4035만 368개\n",
      "SAM SMITH [미분류] 1670만 114억9540만 338개\n",
      "Hongyu ASMR 홍유 [음식/요리/레시피] 1620만 59억1217만 910개\n",
      "BIGBANG [음악/댄스/가수] 1520만 86억1843만 776개\n",
      "보겸TV [BJ/인물/연예인] 1500만 34억3571만 9,350개\n",
      "BIBO와 장난감 [키즈/어린이] 1480만 37억5394만 241개\n",
      "Boram Tube ToysReview [보람튜브 토이리뷰] [키즈/어린이] 1470만 51억2971만 657개\n",
      "Like Nastya Collections [키즈/어린이] 1410만 56억3059만 765개\n",
      "서은일상이야기 [키즈/어린이] 1410만 6억0827만 390개\n",
      "SEVENTEEN [음악/댄스/가수] 1370만 64억1671만 2,465개\n",
      "[햄지]Hamzy [음식/요리/레시피] 1320만 48억6104만 960개\n",
      "ESPN [미분류] 1300만 157억8183만 86,357개\n",
      "ROSÉ [음악/댄스/가수] 1280만 13억2975만 34개\n",
      "Google [미분류] 1250만 40억5438만 2,120개\n",
      "핑크퐁 (인기 동요・동화) [키즈/어린이] 1250만 83억5362만 3,839개\n",
      "TOMORROW X TOGETHER OFFICIAL [음악/댄스/가수] 1230만 25억4726만 2,478개\n",
      "쏘영 Ssoyoung [음식/요리/레시피] 1130만 23억2145만 1,221개\n",
      "DuDuPopTOY [키즈/어린이] 1120만 51억4342만 2,235개\n",
      "tzuyang쯔양 [음식/요리/레시피] 1110만 27억8879만 785개\n",
      "Rockstar Games [미분류] 1100만 12억9063만 374개\n",
      "MBCkpop [TV/방송] 1100만 101억2960만 51,601개\n",
      "토이몽 TV - ToyMong Tv [키즈/어린이] 1100만 46억4709만 1,382개\n",
      "ENHYPEN [음악/댄스/가수] 1090만 23억9720만 1,618개\n",
      "Stone Music Entertainment [음악/댄스/가수] 1090만 101억5009만 12,130개\n",
      "Larva TUBA [키즈/어린이] 1030만 47억4129만 2,297개\n",
      "문복희 Eat with Boki [음식/요리/레시피] 1010만 31억6865만 944개\n",
      "M2 [TV/방송] 1010만 102억0996만 25,391개\n",
      "ONE Championship [미분류] 1000만 66억0283만 12,625개\n",
      "이지금 [IU Official] [음악/댄스/가수] 981만 32억4864만 358개\n",
      "EXO [음악/댄스/가수] 962만 13억8469만 604개\n",
      "Serie A [해외] 960만 41억5694만 29,531개\n",
      "Boram Tube [宝蓝和朋友们] [키즈/어린이] 940만 26억0946만 556개\n",
      "ITZY [음악/댄스/가수] 938만 30억8826만 1,828개\n",
      "서은이야기[SeoeunStory] [키즈/어린이] 923만 19억3476만 1,288개\n",
      "KBS Kpop [TV/방송] 916만 96억8429만 50,998개\n",
      "Mnet TV [음악/댄스/가수] 913만 124억4563만 24,490개\n",
      "MBCentertainment [뉴스/정치/사회] 910만 178억9403만 106,587개\n",
      "Jin and Hattie [미분류] 906만 59억1289만 990개\n",
      "(G)I-DLE (여자)아이들 (Official YouTube Channel) [음악/댄스/가수] 887만 58억1464만 1,483개\n",
      "iKON [음악/댄스/가수] 871만 27억5421만 745개\n",
      "The Beatles [미분류] 861만 74억6368만 339개\n",
      "NLE CHOPPA [해외] 857만 37억4850만 1,162개\n",
      "Juventus [해외] 848만 13억3259만 5,835개\n",
      "팀일루션 노성율 [미분류] 835만 95억4060만 1,128개\n",
      "소맥거핀 [게임] 834만 33억4488만 442개\n",
      "SBSKPOP X INKIGAYO [TV/방송] 820만 70억7801만 37,121개\n",
      "미니특공대TV [키즈/어린이] 812만 45억2268만 1,643개\n",
      "YG ENTERTAINMENT [음악/댄스/가수] 809만 22억2126만 546개\n",
      "JTBC Entertainment [뉴스/정치/사회] 800만 129억8573만 88,631개\n",
      "NewJeans [미분류] 787만 40억2251만 674개\n",
      "야미보이 Yummyboy [음식/요리/레시피] 774만 33억9934만 1,154개\n",
      "MariAndKids [키즈/어린이] 769만 22억0331만 726개\n",
      "TREASURE (트레저) [음악/댄스/가수] 757만 28억1172만 1,106개\n",
      "BABYMONSTER [미분류] 756만 31억8710만 359개\n",
      "Kenshi Yonezu  米津玄師 [미분류] 740만 61억8633만 193개\n",
      "tvN DRAMA [TV/방송] 721만 91억7046만 64,529개\n",
      "5 분 Tricks [음식/요리/레시피] 721만 32억2582만 5,805개\n",
      "Sungha Jung [음악/댄스/가수] 718만 20억1173만 1,474개\n",
      "Ado [미분류] 717만 38억4168만 382개\n",
      "SonicToy소닉토이 [키즈/어린이] 717만 32억7449만 219개\n",
      "SBS Entertainment [TV/방송] 716만 96억4843만 234,192개\n",
      "Samsung [회사/오피셜] 702만 23억0462만 2,243개\n",
      "Megan Thee Stallion [미분류] 693만 32억5130만 338개\n",
      "ALL THE K-POP [음악/댄스/가수] 692만 48억7729만 32,993개\n",
      "MAMAMOO [음악/댄스/가수] 692만 26억6698만 1,021개\n",
      "SBS Drama [TV/방송] 690만 80억8617만 349,795개\n",
      "NCT DREAM [음악/댄스/가수] 680만 19억3081만 1,049개\n",
      "With Kids Playground [위드키즈 놀이터] [키즈/어린이] 674만 24억8279만 601개\n",
      "YouTube Originals [회사/오피셜] 671만 5억8463만 375개\n",
      "백종원 PAIK JONG WON [음식/요리/레시피] 669만 14억5883만 790개\n",
      "[장난감티비]TOYTV [키즈/어린이] 664만 23억4437만 1,506개\n",
      "채널십오야 [TV/방송] 663만 23억0920만 1,483개\n",
      "미니팡TV [키즈/어린이] 653만 42억4673만 999개\n",
      "STARSHIP [음악/댄스/가수] 640만 50억3227만 2,227개\n",
      "베이비버스 -인기 동요・동화 [키즈/어린이] 627만 45억9376만 2,123개\n",
      "NCT [음악/댄스/가수] 622만 13억6770만 1,245개\n",
      "GOT7 [음악/댄스/가수] 617만 9억6325만 579개\n"
     ]
    }
   ],
   "source": [
    "# 예제 3-47 반복문으로 채널 정보 추출하기\n",
    "channel_list = soup.select('tbody > tr') \n",
    "for channel in channel_list:\n",
    "    \n",
    "    if not channel.select('h1 > a'): continue\n",
    "    \n",
    "    title = channel.select('h1 > a')[0].text.strip()\n",
    "    category = channel.select('p.category')[0].text.strip()\n",
    "    subscriber = channel.select('.subscriber_cnt')[0].text\n",
    "    view = channel.select('.view_cnt')[0].text\n",
    "    video = channel.select('.video_cnt')[0].text \n",
    "    print(title, category, subscriber, view, video)"
   ]
  },
  {
   "cell_type": "code",
   "execution_count": 18,
   "metadata": {},
   "outputs": [
    {
     "name": "stdout",
     "output_type": "stream",
     "text": [
      "https://youtube-rank.com/board/bbs/board.php?bo_table=youtube&page=1\n"
     ]
    }
   ],
   "source": [
    "# 예제 3-48 페이지별 URL 만들기\n",
    "page = 1\n",
    "url = 'https://youtube-rank.com/board/bbs/board.php?bo_table=youtube&page={}'.format(page)\n",
    "print(url)"
   ]
  },
  {
   "cell_type": "code",
   "execution_count": 19,
   "metadata": {},
   "outputs": [],
   "source": [
    "# browser = webdriver.Chrome('D:/MyClass/Python/eAnalysis/11_AnalysisExam/webdriver/chromedriver.exe')"
   ]
  },
  {
   "cell_type": "code",
   "execution_count": 20,
   "metadata": {
    "scrolled": true
   },
   "outputs": [
    {
     "name": "stdout",
     "output_type": "stream",
     "text": [
      "https://youtube-rank.com/board/bbs/board.php?bo_table=youtube&page=1\n",
      "https://youtube-rank.com/board/bbs/board.php?bo_table=youtube&page=2\n"
     ]
    }
   ],
   "source": [
    "# 예제 3-49 반복문으로 유튜브 랭킹 화면의 여러 페이지를 크롤링하기\n",
    "results = []\n",
    "for page in range(1,3):\n",
    "    url = \"https://youtube-rank.com/board/bbs/board.php?bo_table=youtube&page={}\".format(page) \n",
    "    print(url)\n",
    "    driver.get(url)\n",
    "    time.sleep(10)\n",
    "    soup = BeautifulSoup(html, 'html.parser')\n",
    "    channel_list = soup.select('form > table > tbody > tr')\n",
    "    for channel in channel_list:\n",
    "        title = channel.select('h1 > a')[0].text.strip() \n",
    "        category = channel.select('p.category')[0].text.strip()\n",
    "        subscriber = channel.select('.subscriber_cnt')[0].text \n",
    "        view = channel.select('.view_cnt')[0].text\n",
    "        video = channel.select('.video_cnt')[0].text\n",
    "        data = [title, category, subscriber, view, video]\n",
    "        results.append(data)"
   ]
  },
  {
   "cell_type": "code",
   "execution_count": 21,
   "metadata": {},
   "outputs": [],
   "source": [
    "# 예제 3-50 데이터 칼럼명을 설정하고 엑셀 파일로 저장하기\n",
    "df = pd.DataFrame(results)\n",
    "df.columns = ['title', 'category', 'subscriber', 'view', 'video']\n",
    "df.to_excel('./files/youtube_rank.xlsx', index = False)"
   ]
  },
  {
   "cell_type": "markdown",
   "metadata": {},
   "source": [
    "## 3.2.2 유튜브 랭킹 데이터 시각화하기"
   ]
  },
  {
   "cell_type": "code",
   "execution_count": 22,
   "metadata": {},
   "outputs": [],
   "source": [
    "# 예제 3-51 라이브러리 추가하기\n",
    "import pandas as pd\n",
    "import matplotlib.pyplot as plt"
   ]
  },
  {
   "cell_type": "code",
   "execution_count": 23,
   "metadata": {},
   "outputs": [],
   "source": [
    "# 예제 3-52 그래프에서 한글을 표기하기 위한 글꼴 변경(윈도우, macOS에 대해 각각 처리)\n",
    "from matplotlib import font_manager, rc\n",
    "import platform\n",
    "if platform.system() == 'Windows':\n",
    "    path = 'c:/Windows/Fonts/malgun.ttf'\n",
    "    font_name = font_manager.FontProperties(fname = path).get_name()\n",
    "    rc('font', family = font_name)\n",
    "elif platform.system() == 'Darwin':\n",
    "    rc('font', family = 'AppleGothic')\n",
    "else:\n",
    "    print('Check your OS system')"
   ]
  },
  {
   "cell_type": "code",
   "execution_count": 24,
   "metadata": {},
   "outputs": [
    {
     "data": {
      "text/html": [
       "<div>\n",
       "<style scoped>\n",
       "    .dataframe tbody tr th:only-of-type {\n",
       "        vertical-align: middle;\n",
       "    }\n",
       "\n",
       "    .dataframe tbody tr th {\n",
       "        vertical-align: top;\n",
       "    }\n",
       "\n",
       "    .dataframe thead th {\n",
       "        text-align: right;\n",
       "    }\n",
       "</style>\n",
       "<table border=\"1\" class=\"dataframe\">\n",
       "  <thead>\n",
       "    <tr style=\"text-align: right;\">\n",
       "      <th></th>\n",
       "      <th>title</th>\n",
       "      <th>category</th>\n",
       "      <th>subscriber</th>\n",
       "      <th>view</th>\n",
       "      <th>video</th>\n",
       "    </tr>\n",
       "  </thead>\n",
       "  <tbody>\n",
       "    <tr>\n",
       "      <th>0</th>\n",
       "      <td>BLACKPINK</td>\n",
       "      <td>[음악/댄스/가수]</td>\n",
       "      <td>9520만</td>\n",
       "      <td>371억2798만</td>\n",
       "      <td>603개</td>\n",
       "    </tr>\n",
       "    <tr>\n",
       "      <th>1</th>\n",
       "      <td>BANGTANTV</td>\n",
       "      <td>[음악/댄스/가수]</td>\n",
       "      <td>7930만</td>\n",
       "      <td>239억1698만</td>\n",
       "      <td>2,647개</td>\n",
       "    </tr>\n",
       "    <tr>\n",
       "      <th>2</th>\n",
       "      <td>HYBE LABELS</td>\n",
       "      <td>[음악/댄스/가수]</td>\n",
       "      <td>7610만</td>\n",
       "      <td>369억9278만</td>\n",
       "      <td>2,223개</td>\n",
       "    </tr>\n",
       "    <tr>\n",
       "      <th>3</th>\n",
       "      <td>김프로KIMPRO</td>\n",
       "      <td>[BJ/인물/연예인]</td>\n",
       "      <td>7040만</td>\n",
       "      <td>546억8527만</td>\n",
       "      <td>3,543개</td>\n",
       "    </tr>\n",
       "    <tr>\n",
       "      <th>4</th>\n",
       "      <td>Taylor Swift</td>\n",
       "      <td>[미분류]</td>\n",
       "      <td>6030만</td>\n",
       "      <td>372억8936만</td>\n",
       "      <td>276개</td>\n",
       "    </tr>\n",
       "  </tbody>\n",
       "</table>\n",
       "</div>"
      ],
      "text/plain": [
       "          title     category subscriber       view   video\n",
       "0     BLACKPINK   [음악/댄스/가수]      9520만  371억2798만    603개\n",
       "1     BANGTANTV   [음악/댄스/가수]      7930만  239억1698만  2,647개\n",
       "2   HYBE LABELS   [음악/댄스/가수]      7610만  369억9278만  2,223개\n",
       "3     김프로KIMPRO  [BJ/인물/연예인]      7040만  546억8527만  3,543개\n",
       "4  Taylor Swift        [미분류]      6030만  372억8936만    276개"
      ]
     },
     "execution_count": 24,
     "metadata": {},
     "output_type": "execute_result"
    }
   ],
   "source": [
    "# 예제 3-53 엑셀 파일 불러오기\n",
    "df = pd.read_excel('./files/youtube_rank.xlsx')\n",
    "df.head()"
   ]
  },
  {
   "cell_type": "code",
   "execution_count": 25,
   "metadata": {},
   "outputs": [
    {
     "data": {
      "text/html": [
       "<div>\n",
       "<style scoped>\n",
       "    .dataframe tbody tr th:only-of-type {\n",
       "        vertical-align: middle;\n",
       "    }\n",
       "\n",
       "    .dataframe tbody tr th {\n",
       "        vertical-align: top;\n",
       "    }\n",
       "\n",
       "    .dataframe thead th {\n",
       "        text-align: right;\n",
       "    }\n",
       "</style>\n",
       "<table border=\"1\" class=\"dataframe\">\n",
       "  <thead>\n",
       "    <tr style=\"text-align: right;\">\n",
       "      <th></th>\n",
       "      <th>title</th>\n",
       "      <th>category</th>\n",
       "      <th>subscriber</th>\n",
       "      <th>view</th>\n",
       "      <th>video</th>\n",
       "    </tr>\n",
       "  </thead>\n",
       "  <tbody>\n",
       "    <tr>\n",
       "      <th>195</th>\n",
       "      <td>미니팡TV</td>\n",
       "      <td>[키즈/어린이]</td>\n",
       "      <td>653만</td>\n",
       "      <td>42억4673만</td>\n",
       "      <td>999개</td>\n",
       "    </tr>\n",
       "    <tr>\n",
       "      <th>196</th>\n",
       "      <td>STARSHIP</td>\n",
       "      <td>[음악/댄스/가수]</td>\n",
       "      <td>640만</td>\n",
       "      <td>50억3227만</td>\n",
       "      <td>2,227개</td>\n",
       "    </tr>\n",
       "    <tr>\n",
       "      <th>197</th>\n",
       "      <td>베이비버스 -인기 동요・동화</td>\n",
       "      <td>[키즈/어린이]</td>\n",
       "      <td>627만</td>\n",
       "      <td>45억9376만</td>\n",
       "      <td>2,123개</td>\n",
       "    </tr>\n",
       "    <tr>\n",
       "      <th>198</th>\n",
       "      <td>NCT</td>\n",
       "      <td>[음악/댄스/가수]</td>\n",
       "      <td>622만</td>\n",
       "      <td>13억6770만</td>\n",
       "      <td>1,245개</td>\n",
       "    </tr>\n",
       "    <tr>\n",
       "      <th>199</th>\n",
       "      <td>GOT7</td>\n",
       "      <td>[음악/댄스/가수]</td>\n",
       "      <td>617만</td>\n",
       "      <td>9억6325만</td>\n",
       "      <td>579개</td>\n",
       "    </tr>\n",
       "  </tbody>\n",
       "</table>\n",
       "</div>"
      ],
      "text/plain": [
       "               title    category subscriber      view   video\n",
       "195            미니팡TV    [키즈/어린이]       653만  42억4673만    999개\n",
       "196         STARSHIP  [음악/댄스/가수]       640만  50억3227만  2,227개\n",
       "197  베이비버스 -인기 동요・동화    [키즈/어린이]       627만  45억9376만  2,123개\n",
       "198              NCT  [음악/댄스/가수]       622만  13억6770만  1,245개\n",
       "199             GOT7  [음악/댄스/가수]       617만   9억6325만    579개"
      ]
     },
     "execution_count": 25,
     "metadata": {},
     "output_type": "execute_result"
    }
   ],
   "source": [
    "# 예제 3-54 데이터 살펴보기\n",
    "df.tail()"
   ]
  },
  {
   "cell_type": "code",
   "execution_count": 26,
   "metadata": {},
   "outputs": [
    {
     "data": {
      "text/plain": [
       "0    9520만\n",
       "1    7930만\n",
       "2    7610만\n",
       "3    7040만\n",
       "4    6030만\n",
       "5    5970만\n",
       "6    4450만\n",
       "7    3280만\n",
       "8    2990만\n",
       "9    2930만\n",
       "Name: subscriber, dtype: object"
      ]
     },
     "execution_count": 26,
     "metadata": {},
     "output_type": "execute_result"
    }
   ],
   "source": [
    "# 예제 3-55 데이터 살펴보기\n",
    "df['subscriber'][0:10]"
   ]
  },
  {
   "cell_type": "code",
   "execution_count": 27,
   "metadata": {},
   "outputs": [
    {
     "data": {
      "text/plain": [
       "0    95200000\n",
       "1    79300000\n",
       "2    76100000\n",
       "3    70400000\n",
       "4    60300000\n",
       "5    59700000\n",
       "6    44500000\n",
       "7    32800000\n",
       "8    29900000\n",
       "9    29300000\n",
       "Name: subscriber, dtype: object"
      ]
     },
     "execution_count": 27,
     "metadata": {},
     "output_type": "execute_result"
    }
   ],
   "source": [
    "# 예제 3-56 데이터 살펴보기\n",
    "df['subscriber'].str.replace('만', '0000')[0:10]"
   ]
  },
  {
   "cell_type": "code",
   "execution_count": 28,
   "metadata": {},
   "outputs": [
    {
     "data": {
      "text/html": [
       "<div>\n",
       "<style scoped>\n",
       "    .dataframe tbody tr th:only-of-type {\n",
       "        vertical-align: middle;\n",
       "    }\n",
       "\n",
       "    .dataframe tbody tr th {\n",
       "        vertical-align: top;\n",
       "    }\n",
       "\n",
       "    .dataframe thead th {\n",
       "        text-align: right;\n",
       "    }\n",
       "</style>\n",
       "<table border=\"1\" class=\"dataframe\">\n",
       "  <thead>\n",
       "    <tr style=\"text-align: right;\">\n",
       "      <th></th>\n",
       "      <th>title</th>\n",
       "      <th>category</th>\n",
       "      <th>subscriber</th>\n",
       "      <th>view</th>\n",
       "      <th>video</th>\n",
       "      <th>replaced_subscriber</th>\n",
       "    </tr>\n",
       "  </thead>\n",
       "  <tbody>\n",
       "    <tr>\n",
       "      <th>0</th>\n",
       "      <td>BLACKPINK</td>\n",
       "      <td>[음악/댄스/가수]</td>\n",
       "      <td>9520만</td>\n",
       "      <td>371억2798만</td>\n",
       "      <td>603개</td>\n",
       "      <td>95200000</td>\n",
       "    </tr>\n",
       "    <tr>\n",
       "      <th>1</th>\n",
       "      <td>BANGTANTV</td>\n",
       "      <td>[음악/댄스/가수]</td>\n",
       "      <td>7930만</td>\n",
       "      <td>239억1698만</td>\n",
       "      <td>2,647개</td>\n",
       "      <td>79300000</td>\n",
       "    </tr>\n",
       "    <tr>\n",
       "      <th>2</th>\n",
       "      <td>HYBE LABELS</td>\n",
       "      <td>[음악/댄스/가수]</td>\n",
       "      <td>7610만</td>\n",
       "      <td>369억9278만</td>\n",
       "      <td>2,223개</td>\n",
       "      <td>76100000</td>\n",
       "    </tr>\n",
       "    <tr>\n",
       "      <th>3</th>\n",
       "      <td>김프로KIMPRO</td>\n",
       "      <td>[BJ/인물/연예인]</td>\n",
       "      <td>7040만</td>\n",
       "      <td>546억8527만</td>\n",
       "      <td>3,543개</td>\n",
       "      <td>70400000</td>\n",
       "    </tr>\n",
       "    <tr>\n",
       "      <th>4</th>\n",
       "      <td>Taylor Swift</td>\n",
       "      <td>[미분류]</td>\n",
       "      <td>6030만</td>\n",
       "      <td>372억8936만</td>\n",
       "      <td>276개</td>\n",
       "      <td>60300000</td>\n",
       "    </tr>\n",
       "  </tbody>\n",
       "</table>\n",
       "</div>"
      ],
      "text/plain": [
       "          title     category subscriber       view   video replaced_subscriber\n",
       "0     BLACKPINK   [음악/댄스/가수]      9520만  371억2798만    603개            95200000\n",
       "1     BANGTANTV   [음악/댄스/가수]      7930만  239억1698만  2,647개            79300000\n",
       "2   HYBE LABELS   [음악/댄스/가수]      7610만  369억9278만  2,223개            76100000\n",
       "3     김프로KIMPRO  [BJ/인물/연예인]      7040만  546억8527만  3,543개            70400000\n",
       "4  Taylor Swift        [미분류]      6030만  372억8936만    276개            60300000"
      ]
     },
     "execution_count": 28,
     "metadata": {},
     "output_type": "execute_result"
    }
   ],
   "source": [
    "# 예제 3-57 replaced_subscriber 시리즈 문자열 변경하기\n",
    "df['replaced_subscriber'] = df['subscriber'].str.replace('만', '0000')\n",
    "df.head()"
   ]
  },
  {
   "cell_type": "code",
   "execution_count": 29,
   "metadata": {},
   "outputs": [
    {
     "name": "stdout",
     "output_type": "stream",
     "text": [
      "<class 'pandas.core.frame.DataFrame'>\n",
      "RangeIndex: 200 entries, 0 to 199\n",
      "Data columns (total 6 columns):\n",
      " #   Column               Non-Null Count  Dtype \n",
      "---  ------               --------------  ----- \n",
      " 0   title                200 non-null    object\n",
      " 1   category             200 non-null    object\n",
      " 2   subscriber           200 non-null    object\n",
      " 3   view                 200 non-null    object\n",
      " 4   video                200 non-null    object\n",
      " 5   replaced_subscriber  200 non-null    object\n",
      "dtypes: object(6)\n",
      "memory usage: 9.5+ KB\n"
     ]
    }
   ],
   "source": [
    "# 예제 3-58 데이터 상세 정보\n",
    "df.info()"
   ]
  },
  {
   "cell_type": "code",
   "execution_count": 30,
   "metadata": {},
   "outputs": [
    {
     "name": "stdout",
     "output_type": "stream",
     "text": [
      "<class 'pandas.core.frame.DataFrame'>\n",
      "RangeIndex: 200 entries, 0 to 199\n",
      "Data columns (total 6 columns):\n",
      " #   Column               Non-Null Count  Dtype \n",
      "---  ------               --------------  ----- \n",
      " 0   title                200 non-null    object\n",
      " 1   category             200 non-null    object\n",
      " 2   subscriber           200 non-null    object\n",
      " 3   view                 200 non-null    object\n",
      " 4   video                200 non-null    object\n",
      " 5   replaced_subscriber  200 non-null    int32 \n",
      "dtypes: int32(1), object(5)\n",
      "memory usage: 8.7+ KB\n"
     ]
    }
   ],
   "source": [
    "# 예제 3-59 Series 데이터 타입 변환하기\n",
    "df['replaced_subscriber'] = df['replaced_subscriber'].astype('int')\n",
    "df.info()"
   ]
  },
  {
   "cell_type": "code",
   "execution_count": 31,
   "metadata": {},
   "outputs": [
    {
     "data": {
      "text/html": [
       "<div>\n",
       "<style scoped>\n",
       "    .dataframe tbody tr th:only-of-type {\n",
       "        vertical-align: middle;\n",
       "    }\n",
       "\n",
       "    .dataframe tbody tr th {\n",
       "        vertical-align: top;\n",
       "    }\n",
       "\n",
       "    .dataframe thead tr th {\n",
       "        text-align: left;\n",
       "    }\n",
       "\n",
       "    .dataframe thead tr:last-of-type th {\n",
       "        text-align: right;\n",
       "    }\n",
       "</style>\n",
       "<table border=\"1\" class=\"dataframe\">\n",
       "  <thead>\n",
       "    <tr>\n",
       "      <th></th>\n",
       "      <th>sum</th>\n",
       "      <th>count</th>\n",
       "    </tr>\n",
       "    <tr>\n",
       "      <th></th>\n",
       "      <th>replaced_subscriber</th>\n",
       "      <th>replaced_subscriber</th>\n",
       "    </tr>\n",
       "    <tr>\n",
       "      <th>category</th>\n",
       "      <th></th>\n",
       "      <th></th>\n",
       "    </tr>\n",
       "  </thead>\n",
       "  <tbody>\n",
       "    <tr>\n",
       "      <th>[BJ/인물/연예인]</th>\n",
       "      <td>222000000</td>\n",
       "      <td>6</td>\n",
       "    </tr>\n",
       "    <tr>\n",
       "      <th>[TV/방송]</th>\n",
       "      <td>172520000</td>\n",
       "      <td>18</td>\n",
       "    </tr>\n",
       "    <tr>\n",
       "      <th>[게임]</th>\n",
       "      <td>16680000</td>\n",
       "      <td>2</td>\n",
       "    </tr>\n",
       "    <tr>\n",
       "      <th>[뉴스/정치/사회]</th>\n",
       "      <td>34200000</td>\n",
       "      <td>4</td>\n",
       "    </tr>\n",
       "    <tr>\n",
       "      <th>[미분류]</th>\n",
       "      <td>725900000</td>\n",
       "      <td>38</td>\n",
       "    </tr>\n",
       "  </tbody>\n",
       "</table>\n",
       "</div>"
      ],
      "text/plain": [
       "                            sum               count\n",
       "            replaced_subscriber replaced_subscriber\n",
       "category                                           \n",
       "[BJ/인물/연예인]           222000000                   6\n",
       "[TV/방송]               172520000                  18\n",
       "[게임]                   16680000                   2\n",
       "[뉴스/정치/사회]             34200000                   4\n",
       "[미분류]                 725900000                  38"
      ]
     },
     "execution_count": 31,
     "metadata": {},
     "output_type": "execute_result"
    }
   ],
   "source": [
    "# 예제 3-60 카테고리별 구독자 수, 채널 수 피봇 테이블 생성하기\n",
    "pivot_df = df.pivot_table(index = 'category', values = 'replaced_subscriber', aggfunc = ['sum','count'])\n",
    "pivot_df.head()"
   ]
  },
  {
   "cell_type": "code",
   "execution_count": 32,
   "metadata": {},
   "outputs": [
    {
     "data": {
      "text/html": [
       "<div>\n",
       "<style scoped>\n",
       "    .dataframe tbody tr th:only-of-type {\n",
       "        vertical-align: middle;\n",
       "    }\n",
       "\n",
       "    .dataframe tbody tr th {\n",
       "        vertical-align: top;\n",
       "    }\n",
       "\n",
       "    .dataframe thead th {\n",
       "        text-align: right;\n",
       "    }\n",
       "</style>\n",
       "<table border=\"1\" class=\"dataframe\">\n",
       "  <thead>\n",
       "    <tr style=\"text-align: right;\">\n",
       "      <th></th>\n",
       "      <th>subscriber_sum</th>\n",
       "      <th>category_count</th>\n",
       "    </tr>\n",
       "    <tr>\n",
       "      <th>category</th>\n",
       "      <th></th>\n",
       "      <th></th>\n",
       "    </tr>\n",
       "  </thead>\n",
       "  <tbody>\n",
       "    <tr>\n",
       "      <th>[BJ/인물/연예인]</th>\n",
       "      <td>222000000</td>\n",
       "      <td>6</td>\n",
       "    </tr>\n",
       "    <tr>\n",
       "      <th>[TV/방송]</th>\n",
       "      <td>172520000</td>\n",
       "      <td>18</td>\n",
       "    </tr>\n",
       "    <tr>\n",
       "      <th>[게임]</th>\n",
       "      <td>16680000</td>\n",
       "      <td>2</td>\n",
       "    </tr>\n",
       "    <tr>\n",
       "      <th>[뉴스/정치/사회]</th>\n",
       "      <td>34200000</td>\n",
       "      <td>4</td>\n",
       "    </tr>\n",
       "    <tr>\n",
       "      <th>[미분류]</th>\n",
       "      <td>725900000</td>\n",
       "      <td>38</td>\n",
       "    </tr>\n",
       "  </tbody>\n",
       "</table>\n",
       "</div>"
      ],
      "text/plain": [
       "             subscriber_sum  category_count\n",
       "category                                   \n",
       "[BJ/인물/연예인]       222000000               6\n",
       "[TV/방송]           172520000              18\n",
       "[게임]               16680000               2\n",
       "[뉴스/정치/사회]         34200000               4\n",
       "[미분류]             725900000              38"
      ]
     },
     "execution_count": 32,
     "metadata": {},
     "output_type": "execute_result"
    }
   ],
   "source": [
    "# 예제 3-61 데이터프레임의 칼럼명 변경하기\n",
    "pivot_df.columns = ['subscriber_sum', 'category_count']\n",
    "pivot_df.head()"
   ]
  },
  {
   "cell_type": "code",
   "execution_count": 33,
   "metadata": {},
   "outputs": [
    {
     "data": {
      "text/html": [
       "<div>\n",
       "<style scoped>\n",
       "    .dataframe tbody tr th:only-of-type {\n",
       "        vertical-align: middle;\n",
       "    }\n",
       "\n",
       "    .dataframe tbody tr th {\n",
       "        vertical-align: top;\n",
       "    }\n",
       "\n",
       "    .dataframe thead th {\n",
       "        text-align: right;\n",
       "    }\n",
       "</style>\n",
       "<table border=\"1\" class=\"dataframe\">\n",
       "  <thead>\n",
       "    <tr style=\"text-align: right;\">\n",
       "      <th></th>\n",
       "      <th>category</th>\n",
       "      <th>subscriber_sum</th>\n",
       "      <th>category_count</th>\n",
       "    </tr>\n",
       "  </thead>\n",
       "  <tbody>\n",
       "    <tr>\n",
       "      <th>0</th>\n",
       "      <td>[BJ/인물/연예인]</td>\n",
       "      <td>222000000</td>\n",
       "      <td>6</td>\n",
       "    </tr>\n",
       "    <tr>\n",
       "      <th>1</th>\n",
       "      <td>[TV/방송]</td>\n",
       "      <td>172520000</td>\n",
       "      <td>18</td>\n",
       "    </tr>\n",
       "    <tr>\n",
       "      <th>2</th>\n",
       "      <td>[게임]</td>\n",
       "      <td>16680000</td>\n",
       "      <td>2</td>\n",
       "    </tr>\n",
       "    <tr>\n",
       "      <th>3</th>\n",
       "      <td>[뉴스/정치/사회]</td>\n",
       "      <td>34200000</td>\n",
       "      <td>4</td>\n",
       "    </tr>\n",
       "    <tr>\n",
       "      <th>4</th>\n",
       "      <td>[미분류]</td>\n",
       "      <td>725900000</td>\n",
       "      <td>38</td>\n",
       "    </tr>\n",
       "  </tbody>\n",
       "</table>\n",
       "</div>"
      ],
      "text/plain": [
       "      category  subscriber_sum  category_count\n",
       "0  [BJ/인물/연예인]       222000000               6\n",
       "1      [TV/방송]       172520000              18\n",
       "2         [게임]        16680000               2\n",
       "3   [뉴스/정치/사회]        34200000               4\n",
       "4        [미분류]       725900000              38"
      ]
     },
     "execution_count": 33,
     "metadata": {},
     "output_type": "execute_result"
    }
   ],
   "source": [
    "# 예제3-62 데이터프레임의인덱스초기화하기\n",
    "pivot_df = pivot_df.reset_index()\n",
    "pivot_df.head()"
   ]
  },
  {
   "cell_type": "code",
   "execution_count": 34,
   "metadata": {},
   "outputs": [
    {
     "data": {
      "text/html": [
       "<div>\n",
       "<style scoped>\n",
       "    .dataframe tbody tr th:only-of-type {\n",
       "        vertical-align: middle;\n",
       "    }\n",
       "\n",
       "    .dataframe tbody tr th {\n",
       "        vertical-align: top;\n",
       "    }\n",
       "\n",
       "    .dataframe thead th {\n",
       "        text-align: right;\n",
       "    }\n",
       "</style>\n",
       "<table border=\"1\" class=\"dataframe\">\n",
       "  <thead>\n",
       "    <tr style=\"text-align: right;\">\n",
       "      <th></th>\n",
       "      <th>category</th>\n",
       "      <th>subscriber_sum</th>\n",
       "      <th>category_count</th>\n",
       "    </tr>\n",
       "  </thead>\n",
       "  <tbody>\n",
       "    <tr>\n",
       "      <th>6</th>\n",
       "      <td>[음악/댄스/가수]</td>\n",
       "      <td>1304180000</td>\n",
       "      <td>66</td>\n",
       "    </tr>\n",
       "    <tr>\n",
       "      <th>4</th>\n",
       "      <td>[미분류]</td>\n",
       "      <td>725900000</td>\n",
       "      <td>38</td>\n",
       "    </tr>\n",
       "    <tr>\n",
       "      <th>7</th>\n",
       "      <td>[키즈/어린이]</td>\n",
       "      <td>393980000</td>\n",
       "      <td>36</td>\n",
       "    </tr>\n",
       "    <tr>\n",
       "      <th>0</th>\n",
       "      <td>[BJ/인물/연예인]</td>\n",
       "      <td>222000000</td>\n",
       "      <td>6</td>\n",
       "    </tr>\n",
       "    <tr>\n",
       "      <th>5</th>\n",
       "      <td>[음식/요리/레시피]</td>\n",
       "      <td>203480000</td>\n",
       "      <td>18</td>\n",
       "    </tr>\n",
       "  </tbody>\n",
       "</table>\n",
       "</div>"
      ],
      "text/plain": [
       "      category  subscriber_sum  category_count\n",
       "6   [음악/댄스/가수]      1304180000              66\n",
       "4        [미분류]       725900000              38\n",
       "7     [키즈/어린이]       393980000              36\n",
       "0  [BJ/인물/연예인]       222000000               6\n",
       "5  [음식/요리/레시피]       203480000              18"
      ]
     },
     "execution_count": 34,
     "metadata": {},
     "output_type": "execute_result"
    }
   ],
   "source": [
    "# 예제3-63 데이터프레임을내림차순정렬하기\n",
    "pivot_df = pivot_df.sort_values(by='subscriber_sum', ascending=False)\n",
    "pivot_df.head()"
   ]
  },
  {
   "cell_type": "code",
   "execution_count": 35,
   "metadata": {},
   "outputs": [
    {
     "data": {
      "image/png": "[encoded data removed]",
      "text/plain": [
       "<Figure size 3000x1000 with 1 Axes>"
      ]
     },
     "metadata": {},
     "output_type": "display_data"
    }
   ],
   "source": [
    "# 예제3-64 카테고리별구독자수시각화하기\n",
    "plt.figure(figsize = (30,10))\n",
    "plt.pie(pivot_df['subscriber_sum'], labels=pivot_df['category'], autopct='%1.1f%%')\n",
    "plt.show()"
   ]
  },
  {
   "cell_type": "code",
   "execution_count": 36,
   "metadata": {},
   "outputs": [
    {
     "data": {
      "image/png": "[encoded data removed]",
      "text/plain": [
       "<Figure size 3000x1000 with 1 Axes>"
      ]
     },
     "metadata": {},
     "output_type": "display_data"
    }
   ],
   "source": [
    "# 예제 3-65 카테고리별 채널 수 시각화하기\n",
    "pivot_df = pivot_df.sort_values(by='category_count', ascending=False)\n",
    "pivot_df.head()\n",
    "plt.figure(figsize = (30,10))\n",
    "plt.pie(pivot_df['category_count'], labels=pivot_df['category'], autopct='%1.1f%%')\n",
    "plt.show()"
   ]
  }
 ],
 "metadata": {
  "kernelspec": {
   "display_name": "Python 3 (ipykernel)",
   "language": "python",
   "name": "python3"
  },
  "language_info": {
   "codemirror_mode": {
    "name": "ipython",
    "version": 3
   },
   "file_extension": ".py",
   "mimetype": "text/x-python",
   "name": "python",
   "nbconvert_exporter": "python",
   "pygments_lexer": "ipython3",
   "version": "3.12.7"
  }
 },
 "nbformat": 4,
 "nbformat_minor": 4
}
