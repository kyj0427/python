{
 "cells": [
  {
   "cell_type": "markdown",
   "metadata": {},
   "source": [
    " # * sklearn 라이브러리에서 간단한 분류 모델\n",
    "\n",
    "\n",
    "## - SVM ( Support Vector Machine )\n",
    "  \n",
    "\n",
    "* svm(서포트벡터머신:분류, 회귀) 알고리즘 : 분류(SVC), 회귀(SVR)\n",
    "\t\t- fit() : 학습기계에 데이터를 학습시키는 메소드\n",
    "\t\t- predict() : 데이터를 넣고 예측하는 메소드\n",
    "\t\t- metrics.accuracy_score() : 정확도 측정 (검증)\n",
    "\n",
    "<img src='./imgs/svm.png' width='500' height='380'>\n",
    "\n",
    "    \n",
    "\n",
    "----------------------------------------------------\n",
    "\n",
    "### + 사용알고리즘 SVC ( 분류 )\n",
    "\n",
    "    from sklearn import svm\n",
    "\n",
    "    model = svm.SVC()\n",
    "\n",
    "    * 매개변수\n",
    "    \n",
    "        1) gamma\n",
    "            - 데이터포인트 사이의 거리는 가우시안 커널에 의해 계산되는데, 가우시안 커널의 폭을 제어하는 매개변수    \n",
    "            - 하나의 훈련 샘들이 미치는 영향의 범위를 결정\n",
    "            - gamma값이 크면 모델이 더 복잡해진다\n",
    "        2) C\n",
    "            - 각 포인트의 중요도를 제한\n",
    "            \n",
    "---            \n",
    "            \n",
    "### + 머신러닝 프로그램 절차\n",
    "\n",
    "    (1) 데이타 읽기\n",
    "    \n",
    "    (2) 데이터와 레이블 분리 변수 선언 - 데이타와 타켓(레이블)\n",
    "         * 데이타 분리 (열)\n",
    "        \n",
    "    (3) 학습데이타와 검증 데이타 분류 - train_test_split()\n",
    "         * 데이타 분리 (행)\n",
    "\n",
    "    \n",
    "    (4) 알고리즘 적용하여  학습 - fit()\n",
    "    \n",
    "    (5) 예측 - predict()\n",
    "    \n",
    "    (6) 정확도 - accuracy_score()\n",
    "    \n",
    "    (7) 검증하기 - score()"
   ]
  },
  {
   "cell_type": "code",
   "execution_count": 17,
   "metadata": {},
   "outputs": [],
   "source": [
    "import pandas as pd\n",
    "\n",
    "from sklearn import datasets\n",
    "from sklearn import svm, metrics\n",
    "from sklearn.model_selection import train_test_split"
   ]
  },
  {
   "cell_type": "code",
   "execution_count": 19,
   "metadata": {},
   "outputs": [
    {
     "name": "stdout",
     "output_type": "stream",
     "text": [
      "dict_keys(['data', 'target', 'frame', 'target_names', 'DESCR', 'feature_names', 'filename', 'data_module'])\n"
     ]
    },
    {
     "data": {
      "text/plain": [
       "array(['setosa', 'versicolor', 'virginica'], dtype='<U10')"
      ]
     },
     "execution_count": 19,
     "metadata": {},
     "output_type": "execute_result"
    }
   ],
   "source": [
    "#  1. 데이타로딩\n",
    "iris = datasets.load_iris()\n",
    "\n",
    "# 2. 데이터와 레이블 분리 변수 선언\n",
    "X= iris.data\n",
    "y= iris.target\n",
    "\n",
    "print(iris.keys())\n",
    "\n",
    "iris.target\n",
    "\n",
    "iris['target_names']"
   ]
  },
  {
   "cell_type": "code",
   "execution_count": 25,
   "metadata": {},
   "outputs": [
    {
     "name": "stdout",
     "output_type": "stream",
     "text": [
      "[[5.1 3.5 1.4 0.2]\n",
      " [4.9 3.  1.4 0.2]\n",
      " [4.7 3.2 1.3 0.2]\n",
      " [4.6 3.1 1.5 0.2]\n",
      " [5.  3.6 1.4 0.2]]\n",
      "[0 0 0 0 0]\n"
     ]
    }
   ],
   "source": [
    "# 3. 데이터셋 분리 ( 학습데이타:검증데이타 = 7:3 )\n",
    "\n",
    "x = iris['data']\n",
    "y = iris['target']\n",
    "\n",
    "print(x[:5])\n",
    "print(y[:5])"
   ]
  },
  {
   "cell_type": "code",
   "execution_count": 71,
   "metadata": {},
   "outputs": [
    {
     "name": "stdout",
     "output_type": "stream",
     "text": [
      "[[6.4 3.1 5.5 1.8]\n",
      " [5.4 3.  4.5 1.5]\n",
      " [5.2 3.5 1.5 0.2]\n",
      " [6.1 3.  4.9 1.8]\n",
      " [6.4 2.8 5.6 2.2]\n",
      " [5.2 2.7 3.9 1.4]\n",
      " [5.7 3.8 1.7 0.3]\n",
      " [6.  2.7 5.1 1.6]\n",
      " [5.9 3.  4.2 1.5]\n",
      " [5.8 2.6 4.  1.2]]\n",
      "[[5.8 2.8 5.1 2.4]\n",
      " [6.  2.2 4.  1. ]\n",
      " [5.5 4.2 1.4 0.2]\n",
      " [7.3 2.9 6.3 1.8]\n",
      " [5.  3.4 1.5 0.2]\n",
      " [6.3 3.3 6.  2.5]\n",
      " [5.  3.5 1.3 0.3]\n",
      " [6.7 3.1 4.7 1.5]\n",
      " [6.8 2.8 4.8 1.4]\n",
      " [6.1 2.8 4.  1.3]]\n",
      "[2 1 0 2 2 1 0 1 1 1]\n",
      "[2 1 0 2 0 2 0 1 1 1]\n",
      "[0]\n",
      "['setosa']\n",
      "정확도: 1.0\n",
      "[ True  True  True False]\n",
      "0.75\n"
     ]
    },
    {
     "data": {
      "text/plain": [
       "0.9666666666666667"
      ]
     },
     "execution_count": 71,
     "metadata": {},
     "output_type": "execute_result"
    }
   ],
   "source": [
    "# 4. 알고리즘 데이터를 학습시키고 예측하기 ( 테스트 데이타로 예측 )\n",
    "\n",
    "from sklearn.model_selection import train_test_split\n",
    "\n",
    "# 기본 훈련데이터 : 75%, 테스트데이터: 25%\n",
    "\n",
    "X_train, X_test, y_train, y_test = train_test_split(x, y, test_size=0.2, random_state=0) #random_state=0 => 섞을 때 랜덤하는 규칙 번호 0 \n",
    "\n",
    "print(X_train[:10])\n",
    "print(X_test[:10])\n",
    "print(y_train[:10])\n",
    "print(y_test[:10])\n",
    "\n",
    "# 모델에 데이터를 학습하기\n",
    "# 훈련데이타와 훈련레이블를 인자로 넣어 학습한 결과 knn 객체를 리턴한다\n",
    "# n_neighbors : 이웃갯수 지정\n",
    "\n",
    "import numpy as np\n",
    "from sklearn.datasets import load_iris\n",
    "from sklearn.model_selection import train_test_split\n",
    "from sklearn.svm import SVC\n",
    "from sklearn import svm\n",
    "from sklearn.metrics import accuracy_score\n",
    "\n",
    "model = svm.SVC()\n",
    "\n",
    "model.fit(X_train, y_train)\n",
    "\n",
    "# 5. 예측하기\n",
    "\n",
    "newData = np.array([[5.1, 2.9, 1., 0.3]]) \n",
    "\n",
    "pre_result = model.predict(newData)\n",
    "print(pre_result)\n",
    "\n",
    "print(iris['target_names'][pre_result])\n",
    "\n",
    "# 6. 정확도 ( 예측값과 테스트라벨의 차이 )\n",
    "\n",
    "y_pred = model.predict(X_test)\n",
    "\n",
    "# 실제 정답과 예측값을 비교해 정확도 계산\n",
    "accuracy = accuracy_score(y_test, y_pred)\n",
    "\n",
    "print(\"정확도:\", accuracy)\n",
    "\n",
    "# 7. 검증하기 \n",
    "\n",
    "a = np.array([1,2,3,4])\n",
    "b = np.array([1,2,3,5])\n",
    "print(a==b)\n",
    "print(np.mean(a==b)) # True=1, False=0 의 평균\n",
    "\n",
    "# 추가 검증 \n",
    "y_predict = knn.predict(X_test)\n",
    "\n",
    "accuracy = np.mean(y_test == y_predict)\n",
    "\n",
    "accuracy \n"
   ]
  },
  {
   "cell_type": "code",
   "execution_count": null,
   "metadata": {},
   "outputs": [],
   "source": []
  },
  {
   "cell_type": "code",
   "execution_count": null,
   "metadata": {},
   "outputs": [],
   "source": []
  },
  {
   "cell_type": "code",
   "execution_count": null,
   "metadata": {},
   "outputs": [],
   "source": []
  },
  {
   "cell_type": "code",
   "execution_count": null,
   "metadata": {},
   "outputs": [],
   "source": []
  },
  {
   "cell_type": "markdown",
   "metadata": {},
   "source": [
    "---\n",
    "---\n",
    "\n",
    "\n",
    "# [참고만] 일반 데이타셋인 경우  \n",
    "\n",
    "#### 학습데이타와 테스트데이타로 나누고 데이타 분리한다면\n",
    "\n",
    "###   ## train_test_split 함수 사용하지 않는 경우"
   ]
  },
  {
   "cell_type": "code",
   "execution_count": null,
   "metadata": {},
   "outputs": [],
   "source": [
    "from sklearn import svm, metrics\n",
    "import random, re   # re : 정규표현식\n",
    "\n",
    "# 1. 붓꽃 데이터 읽어 들이기\n",
    "csv = []\n",
    "\n",
    "with open('../data/iris/iris.csv','r', encoding='utf-8') as fp: \n",
    "\t# iris.csv 파일을 r(읽기모드)로 열다\n",
    "\tfor line in fp: # 한 줄씩 읽어오기\n",
    "\t\tline = line.strip()   # 줄바꿈 제거\n",
    "\t\tcols = line.split(',')# 쉼표로 컬럼을 구분\n",
    "\n",
    "\t\t# 문자열 데이터를 숫자(실수)로 변환하기\n",
    "        # 파이썬의 삼항연산자\n",
    "        # (값)=(True일 때의 값) if (조건) else (False일 때의 값)\n",
    "        \n",
    "\t\tfn = lambda n:float(n) if re.match(r'^[0-9\\.]+$',n) else n\n",
    "\t\tcols = list(map(fn, cols))\n",
    "\t\tcsv.append(cols)\n",
    "\t\t# 추후에 pandas로 간편하게 데이타셋 읽어올 수 있음\n",
    "\n",
    "\n",
    "# 헤더(컬럼명) 제거\n",
    "del csv[0]\n",
    "\n",
    "# 품종별로 데이타 순서로 있기에 학습데이타와 테스트데이타를 나누기 전에 섞는다\n",
    "# 그래야 각각의 데이타에 품종별로 골로루 데이타가 들어가도록\n",
    "random.shuffle(csv)\n",
    "\n",
    "# 학습데이타와 테스트 데이터로 분리하기\n",
    "total_len = len(csv)\n",
    "train_len = int(total_len*2/3) # 학습데이타 2/3, 테스트데이터 1/3\n",
    "\n",
    "train_data=[]\n",
    "train_label=[]\n",
    "\n",
    "test_data=[]\n",
    "test_label=[]\n",
    "\n",
    "\n",
    "for i in range(total_len):\n",
    "\tdata=csv[i][0:4]\n",
    "\tlabel=csv[i][4]\n",
    "\tif i < train_len:\n",
    "\t\ttrain_data.append(data)\n",
    "\t\ttrain_label.append(label)\n",
    "\telse:\n",
    "\t\ttest_data.append(data)\n",
    "\t\ttest_label.append(label)\n",
    "\n",
    "print(train_data[:10])\n",
    "print(train_label[:10])\n",
    "print(test_data[:10])\n",
    "print(test_label[:10])"
   ]
  },
  {
   "cell_type": "code",
   "execution_count": null,
   "metadata": {},
   "outputs": [],
   "source": [
    "# 분류모델을 이용하여 학습데이타를 넣고 훈련하고 예측한다\n",
    "clf = svm.SVC(gamma='auto') \n",
    "clf.fit(train_data, train_label)   # 학습하기\n",
    "\n",
    "pre_label = clf.predict(test_data) # 예측하기\n",
    "\n",
    "# 검증하기 - 정확도 \n",
    "ac_score = metrics.accuracy_score(test_label, pre_label)\n",
    "print(ac_score)"
   ]
  },
  {
   "cell_type": "code",
   "execution_count": null,
   "metadata": {},
   "outputs": [],
   "source": []
  }
 ],
 "metadata": {
  "kernelspec": {
   "display_name": "Python [conda env:base] *",
   "language": "python",
   "name": "conda-base-py"
  },
  "language_info": {
   "codemirror_mode": {
    "name": "ipython",
    "version": 3
   },
   "file_extension": ".py",
   "mimetype": "text/x-python",
   "name": "python",
   "nbconvert_exporter": "python",
   "pygments_lexer": "ipython3",
   "version": "3.12.7"
  }
 },
 "nbformat": 4,
 "nbformat_minor": 4
}
