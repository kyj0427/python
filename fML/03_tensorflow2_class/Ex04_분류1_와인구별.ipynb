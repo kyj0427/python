{
 "cells": [
  {
   "cell_type": "markdown",
   "metadata": {
    "colab_type": "text",
    "id": "uhcsaDFfh0fp"
   },
   "source": [
    "# 분류 (classification)\n",
    "\n",
    "+ 머신러닝에서 회귀(regression)과 함께 가장 기본적인 데이타 분석 방법\n",
    "+ 분류는 데이타가 어느 범주(category)에 해당하는지 판단하는 것이다.\n",
    "\n",
    "\n",
    "## [1]이항 분류\n",
    "\n",
    "+ 정답의 범주가 두 개인 분류 문제\n",
    "+ ex) 와인의 상태에 따라 레드와인인지 화이트 와인인지 구별\n",
    "\n",
    "               \n",
    "<table>\n",
    "<tr><th>속성</th><th>설명</th></tr>\n",
    "<tr><td>fixed acidity</td><td>주석산(Tartaric acid)</td></tr>\n",
    "<tr><td>volatile acidity</td><td>초산(Acetic acid)</td></tr>\n",
    "<tr><td>citric acid</td><td>구연산</td></tr>\n",
    "<tr><td>residual sugar</td><td>당도</td></tr>\n",
    "<tr><td>chlorides</td><td>영화물(소금)</td></tr>\n",
    "<tr><td>free sulfur dioxide</td><td>자유 이산화황(산화방지제, 방부제 역할)</td></tr>\n",
    "<tr><td>total sulfur dioxide</td><td>총 이산화황</td></tr>\n",
    "<tr><td>density</td><td>밀도</td></tr>\n",
    "<tr><td>pH</td><td>산도</td></tr>\n",
    "<tr><td>sulphates</td><td>황산칼륨</td></tr>\n",
    "<tr><td>alcohol</td><td>알코올 도수</td></tr>\n",
    "<tr><td>quality</td><td>품질(0~10)</td></tr>\n",
    "<tr><td>type</td><td>종류(레드:1 , 화이트:0)</td></tr>\n",
    "</table>"
   ]
  },
  {
   "cell_type": "code",
   "execution_count": null,
   "metadata": {},
   "outputs": [],
   "source": []
  },
  {
   "cell_type": "code",
   "execution_count": null,
   "metadata": {
    "colab": {
     "base_uri": "https://localhost:8080/",
     "height": 305
    },
    "colab_type": "code",
    "executionInfo": {
     "elapsed": 2511,
     "status": "ok",
     "timestamp": 1575816929840,
     "user": {
      "displayName": "Hwanhee Kim",
      "photoUrl": "https://lh3.googleusercontent.com/a-/AAuE7mAJC9PPBoQ91glDwFjxm3TlW5EqGy0BIAJ52D-ekw=s64",
      "userId": "04863080312902369470"
     },
     "user_tz": -540
    },
    "id": "dG7D-IRGhtp_",
    "outputId": "e845498c-a360-47f4-9de1-ef8d100c8122"
   },
   "outputs": [],
   "source": [
    "# (1-1) 와인 데이터셋 불러오기\n",
    "import pandas as pd\n",
    "wine = pd.read_csv('./dataset/wine.csv', header=None)\n",
    "wine.columns = ['fixed acidity','volatile acidity','citric acid','residual sugar','chlorides','free sulfur dioxide',\n",
    "               'total sulfur dioxide','density','pH','sulphates','alcohol','quality',\n",
    "               'type']\n",
    "print(wine.shape)\n",
    "wine.tail()"
   ]
  },
  {
   "cell_type": "code",
   "execution_count": null,
   "metadata": {
    "colab": {
     "base_uri": "https://localhost:8080/",
     "height": 319
    },
    "colab_type": "code",
    "executionInfo": {
     "elapsed": 806,
     "status": "ok",
     "timestamp": 1575816953983,
     "user": {
      "displayName": "Hwanhee Kim",
      "photoUrl": "https://lh3.googleusercontent.com/a-/AAuE7mAJC9PPBoQ91glDwFjxm3TlW5EqGy0BIAJ52D-ekw=s64",
      "userId": "04863080312902369470"
     },
     "user_tz": -540
    },
    "id": "bCt4AfOCfcIA",
    "outputId": "9632f8e6-8204-4f9b-b393-c4cd46634753"
   },
   "outputs": [],
   "source": [
    "# [확인] 레드 와인과 화이트 와인 데이타 비율 확인\n",
    "\n",
    "# type 속성의 값을 수로 확인\n",
    "print(wine['type'].value_counts())\n",
    "\n",
    "# type 히스토그램\n",
    "import matplotlib.pyplot as plt\n",
    "plt.hist(wine['type'])\n",
    "plt.xticks([0, 1])\n",
    "plt.show()"
   ]
  },
  {
   "cell_type": "code",
   "execution_count": null,
   "metadata": {
    "colab": {
     "base_uri": "https://localhost:8080/",
     "height": 359
    },
    "colab_type": "code",
    "executionInfo": {
     "elapsed": 758,
     "status": "ok",
     "timestamp": 1575816961943,
     "user": {
      "displayName": "Hwanhee Kim",
      "photoUrl": "https://lh3.googleusercontent.com/a-/AAuE7mAJC9PPBoQ91glDwFjxm3TlW5EqGy0BIAJ52D-ekw=s64",
      "userId": "04863080312902369470"
     },
     "user_tz": -540
    },
    "id": "L3G-uSOQhvxf",
    "outputId": "3142ae1a-51c6-43a3-935d-a9beb48c4c65",
    "scrolled": true
   },
   "outputs": [],
   "source": [
    "# [확인] 데이터 요약 정보 확인\n",
    "#     외부에서 불러온 데이터의 경우 어떤 값으로 구성되어 있는지 확인하고 데이타를 섞고 정규화를 해야 한다.\n",
    "#     정규화 과정에서 데이터에 숫자가 아닌 값이 들어가며 에러을 유발한다.\n",
    "#     모두 숫자형에 non-null 로 null가 존재하지 않음을 확인하다.\n",
    "\n",
    "print(wine.info())\n",
    "wine.head()\n"
   ]
  },
  {
   "cell_type": "code",
   "execution_count": null,
   "metadata": {
    "colab": {
     "base_uri": "https://localhost:8080/",
     "height": 359
    },
    "colab_type": "code",
    "executionInfo": {
     "elapsed": 1047,
     "status": "ok",
     "timestamp": 1575816964868,
     "user": {
      "displayName": "Hwanhee Kim",
      "photoUrl": "https://lh3.googleusercontent.com/a-/AAuE7mAJC9PPBoQ91glDwFjxm3TlW5EqGy0BIAJ52D-ekw=s64",
      "userId": "04863080312902369470"
     },
     "user_tz": -540
    },
    "id": "c96JRczWhvpD",
    "outputId": "e80150c4-c160-40aa-8481-72333d017f36"
   },
   "outputs": [],
   "source": [
    "# (1-2) 데이터 정규화\n",
    "\n",
    "wine_norm = (wine - wine.min()) / (wine.max() - wine.min())\n",
    "\n",
    "print(wine_norm.describe())\n",
    "# 결과를 확인하면 min은 0이고 max는 1로 모두 0~1 사이의 데이타로 정규화가 된 것이다.\n",
    "\n",
    "wine_norm.head()\n",
    "\n"
   ]
  },
  {
   "cell_type": "code",
   "execution_count": null,
   "metadata": {
    "colab": {
     "base_uri": "https://localhost:8080/",
     "height": 431
    },
    "colab_type": "code",
    "executionInfo": {
     "elapsed": 746,
     "status": "ok",
     "timestamp": 1575817148427,
     "user": {
      "displayName": "Hwanhee Kim",
      "photoUrl": "https://lh3.googleusercontent.com/a-/AAuE7mAJC9PPBoQ91glDwFjxm3TlW5EqGy0BIAJ52D-ekw=s64",
      "userId": "04863080312902369470"
     },
     "user_tz": -540
    },
    "id": "2p1n7sQ-fb5M",
    "outputId": "1be05a9b-f2e7-4815-8c4b-02f387ac2929"
   },
   "outputs": [],
   "source": [
    "# (1-3) 데이터 섞은 후 numpy array로 변환\n",
    "#       df.sample(frac) : 전체 데이타프레임에서 frac 인수로 지정된 비율만큼의 행을 랜덤하게 뽑아서 새로운 데이타프레임을 만듬\n",
    "#       frac=1 : 100% 즉 모든 데이터를 뽑아서 섞는 것과 동일한 효과이다.\n",
    "\n",
    "import numpy as np\n",
    "wine_shuffle = wine_norm.sample(frac=1)\n",
    "display(wine_shuffle.head())\n",
    "\n",
    "wine_np = wine_shuffle.to_numpy()\n",
    "display(wine_np[:5])\n",
    "\n",
    "# 첫번째 출력 결과에서  type을 보면 원래는 레드와인이 앞에 있어서 0.0만 나와야하지만 섞여서 나온다."
   ]
  },
  {
   "cell_type": "code",
   "execution_count": null,
   "metadata": {
    "colab": {
     "base_uri": "https://localhost:8080/",
     "height": 161
    },
    "colab_type": "code",
    "executionInfo": {
     "elapsed": 720,
     "status": "ok",
     "timestamp": 1575817149737,
     "user": {
      "displayName": "Hwanhee Kim",
      "photoUrl": "https://lh3.googleusercontent.com/a-/AAuE7mAJC9PPBoQ91glDwFjxm3TlW5EqGy0BIAJ52D-ekw=s64",
      "userId": "04863080312902369470"
     },
     "user_tz": -540
    },
    "id": "nVyMBeF9rhAb",
    "outputId": "d65bd15e-98fc-4a3f-de17-74497749ac94"
   },
   "outputs": [],
   "source": [
    "# (1-4) train 데이터와 test 데이터로 분리\n",
    "#         훈련 데이타 80% + 테스트 데이타 20%\n",
    "#         기존 12개의 속성은 X가 되고 마지막에 새롭게 추가한 속성은 Y가 된다.\n",
    "import tensorflow as tf\n",
    "train_idx = int(len(wine_np) * 0.8)\n",
    "train_X, train_Y = wine_np[:train_idx, :-1], wine_np[:train_idx, -1]\n",
    "test_X, test_Y = wine_np[train_idx:, :-1], wine_np[train_idx:, -1]\n",
    "print(train_X[0])\n",
    "print(train_Y[0])\n",
    "print(test_X[0])\n",
    "print(test_Y[0])\n",
    "\n",
    "# tf.keras.utils.to_categorical : 정답 행렬을 one-hot encoding 방식으로 바꾼다\n",
    "# one-hot encoding : 정답에 해당하는 인덱스의 값에는 1을 넣고, 나머지 인덱스는 모두 0으로 넣는 방식\n",
    "# num_classes : 정답 클래스의 갯수\n",
    "# 정답이 레드 와인(0.0)이라면 [1. 0.]이 되고 화이트 와인(1.0)이라면 [0. 1.]이 된다.\n",
    "train_Y = tf.keras.utils.to_categorical(train_Y, num_classes=2)\n",
    "test_Y = tf.keras.utils.to_categorical(test_Y, num_classes=2)\n",
    "print(train_Y[0])\n",
    "print(test_Y[0])"
   ]
  },
  {
   "cell_type": "code",
   "execution_count": null,
   "metadata": {
    "colab": {
     "base_uri": "https://localhost:8080/",
     "height": 305
    },
    "colab_type": "code",
    "executionInfo": {
     "elapsed": 1076,
     "status": "ok",
     "timestamp": 1575817251317,
     "user": {
      "displayName": "Hwanhee Kim",
      "photoUrl": "https://lh3.googleusercontent.com/a-/AAuE7mAJC9PPBoQ91glDwFjxm3TlW5EqGy0BIAJ52D-ekw=s64",
      "userId": "04863080312902369470"
     },
     "user_tz": -540
    },
    "id": "U-X6IrxDxXzd",
    "outputId": "fed03de3-5560-4358-a3aa-770e17137827",
    "scrolled": true
   },
   "outputs": [],
   "source": [
    "# (2) 와인 데이터셋 분류 모델 생성하고 실행\n",
    "#     회귀 모델과 비슷해 보이지만 마지막 레이어의 활성화 함수가 softmax이다.\n",
    "#     마지막 레이어의 뉴런의 갯수가 2개인 것은 원-핫 인코딩으로 변환한 정답의 차원 수와 동일하다.\n",
    "import tensorflow as tf\n",
    "model = tf.keras.Sequential([\n",
    "    tf.keras.layers.Dense(units=48, activation='relu', input_shape=(12,)),\n",
    "    tf.keras.layers.Dense(units=24, activation='relu'),\n",
    "    tf.keras.layers.Dense(units=12, activation='relu'),\n",
    "    tf.keras.layers.Dense(units=2, activation='softmax')\n",
    "])\n",
    "\n",
    "model.compile(optimizer=tf.keras.optimizers.Adam(lr=0.07), loss='categorical_crossentropy', metrics=['accuracy'])\n",
    "\n",
    "model.summary()\n",
    "\n",
    "# loss에 주로 사용하던 mse 대신 categorical_crossentropy 지정\n",
    "# metrics=['accuracy'] : 분류 문제는 정확도(accuracy)로 퍼포먼스를 측정하기 때문에 정확도를 설정하는 것이 필수이다."
   ]
  },
  {
   "cell_type": "markdown",
   "metadata": {},
   "source": [
    "[참고] [ 크로스 엔트로피(cross entropy) ](https://wordbe.tistory.com/entry/ML-Cross-entropyCategorical-Binary%EC%9D%98-%EC%9D%B4%ED%95%B4)\n",
    "\n",
    "[참고] [ softmax 간단한 이해 ](https://m.blog.naver.com/wideeyed/221021710286)"
   ]
  },
  {
   "cell_type": "code",
   "execution_count": null,
   "metadata": {
    "colab": {
     "base_uri": "https://localhost:8080/",
     "height": 935
    },
    "colab_type": "code",
    "executionInfo": {
     "elapsed": 9435,
     "status": "ok",
     "timestamp": 1575817265364,
     "user": {
      "displayName": "Hwanhee Kim",
      "photoUrl": "https://lh3.googleusercontent.com/a-/AAuE7mAJC9PPBoQ91glDwFjxm3TlW5EqGy0BIAJ52D-ekw=s64",
      "userId": "04863080312902369470"
     },
     "user_tz": -540
    },
    "id": "hNXtNSwUxXr4",
    "outputId": "4c1bcd7b-bb00-4303-e58a-c9bea05a8031"
   },
   "outputs": [],
   "source": [
    "# (3) 와인 데이터셋 분류 모델 학습\n",
    "history = model.fit(train_X, train_Y, epochs=25, batch_size=32, validation_split=0.25)"
   ]
  },
  {
   "cell_type": "markdown",
   "metadata": {},
   "source": [
    "[결과] 정확도가 100% 가까운 매우 좋은 결과를 유지하고 있다\n",
    "\n",
    "Epoch 25/25\n",
    "3897/3897 [==============================] - 0s 73us/sample - loss: 0.0339 - accuracy: 0.9905 - val_loss: 0.0443 - val_accuracy: 0.9885\n",
    "\n",
    "    훈련 손실값 (loss)\n",
    "    훈련 정확도 (acc)\n",
    "    검증 손실값 (val_loss)\n",
    "    검증 정확도 (val_acc)"
   ]
  },
  {
   "cell_type": "code",
   "execution_count": null,
   "metadata": {
    "colab": {
     "base_uri": "https://localhost:8080/",
     "height": 283
    },
    "colab_type": "code",
    "executionInfo": {
     "elapsed": 912,
     "status": "ok",
     "timestamp": 1575817392321,
     "user": {
      "displayName": "Hwanhee Kim",
      "photoUrl": "https://lh3.googleusercontent.com/a-/AAuE7mAJC9PPBoQ91glDwFjxm3TlW5EqGy0BIAJ52D-ekw=s64",
      "userId": "04863080312902369470"
     },
     "user_tz": -540
    },
    "id": "hsI7XviYXZ39",
    "outputId": "5176b51c-bedb-44ed-d00e-73de4fdbeb95"
   },
   "outputs": [],
   "source": [
    "# [확인] 분류 모델 학습 결과 시각화\n",
    "import matplotlib.pyplot as plt\n",
    "plt.figure(figsize=(12, 4))\n",
    "\n",
    "plt.subplot(1, 2, 1)\n",
    "plt.plot(history.history['loss'], 'b-', label='loss')\n",
    "plt.plot(history.history['val_loss'], 'r--', label='val_loss')\n",
    "plt.xlabel('Epoch')\n",
    "plt.legend()\n",
    "\n",
    "plt.subplot(1, 2, 2)\n",
    "plt.plot(history.history['accuracy'], 'g-', label='accuracy')\n",
    "plt.plot(history.history['val_accuracy'], 'k--', label='val_accuracy')\n",
    "plt.xlabel('Epoch')\n",
    "plt.ylim(0.7, 1)\n",
    "plt.legend()\n",
    "\n",
    "plt.show()"
   ]
  },
  {
   "cell_type": "code",
   "execution_count": null,
   "metadata": {
    "colab": {
     "base_uri": "https://localhost:8080/",
     "height": 73
    },
    "colab_type": "code",
    "executionInfo": {
     "elapsed": 743,
     "status": "ok",
     "timestamp": 1575817499680,
     "user": {
      "displayName": "Hwanhee Kim",
      "photoUrl": "https://lh3.googleusercontent.com/a-/AAuE7mAJC9PPBoQ91glDwFjxm3TlW5EqGy0BIAJ52D-ekw=s64",
      "userId": "04863080312902369470"
     },
     "user_tz": -540
    },
    "id": "MyFEtZSw19Ol",
    "outputId": "3a624ca8-d9dd-4498-f7b5-2e5f0ba5b257"
   },
   "outputs": [],
   "source": [
    "# (4) 분류 모델 평가\n",
    "model.evaluate(test_X, test_Y)\n",
    "\n",
    "# 정확도(accuracy)가 0.9931로 거의 오차 없이 레드와인와 화이트와인을 분류했다"
   ]
  },
  {
   "cell_type": "code",
   "execution_count": null,
   "metadata": {},
   "outputs": [],
   "source": [
    "# (5) 주어진 자료로 레드와인인지 화이트 와인인지 감별\n",
    "# 정답이 레드 와인(0.0)이라면 [1. 0.]이 되고 화이트 와인(1.0)이라면 [0. 1.]이 된다.\n",
    "\n",
    "x_values = ([0.30578512, 0.29333333, 0.09638554, 0.01993865, 0.12624585, 0.03819444,\n",
    " 0.06682028, 0.18681319, 0.51162791, 0.2247191,  0.2173913,  0.66666667],)\n",
    "y_pred = model.predict(x_values)\n",
    "y_pred  # 화이트와인"
   ]
  }
 ],
 "metadata": {
  "colab": {
   "collapsed_sections": [],
   "name": "Chapter5.ipynb",
   "provenance": [],
   "toc_visible": true
  },
  "kernelspec": {
   "display_name": "Python [conda env:base] *",
   "language": "python",
   "name": "conda-base-py"
  },
  "language_info": {
   "codemirror_mode": {
    "name": "ipython",
    "version": 3
   },
   "file_extension": ".py",
   "mimetype": "text/x-python",
   "name": "python",
   "nbconvert_exporter": "python",
   "pygments_lexer": "ipython3",
   "version": "3.12.7"
  }
 },
 "nbformat": 4,
 "nbformat_minor": 4
}
