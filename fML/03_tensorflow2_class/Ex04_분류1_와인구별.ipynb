{
 "cells": [
  {
   "cell_type": "markdown",
   "metadata": {
    "colab_type": "text",
    "id": "uhcsaDFfh0fp"
   },
   "source": [
    "# 분류 (classification)\n",
    "\n",
    "+ 머신러닝에서 회귀(regression)과 함께 가장 기본적인 데이타 분석 방법\n",
    "+ 분류는 데이타가 어느 범주(category)에 해당하는지 판단하는 것이다.\n",
    "\n",
    "\n",
    "## [1]이항 분류\n",
    "\n",
    "+ 정답의 범주가 두 개인 분류 문제\n",
    "+ ex) 와인의 상태에 따라 레드와인인지 화이트 와인인지 구별\n",
    "\n",
    "               \n",
    "<table>\n",
    "<tr><th>속성</th><th>설명</th></tr>\n",
    "<tr><td>fixed acidity</td><td>주석산(Tartaric acid)</td></tr>\n",
    "<tr><td>volatile acidity</td><td>초산(Acetic acid)</td></tr>\n",
    "<tr><td>citric acid</td><td>구연산</td></tr>\n",
    "<tr><td>residual sugar</td><td>당도</td></tr>\n",
    "<tr><td>chlorides</td><td>영화물(소금)</td></tr>\n",
    "<tr><td>free sulfur dioxide</td><td>자유 이산화황(산화방지제, 방부제 역할)</td></tr>\n",
    "<tr><td>total sulfur dioxide</td><td>총 이산화황</td></tr>\n",
    "<tr><td>density</td><td>밀도</td></tr>\n",
    "<tr><td>pH</td><td>산도</td></tr>\n",
    "<tr><td>sulphates</td><td>황산칼륨</td></tr>\n",
    "<tr><td>alcohol</td><td>알코올 도수</td></tr>\n",
    "<tr><td>quality</td><td>품질(0~10)</td></tr>\n",
    "<tr><td>type</td><td>종류(레드:1 , 화이트:0)</td></tr>\n",
    "</table>"
   ]
  },
  {
   "cell_type": "code",
   "execution_count": null,
   "metadata": {},
   "outputs": [],
   "source": []
  },
  {
   "cell_type": "code",
   "execution_count": 9,
   "metadata": {
    "colab": {
     "base_uri": "https://localhost:8080/",
     "height": 305
    },
    "colab_type": "code",
    "executionInfo": {
     "elapsed": 2511,
     "status": "ok",
     "timestamp": 1575816929840,
     "user": {
      "displayName": "Hwanhee Kim",
      "photoUrl": "https://lh3.googleusercontent.com/a-/AAuE7mAJC9PPBoQ91glDwFjxm3TlW5EqGy0BIAJ52D-ekw=s64",
      "userId": "04863080312902369470"
     },
     "user_tz": -540
    },
    "id": "dG7D-IRGhtp_",
    "outputId": "e845498c-a360-47f4-9de1-ef8d100c8122"
   },
   "outputs": [
    {
     "name": "stdout",
     "output_type": "stream",
     "text": [
      "(6497, 13)\n"
     ]
    },
    {
     "data": {
      "text/html": [
       "<div>\n",
       "<style scoped>\n",
       "    .dataframe tbody tr th:only-of-type {\n",
       "        vertical-align: middle;\n",
       "    }\n",
       "\n",
       "    .dataframe tbody tr th {\n",
       "        vertical-align: top;\n",
       "    }\n",
       "\n",
       "    .dataframe thead th {\n",
       "        text-align: right;\n",
       "    }\n",
       "</style>\n",
       "<table border=\"1\" class=\"dataframe\">\n",
       "  <thead>\n",
       "    <tr style=\"text-align: right;\">\n",
       "      <th></th>\n",
       "      <th>주석산</th>\n",
       "      <th>초산</th>\n",
       "      <th>구연산</th>\n",
       "      <th>당도</th>\n",
       "      <th>영화물</th>\n",
       "      <th>자유 이산화황</th>\n",
       "      <th>총 이산화황</th>\n",
       "      <th>밀도</th>\n",
       "      <th>산도</th>\n",
       "      <th>황산칼륨</th>\n",
       "      <th>알코올 도수</th>\n",
       "      <th>품질</th>\n",
       "      <th>종류</th>\n",
       "    </tr>\n",
       "  </thead>\n",
       "  <tbody>\n",
       "    <tr>\n",
       "      <th>6492</th>\n",
       "      <td>6.2</td>\n",
       "      <td>0.21</td>\n",
       "      <td>0.29</td>\n",
       "      <td>1.6</td>\n",
       "      <td>0.039</td>\n",
       "      <td>24.0</td>\n",
       "      <td>92.0</td>\n",
       "      <td>0.99114</td>\n",
       "      <td>3.27</td>\n",
       "      <td>0.50</td>\n",
       "      <td>11.2</td>\n",
       "      <td>6</td>\n",
       "      <td>0</td>\n",
       "    </tr>\n",
       "    <tr>\n",
       "      <th>6493</th>\n",
       "      <td>6.6</td>\n",
       "      <td>0.32</td>\n",
       "      <td>0.36</td>\n",
       "      <td>8.0</td>\n",
       "      <td>0.047</td>\n",
       "      <td>57.0</td>\n",
       "      <td>168.0</td>\n",
       "      <td>0.99490</td>\n",
       "      <td>3.15</td>\n",
       "      <td>0.46</td>\n",
       "      <td>9.6</td>\n",
       "      <td>5</td>\n",
       "      <td>0</td>\n",
       "    </tr>\n",
       "    <tr>\n",
       "      <th>6494</th>\n",
       "      <td>6.5</td>\n",
       "      <td>0.24</td>\n",
       "      <td>0.19</td>\n",
       "      <td>1.2</td>\n",
       "      <td>0.041</td>\n",
       "      <td>30.0</td>\n",
       "      <td>111.0</td>\n",
       "      <td>0.99254</td>\n",
       "      <td>2.99</td>\n",
       "      <td>0.46</td>\n",
       "      <td>9.4</td>\n",
       "      <td>6</td>\n",
       "      <td>0</td>\n",
       "    </tr>\n",
       "    <tr>\n",
       "      <th>6495</th>\n",
       "      <td>5.5</td>\n",
       "      <td>0.29</td>\n",
       "      <td>0.30</td>\n",
       "      <td>1.1</td>\n",
       "      <td>0.022</td>\n",
       "      <td>20.0</td>\n",
       "      <td>110.0</td>\n",
       "      <td>0.98869</td>\n",
       "      <td>3.34</td>\n",
       "      <td>0.38</td>\n",
       "      <td>12.8</td>\n",
       "      <td>7</td>\n",
       "      <td>0</td>\n",
       "    </tr>\n",
       "    <tr>\n",
       "      <th>6496</th>\n",
       "      <td>6.0</td>\n",
       "      <td>0.21</td>\n",
       "      <td>0.38</td>\n",
       "      <td>0.8</td>\n",
       "      <td>0.020</td>\n",
       "      <td>22.0</td>\n",
       "      <td>98.0</td>\n",
       "      <td>0.98941</td>\n",
       "      <td>3.26</td>\n",
       "      <td>0.32</td>\n",
       "      <td>11.8</td>\n",
       "      <td>6</td>\n",
       "      <td>0</td>\n",
       "    </tr>\n",
       "  </tbody>\n",
       "</table>\n",
       "</div>"
      ],
      "text/plain": [
       "      주석산    초산   구연산   당도    영화물  자유 이산화황  총 이산화황       밀도    산도  황산칼륨  \\\n",
       "6492  6.2  0.21  0.29  1.6  0.039     24.0    92.0  0.99114  3.27  0.50   \n",
       "6493  6.6  0.32  0.36  8.0  0.047     57.0   168.0  0.99490  3.15  0.46   \n",
       "6494  6.5  0.24  0.19  1.2  0.041     30.0   111.0  0.99254  2.99  0.46   \n",
       "6495  5.5  0.29  0.30  1.1  0.022     20.0   110.0  0.98869  3.34  0.38   \n",
       "6496  6.0  0.21  0.38  0.8  0.020     22.0    98.0  0.98941  3.26  0.32   \n",
       "\n",
       "      알코올 도수  품질  종류  \n",
       "6492    11.2   6   0  \n",
       "6493     9.6   5   0  \n",
       "6494     9.4   6   0  \n",
       "6495    12.8   7   0  \n",
       "6496    11.8   6   0  "
      ]
     },
     "execution_count": 9,
     "metadata": {},
     "output_type": "execute_result"
    }
   ],
   "source": [
    "# (1-1) 와인 데이터셋 불러오기\n",
    "import pandas as pd\n",
    "wine = pd.read_csv('./dataset/wine.csv', header=None)\n",
    "wine.columns = ['주석산','초산','구연산','당도','영화물','자유 이산화황',\n",
    "               '총 이산화황','밀도','산도','황산칼륨','알코올 도수','품질',\n",
    "               '종류']\n",
    "print(wine.shape)\n",
    "wine.tail()"
   ]
  },
  {
   "cell_type": "code",
   "execution_count": 11,
   "metadata": {
    "colab": {
     "base_uri": "https://localhost:8080/",
     "height": 319
    },
    "colab_type": "code",
    "executionInfo": {
     "elapsed": 806,
     "status": "ok",
     "timestamp": 1575816953983,
     "user": {
      "displayName": "Hwanhee Kim",
      "photoUrl": "https://lh3.googleusercontent.com/a-/AAuE7mAJC9PPBoQ91glDwFjxm3TlW5EqGy0BIAJ52D-ekw=s64",
      "userId": "04863080312902369470"
     },
     "user_tz": -540
    },
    "id": "bCt4AfOCfcIA",
    "outputId": "9632f8e6-8204-4f9b-b393-c4cd46634753"
   },
   "outputs": [
    {
     "name": "stdout",
     "output_type": "stream",
     "text": [
      "종류\n",
      "0    4898\n",
      "1    1599\n",
      "Name: count, dtype: int64\n"
     ]
    },
    {
     "data": {
      "image/png": "[encoded data removed]",
      "text/plain": [
       "<Figure size 640x480 with 1 Axes>"
      ]
     },
     "metadata": {},
     "output_type": "display_data"
    }
   ],
   "source": [
    "# [확인] 레드 와인과 화이트 와인 데이타 비율 확인\n",
    "\n",
    "# type 속성의 값을 수로 확인\n",
    "print(wine['종류'].value_counts())\n",
    "\n",
    "# type 히스토그램\n",
    "import matplotlib.pyplot as plt\n",
    "plt.hist(wine['종류'])\n",
    "plt.xticks([0, 1])\n",
    "plt.show()"
   ]
  },
  {
   "cell_type": "code",
   "execution_count": 13,
   "metadata": {
    "colab": {
     "base_uri": "https://localhost:8080/",
     "height": 359
    },
    "colab_type": "code",
    "executionInfo": {
     "elapsed": 758,
     "status": "ok",
     "timestamp": 1575816961943,
     "user": {
      "displayName": "Hwanhee Kim",
      "photoUrl": "https://lh3.googleusercontent.com/a-/AAuE7mAJC9PPBoQ91glDwFjxm3TlW5EqGy0BIAJ52D-ekw=s64",
      "userId": "04863080312902369470"
     },
     "user_tz": -540
    },
    "id": "L3G-uSOQhvxf",
    "outputId": "3142ae1a-51c6-43a3-935d-a9beb48c4c65",
    "scrolled": true
   },
   "outputs": [
    {
     "name": "stdout",
     "output_type": "stream",
     "text": [
      "<class 'pandas.core.frame.DataFrame'>\n",
      "RangeIndex: 6497 entries, 0 to 6496\n",
      "Data columns (total 13 columns):\n",
      " #   Column   Non-Null Count  Dtype  \n",
      "---  ------   --------------  -----  \n",
      " 0   주석산      6497 non-null   float64\n",
      " 1   초산       6497 non-null   float64\n",
      " 2   구연산      6497 non-null   float64\n",
      " 3   당도       6497 non-null   float64\n",
      " 4   영화물      6497 non-null   float64\n",
      " 5   자유 이산화황  6497 non-null   float64\n",
      " 6   총 이산화황   6497 non-null   float64\n",
      " 7   밀도       6497 non-null   float64\n",
      " 8   산도       6497 non-null   float64\n",
      " 9   황산칼륨     6497 non-null   float64\n",
      " 10  알코올 도수   6497 non-null   float64\n",
      " 11  품질       6497 non-null   int64  \n",
      " 12  종류       6497 non-null   int64  \n",
      "dtypes: float64(11), int64(2)\n",
      "memory usage: 660.0 KB\n",
      "None\n"
     ]
    },
    {
     "data": {
      "text/html": [
       "<div>\n",
       "<style scoped>\n",
       "    .dataframe tbody tr th:only-of-type {\n",
       "        vertical-align: middle;\n",
       "    }\n",
       "\n",
       "    .dataframe tbody tr th {\n",
       "        vertical-align: top;\n",
       "    }\n",
       "\n",
       "    .dataframe thead th {\n",
       "        text-align: right;\n",
       "    }\n",
       "</style>\n",
       "<table border=\"1\" class=\"dataframe\">\n",
       "  <thead>\n",
       "    <tr style=\"text-align: right;\">\n",
       "      <th></th>\n",
       "      <th>주석산</th>\n",
       "      <th>초산</th>\n",
       "      <th>구연산</th>\n",
       "      <th>당도</th>\n",
       "      <th>영화물</th>\n",
       "      <th>자유 이산화황</th>\n",
       "      <th>총 이산화황</th>\n",
       "      <th>밀도</th>\n",
       "      <th>산도</th>\n",
       "      <th>황산칼륨</th>\n",
       "      <th>알코올 도수</th>\n",
       "      <th>품질</th>\n",
       "      <th>종류</th>\n",
       "    </tr>\n",
       "  </thead>\n",
       "  <tbody>\n",
       "    <tr>\n",
       "      <th>0</th>\n",
       "      <td>7.4</td>\n",
       "      <td>0.70</td>\n",
       "      <td>0.00</td>\n",
       "      <td>1.9</td>\n",
       "      <td>0.076</td>\n",
       "      <td>11.0</td>\n",
       "      <td>34.0</td>\n",
       "      <td>0.9978</td>\n",
       "      <td>3.51</td>\n",
       "      <td>0.56</td>\n",
       "      <td>9.4</td>\n",
       "      <td>5</td>\n",
       "      <td>1</td>\n",
       "    </tr>\n",
       "    <tr>\n",
       "      <th>1</th>\n",
       "      <td>7.8</td>\n",
       "      <td>0.88</td>\n",
       "      <td>0.00</td>\n",
       "      <td>2.6</td>\n",
       "      <td>0.098</td>\n",
       "      <td>25.0</td>\n",
       "      <td>67.0</td>\n",
       "      <td>0.9968</td>\n",
       "      <td>3.20</td>\n",
       "      <td>0.68</td>\n",
       "      <td>9.8</td>\n",
       "      <td>5</td>\n",
       "      <td>1</td>\n",
       "    </tr>\n",
       "    <tr>\n",
       "      <th>2</th>\n",
       "      <td>7.8</td>\n",
       "      <td>0.76</td>\n",
       "      <td>0.04</td>\n",
       "      <td>2.3</td>\n",
       "      <td>0.092</td>\n",
       "      <td>15.0</td>\n",
       "      <td>54.0</td>\n",
       "      <td>0.9970</td>\n",
       "      <td>3.26</td>\n",
       "      <td>0.65</td>\n",
       "      <td>9.8</td>\n",
       "      <td>5</td>\n",
       "      <td>1</td>\n",
       "    </tr>\n",
       "    <tr>\n",
       "      <th>3</th>\n",
       "      <td>11.2</td>\n",
       "      <td>0.28</td>\n",
       "      <td>0.56</td>\n",
       "      <td>1.9</td>\n",
       "      <td>0.075</td>\n",
       "      <td>17.0</td>\n",
       "      <td>60.0</td>\n",
       "      <td>0.9980</td>\n",
       "      <td>3.16</td>\n",
       "      <td>0.58</td>\n",
       "      <td>9.8</td>\n",
       "      <td>6</td>\n",
       "      <td>1</td>\n",
       "    </tr>\n",
       "    <tr>\n",
       "      <th>4</th>\n",
       "      <td>7.4</td>\n",
       "      <td>0.70</td>\n",
       "      <td>0.00</td>\n",
       "      <td>1.9</td>\n",
       "      <td>0.076</td>\n",
       "      <td>11.0</td>\n",
       "      <td>34.0</td>\n",
       "      <td>0.9978</td>\n",
       "      <td>3.51</td>\n",
       "      <td>0.56</td>\n",
       "      <td>9.4</td>\n",
       "      <td>5</td>\n",
       "      <td>1</td>\n",
       "    </tr>\n",
       "  </tbody>\n",
       "</table>\n",
       "</div>"
      ],
      "text/plain": [
       "    주석산    초산   구연산   당도    영화물  자유 이산화황  총 이산화황      밀도    산도  황산칼륨  알코올 도수  \\\n",
       "0   7.4  0.70  0.00  1.9  0.076     11.0    34.0  0.9978  3.51  0.56     9.4   \n",
       "1   7.8  0.88  0.00  2.6  0.098     25.0    67.0  0.9968  3.20  0.68     9.8   \n",
       "2   7.8  0.76  0.04  2.3  0.092     15.0    54.0  0.9970  3.26  0.65     9.8   \n",
       "3  11.2  0.28  0.56  1.9  0.075     17.0    60.0  0.9980  3.16  0.58     9.8   \n",
       "4   7.4  0.70  0.00  1.9  0.076     11.0    34.0  0.9978  3.51  0.56     9.4   \n",
       "\n",
       "   품질  종류  \n",
       "0   5   1  \n",
       "1   5   1  \n",
       "2   5   1  \n",
       "3   6   1  \n",
       "4   5   1  "
      ]
     },
     "execution_count": 13,
     "metadata": {},
     "output_type": "execute_result"
    }
   ],
   "source": [
    "# [확인] 데이터 요약 정보 확인\n",
    "#     외부에서 불러온 데이터의 경우 어떤 값으로 구성되어 있는지 확인하고 데이타를 섞고 정규화를 해야 한다.\n",
    "#     정규화 과정에서 데이터에 숫자가 아닌 값이 들어가며 에러을 유발한다.\n",
    "#     모두 숫자형에 non-null 로 null가 존재하지 않음을 확인하다.\n",
    "\n",
    "print(wine.info())\n",
    "wine.head()\n"
   ]
  },
  {
   "cell_type": "code",
   "execution_count": 15,
   "metadata": {
    "colab": {
     "base_uri": "https://localhost:8080/",
     "height": 359
    },
    "colab_type": "code",
    "executionInfo": {
     "elapsed": 1047,
     "status": "ok",
     "timestamp": 1575816964868,
     "user": {
      "displayName": "Hwanhee Kim",
      "photoUrl": "https://lh3.googleusercontent.com/a-/AAuE7mAJC9PPBoQ91glDwFjxm3TlW5EqGy0BIAJ52D-ekw=s64",
      "userId": "04863080312902369470"
     },
     "user_tz": -540
    },
    "id": "c96JRczWhvpD",
    "outputId": "e80150c4-c160-40aa-8481-72333d017f36"
   },
   "outputs": [
    {
     "name": "stdout",
     "output_type": "stream",
     "text": [
      "               주석산           초산          구연산           당도          영화물  \\\n",
      "count  6497.000000  6497.000000  6497.000000  6497.000000  6497.000000   \n",
      "mean      0.282257     0.173111     0.191948     0.074283     0.078129   \n",
      "std       0.107143     0.109758     0.087541     0.072972     0.058195   \n",
      "min       0.000000     0.000000     0.000000     0.000000     0.000000   \n",
      "25%       0.214876     0.100000     0.150602     0.018405     0.048173   \n",
      "50%       0.264463     0.140000     0.186747     0.036810     0.063123   \n",
      "75%       0.322314     0.213333     0.234940     0.115031     0.093023   \n",
      "max       1.000000     1.000000     1.000000     1.000000     1.000000   \n",
      "\n",
      "           자유 이산화황       총 이산화황           밀도           산도         황산칼륨  \\\n",
      "count  6497.000000  6497.000000  6497.000000  6497.000000  6497.000000   \n",
      "mean      0.102518     0.252868     0.146262     0.386435     0.174870   \n",
      "std       0.061630     0.130235     0.057811     0.124641     0.083599   \n",
      "min       0.000000     0.000000     0.000000     0.000000     0.000000   \n",
      "25%       0.055556     0.163594     0.100829     0.302326     0.117978   \n",
      "50%       0.097222     0.258065     0.149990     0.379845     0.162921   \n",
      "75%       0.138889     0.345622     0.190476     0.465116     0.213483   \n",
      "max       1.000000     1.000000     1.000000     1.000000     1.000000   \n",
      "\n",
      "            알코올 도수           품질           종류  \n",
      "count  6497.000000  6497.000000  6497.000000  \n",
      "mean      0.361131     0.469730     0.246114  \n",
      "std       0.172857     0.145543     0.430779  \n",
      "min       0.000000     0.000000     0.000000  \n",
      "25%       0.217391     0.333333     0.000000  \n",
      "50%       0.333333     0.500000     0.000000  \n",
      "75%       0.478261     0.500000     0.000000  \n",
      "max       1.000000     1.000000     1.000000  \n"
     ]
    },
    {
     "data": {
      "text/html": [
       "<div>\n",
       "<style scoped>\n",
       "    .dataframe tbody tr th:only-of-type {\n",
       "        vertical-align: middle;\n",
       "    }\n",
       "\n",
       "    .dataframe tbody tr th {\n",
       "        vertical-align: top;\n",
       "    }\n",
       "\n",
       "    .dataframe thead th {\n",
       "        text-align: right;\n",
       "    }\n",
       "</style>\n",
       "<table border=\"1\" class=\"dataframe\">\n",
       "  <thead>\n",
       "    <tr style=\"text-align: right;\">\n",
       "      <th></th>\n",
       "      <th>주석산</th>\n",
       "      <th>초산</th>\n",
       "      <th>구연산</th>\n",
       "      <th>당도</th>\n",
       "      <th>영화물</th>\n",
       "      <th>자유 이산화황</th>\n",
       "      <th>총 이산화황</th>\n",
       "      <th>밀도</th>\n",
       "      <th>산도</th>\n",
       "      <th>황산칼륨</th>\n",
       "      <th>알코올 도수</th>\n",
       "      <th>품질</th>\n",
       "      <th>종류</th>\n",
       "    </tr>\n",
       "  </thead>\n",
       "  <tbody>\n",
       "    <tr>\n",
       "      <th>0</th>\n",
       "      <td>0.297521</td>\n",
       "      <td>0.413333</td>\n",
       "      <td>0.000000</td>\n",
       "      <td>0.019939</td>\n",
       "      <td>0.111296</td>\n",
       "      <td>0.034722</td>\n",
       "      <td>0.064516</td>\n",
       "      <td>0.206092</td>\n",
       "      <td>0.612403</td>\n",
       "      <td>0.191011</td>\n",
       "      <td>0.202899</td>\n",
       "      <td>0.333333</td>\n",
       "      <td>1.0</td>\n",
       "    </tr>\n",
       "    <tr>\n",
       "      <th>1</th>\n",
       "      <td>0.330579</td>\n",
       "      <td>0.533333</td>\n",
       "      <td>0.000000</td>\n",
       "      <td>0.030675</td>\n",
       "      <td>0.147841</td>\n",
       "      <td>0.083333</td>\n",
       "      <td>0.140553</td>\n",
       "      <td>0.186813</td>\n",
       "      <td>0.372093</td>\n",
       "      <td>0.258427</td>\n",
       "      <td>0.260870</td>\n",
       "      <td>0.333333</td>\n",
       "      <td>1.0</td>\n",
       "    </tr>\n",
       "    <tr>\n",
       "      <th>2</th>\n",
       "      <td>0.330579</td>\n",
       "      <td>0.453333</td>\n",
       "      <td>0.024096</td>\n",
       "      <td>0.026074</td>\n",
       "      <td>0.137874</td>\n",
       "      <td>0.048611</td>\n",
       "      <td>0.110599</td>\n",
       "      <td>0.190669</td>\n",
       "      <td>0.418605</td>\n",
       "      <td>0.241573</td>\n",
       "      <td>0.260870</td>\n",
       "      <td>0.333333</td>\n",
       "      <td>1.0</td>\n",
       "    </tr>\n",
       "    <tr>\n",
       "      <th>3</th>\n",
       "      <td>0.611570</td>\n",
       "      <td>0.133333</td>\n",
       "      <td>0.337349</td>\n",
       "      <td>0.019939</td>\n",
       "      <td>0.109635</td>\n",
       "      <td>0.055556</td>\n",
       "      <td>0.124424</td>\n",
       "      <td>0.209948</td>\n",
       "      <td>0.341085</td>\n",
       "      <td>0.202247</td>\n",
       "      <td>0.260870</td>\n",
       "      <td>0.500000</td>\n",
       "      <td>1.0</td>\n",
       "    </tr>\n",
       "    <tr>\n",
       "      <th>4</th>\n",
       "      <td>0.297521</td>\n",
       "      <td>0.413333</td>\n",
       "      <td>0.000000</td>\n",
       "      <td>0.019939</td>\n",
       "      <td>0.111296</td>\n",
       "      <td>0.034722</td>\n",
       "      <td>0.064516</td>\n",
       "      <td>0.206092</td>\n",
       "      <td>0.612403</td>\n",
       "      <td>0.191011</td>\n",
       "      <td>0.202899</td>\n",
       "      <td>0.333333</td>\n",
       "      <td>1.0</td>\n",
       "    </tr>\n",
       "  </tbody>\n",
       "</table>\n",
       "</div>"
      ],
      "text/plain": [
       "        주석산        초산       구연산        당도       영화물   자유 이산화황    총 이산화황  \\\n",
       "0  0.297521  0.413333  0.000000  0.019939  0.111296  0.034722  0.064516   \n",
       "1  0.330579  0.533333  0.000000  0.030675  0.147841  0.083333  0.140553   \n",
       "2  0.330579  0.453333  0.024096  0.026074  0.137874  0.048611  0.110599   \n",
       "3  0.611570  0.133333  0.337349  0.019939  0.109635  0.055556  0.124424   \n",
       "4  0.297521  0.413333  0.000000  0.019939  0.111296  0.034722  0.064516   \n",
       "\n",
       "         밀도        산도      황산칼륨    알코올 도수        품질   종류  \n",
       "0  0.206092  0.612403  0.191011  0.202899  0.333333  1.0  \n",
       "1  0.186813  0.372093  0.258427  0.260870  0.333333  1.0  \n",
       "2  0.190669  0.418605  0.241573  0.260870  0.333333  1.0  \n",
       "3  0.209948  0.341085  0.202247  0.260870  0.500000  1.0  \n",
       "4  0.206092  0.612403  0.191011  0.202899  0.333333  1.0  "
      ]
     },
     "execution_count": 15,
     "metadata": {},
     "output_type": "execute_result"
    }
   ],
   "source": [
    "# (1-2) 데이터 정규화\n",
    "\n",
    "wine_norm = (wine - wine.min()) / (wine.max() - wine.min())\n",
    "\n",
    "print(wine_norm.describe())\n",
    "# 결과를 확인하면 min은 0이고 max는 1로 모두 0~1 사이의 데이타로 정규화가 된 것이다.\n",
    "\n",
    "wine_norm.head()\n",
    "\n"
   ]
  },
  {
   "cell_type": "code",
   "execution_count": 17,
   "metadata": {
    "colab": {
     "base_uri": "https://localhost:8080/",
     "height": 431
    },
    "colab_type": "code",
    "executionInfo": {
     "elapsed": 746,
     "status": "ok",
     "timestamp": 1575817148427,
     "user": {
      "displayName": "Hwanhee Kim",
      "photoUrl": "https://lh3.googleusercontent.com/a-/AAuE7mAJC9PPBoQ91glDwFjxm3TlW5EqGy0BIAJ52D-ekw=s64",
      "userId": "04863080312902369470"
     },
     "user_tz": -540
    },
    "id": "2p1n7sQ-fb5M",
    "outputId": "1be05a9b-f2e7-4815-8c4b-02f387ac2929"
   },
   "outputs": [
    {
     "data": {
      "text/html": [
       "<div>\n",
       "<style scoped>\n",
       "    .dataframe tbody tr th:only-of-type {\n",
       "        vertical-align: middle;\n",
       "    }\n",
       "\n",
       "    .dataframe tbody tr th {\n",
       "        vertical-align: top;\n",
       "    }\n",
       "\n",
       "    .dataframe thead th {\n",
       "        text-align: right;\n",
       "    }\n",
       "</style>\n",
       "<table border=\"1\" class=\"dataframe\">\n",
       "  <thead>\n",
       "    <tr style=\"text-align: right;\">\n",
       "      <th></th>\n",
       "      <th>주석산</th>\n",
       "      <th>초산</th>\n",
       "      <th>구연산</th>\n",
       "      <th>당도</th>\n",
       "      <th>영화물</th>\n",
       "      <th>자유 이산화황</th>\n",
       "      <th>총 이산화황</th>\n",
       "      <th>밀도</th>\n",
       "      <th>산도</th>\n",
       "      <th>황산칼륨</th>\n",
       "      <th>알코올 도수</th>\n",
       "      <th>품질</th>\n",
       "      <th>종류</th>\n",
       "    </tr>\n",
       "  </thead>\n",
       "  <tbody>\n",
       "    <tr>\n",
       "      <th>4650</th>\n",
       "      <td>0.305785</td>\n",
       "      <td>0.166667</td>\n",
       "      <td>0.228916</td>\n",
       "      <td>0.124233</td>\n",
       "      <td>0.194352</td>\n",
       "      <td>0.166667</td>\n",
       "      <td>0.444700</td>\n",
       "      <td>0.192790</td>\n",
       "      <td>0.201550</td>\n",
       "      <td>0.196629</td>\n",
       "      <td>0.202899</td>\n",
       "      <td>0.333333</td>\n",
       "      <td>0.0</td>\n",
       "    </tr>\n",
       "    <tr>\n",
       "      <th>5155</th>\n",
       "      <td>0.082645</td>\n",
       "      <td>0.086667</td>\n",
       "      <td>0.126506</td>\n",
       "      <td>0.147239</td>\n",
       "      <td>0.046512</td>\n",
       "      <td>0.055556</td>\n",
       "      <td>0.244240</td>\n",
       "      <td>0.118180</td>\n",
       "      <td>0.728682</td>\n",
       "      <td>0.146067</td>\n",
       "      <td>0.608696</td>\n",
       "      <td>0.666667</td>\n",
       "      <td>0.0</td>\n",
       "    </tr>\n",
       "    <tr>\n",
       "      <th>3556</th>\n",
       "      <td>0.264463</td>\n",
       "      <td>0.026667</td>\n",
       "      <td>0.192771</td>\n",
       "      <td>0.101227</td>\n",
       "      <td>0.081395</td>\n",
       "      <td>0.072917</td>\n",
       "      <td>0.191244</td>\n",
       "      <td>0.182957</td>\n",
       "      <td>0.441860</td>\n",
       "      <td>0.089888</td>\n",
       "      <td>0.173913</td>\n",
       "      <td>0.500000</td>\n",
       "      <td>0.0</td>\n",
       "    </tr>\n",
       "    <tr>\n",
       "      <th>4119</th>\n",
       "      <td>0.305785</td>\n",
       "      <td>0.220000</td>\n",
       "      <td>0.138554</td>\n",
       "      <td>0.217791</td>\n",
       "      <td>0.074751</td>\n",
       "      <td>0.093750</td>\n",
       "      <td>0.387097</td>\n",
       "      <td>0.228841</td>\n",
       "      <td>0.356589</td>\n",
       "      <td>0.151685</td>\n",
       "      <td>0.246377</td>\n",
       "      <td>0.333333</td>\n",
       "      <td>0.0</td>\n",
       "    </tr>\n",
       "    <tr>\n",
       "      <th>3660</th>\n",
       "      <td>0.239669</td>\n",
       "      <td>0.100000</td>\n",
       "      <td>0.198795</td>\n",
       "      <td>0.018405</td>\n",
       "      <td>0.044850</td>\n",
       "      <td>0.076389</td>\n",
       "      <td>0.207373</td>\n",
       "      <td>0.103914</td>\n",
       "      <td>0.465116</td>\n",
       "      <td>0.101124</td>\n",
       "      <td>0.405797</td>\n",
       "      <td>0.500000</td>\n",
       "      <td>0.0</td>\n",
       "    </tr>\n",
       "  </tbody>\n",
       "</table>\n",
       "</div>"
      ],
      "text/plain": [
       "           주석산        초산       구연산        당도       영화물   자유 이산화황    총 이산화황  \\\n",
       "4650  0.305785  0.166667  0.228916  0.124233  0.194352  0.166667  0.444700   \n",
       "5155  0.082645  0.086667  0.126506  0.147239  0.046512  0.055556  0.244240   \n",
       "3556  0.264463  0.026667  0.192771  0.101227  0.081395  0.072917  0.191244   \n",
       "4119  0.305785  0.220000  0.138554  0.217791  0.074751  0.093750  0.387097   \n",
       "3660  0.239669  0.100000  0.198795  0.018405  0.044850  0.076389  0.207373   \n",
       "\n",
       "            밀도        산도      황산칼륨    알코올 도수        품질   종류  \n",
       "4650  0.192790  0.201550  0.196629  0.202899  0.333333  0.0  \n",
       "5155  0.118180  0.728682  0.146067  0.608696  0.666667  0.0  \n",
       "3556  0.182957  0.441860  0.089888  0.173913  0.500000  0.0  \n",
       "4119  0.228841  0.356589  0.151685  0.246377  0.333333  0.0  \n",
       "3660  0.103914  0.465116  0.101124  0.405797  0.500000  0.0  "
      ]
     },
     "metadata": {},
     "output_type": "display_data"
    },
    {
     "data": {
      "text/plain": [
       "array([[0.30578512, 0.16666667, 0.22891566, 0.12423313, 0.19435216,\n",
       "        0.16666667, 0.44470046, 0.19278967, 0.20155039, 0.19662921,\n",
       "        0.20289855, 0.33333333, 0.        ],\n",
       "       [0.08264463, 0.08666667, 0.12650602, 0.14723926, 0.04651163,\n",
       "        0.05555556, 0.24423963, 0.11818007, 0.72868217, 0.14606742,\n",
       "        0.60869565, 0.66666667, 0.        ],\n",
       "       [0.26446281, 0.02666667, 0.19277108, 0.10122699, 0.08139535,\n",
       "        0.07291667, 0.19124424, 0.18295739, 0.44186047, 0.08988764,\n",
       "        0.17391304, 0.5       , 0.        ],\n",
       "       [0.30578512, 0.22      , 0.13855422, 0.21779141, 0.07475083,\n",
       "        0.09375   , 0.38709677, 0.22884133, 0.35658915, 0.15168539,\n",
       "        0.24637681, 0.33333333, 0.        ],\n",
       "       [0.23966942, 0.1       , 0.19879518, 0.01840491, 0.0448505 ,\n",
       "        0.07638889, 0.20737327, 0.10391363, 0.46511628, 0.1011236 ,\n",
       "        0.4057971 , 0.5       , 0.        ]])"
      ]
     },
     "metadata": {},
     "output_type": "display_data"
    }
   ],
   "source": [
    "# (1-3) 데이터 섞은 후 numpy array로 변환\n",
    "#       df.sample(frac) : 전체 데이타프레임에서 frac 인수로 지정된 비율만큼의 행을 랜덤하게 뽑아서 새로운 데이타프레임을 만듬\n",
    "#       frac=1 : 100% 즉 모든 데이터를 뽑아서 섞는 것과 동일한 효과이다.\n",
    "\n",
    "import numpy as np\n",
    "wine_shuffle = wine_norm.sample(frac=1)\n",
    "display(wine_shuffle.head())\n",
    "\n",
    "wine_np = wine_shuffle.to_numpy()\n",
    "display(wine_np[:5])\n",
    "\n",
    "# 첫번째 출력 결과에서  type을 보면 원래는 레드와인이 앞에 있어서 0.0만 나와야하지만 섞여서 나온다."
   ]
  },
  {
   "cell_type": "code",
   "execution_count": 24,
   "metadata": {
    "colab": {
     "base_uri": "https://localhost:8080/",
     "height": 161
    },
    "colab_type": "code",
    "executionInfo": {
     "elapsed": 720,
     "status": "ok",
     "timestamp": 1575817149737,
     "user": {
      "displayName": "Hwanhee Kim",
      "photoUrl": "https://lh3.googleusercontent.com/a-/AAuE7mAJC9PPBoQ91glDwFjxm3TlW5EqGy0BIAJ52D-ekw=s64",
      "userId": "04863080312902369470"
     },
     "user_tz": -540
    },
    "id": "nVyMBeF9rhAb",
    "outputId": "d65bd15e-98fc-4a3f-de17-74497749ac94"
   },
   "outputs": [
    {
     "name": "stdout",
     "output_type": "stream",
     "text": [
      "[0.30578512 0.16666667 0.22891566 0.12423313 0.19435216 0.16666667\n",
      " 0.44470046 0.19278967 0.20155039 0.19662921 0.20289855 0.33333333]\n",
      "0.0\n",
      "[0.32231405 0.59       0.06024096 0.02300613 0.17109635 0.03472222\n",
      " 0.03686636 0.1771737  0.41860465 0.15730337 0.2173913  0.33333333]\n",
      "1.0\n",
      "[1. 0.]\n",
      "[0. 1.]\n"
     ]
    }
   ],
   "source": [
    "# (1-4) train 데이터와 test 데이터로 분리\n",
    "#         훈련 데이타 80% + 테스트 데이타 20%\n",
    "#         기존 12개의 속성은 X가 되고 마지막에 새롭게 추가한 속성은 Y가 된다.\n",
    "import tensorflow as tf\n",
    "train_idx = int(len(wine_np) * 0.8)\n",
    "train_X, train_Y = wine_np[:train_idx, :-1], wine_np[:train_idx, -1]\n",
    "test_X, test_Y = wine_np[train_idx:, :-1], wine_np[train_idx:, -1]\n",
    "print(train_X[0])\n",
    "print(train_Y[0])\n",
    "print(test_X[0])\n",
    "print(test_Y[0])\n",
    "\n",
    "# tf.keras.utils.to_categorical : 정답 행렬을 one-hot encoding 방식으로 바꾼다\n",
    "# one-hot encoding : 정답에 해당하는 인덱스의 값에는 1을 넣고, 나머지 인덱스는 모두 0으로 넣는 방식\n",
    "# num_classes : 정답 클래스의 갯수\n",
    "# 정답이 레드 와인(0.0)이라면 [1. 0.]이 되고 화이트 와인(1.0)이라면 [0. 1.]이 된다.\n",
    "train_Y = tf.keras.utils.to_categorical(train_Y, num_classes=2)\n",
    "test_Y = tf.keras.utils.to_categorical(test_Y, num_classes=2)\n",
    "print(train_Y[0])\n",
    "print(test_Y[0])"
   ]
  },
  {
   "cell_type": "code",
   "execution_count": 26,
   "metadata": {
    "colab": {
     "base_uri": "https://localhost:8080/",
     "height": 305
    },
    "colab_type": "code",
    "executionInfo": {
     "elapsed": 1076,
     "status": "ok",
     "timestamp": 1575817251317,
     "user": {
      "displayName": "Hwanhee Kim",
      "photoUrl": "https://lh3.googleusercontent.com/a-/AAuE7mAJC9PPBoQ91glDwFjxm3TlW5EqGy0BIAJ52D-ekw=s64",
      "userId": "04863080312902369470"
     },
     "user_tz": -540
    },
    "id": "U-X6IrxDxXzd",
    "outputId": "fed03de3-5560-4358-a3aa-770e17137827",
    "scrolled": true
   },
   "outputs": [
    {
     "name": "stderr",
     "output_type": "stream",
     "text": [
      "C:\\Users\\user\\anaconda3\\Lib\\site-packages\\keras\\src\\layers\\core\\dense.py:93: UserWarning: Do not pass an `input_shape`/`input_dim` argument to a layer. When using Sequential models, prefer using an `Input(shape)` object as the first layer in the model instead.\n",
      "  super().__init__(activity_regularizer=activity_regularizer, **kwargs)\n"
     ]
    },
    {
     "data": {
      "text/html": [
       "<pre style=\"white-space:pre;overflow-x:auto;line-height:normal;font-family:Menlo,'DejaVu Sans Mono',consolas,'Courier New',monospace\"><span style=\"font-weight: bold\">Model: \"sequential\"</span>\n",
       "</pre>\n"
      ],
      "text/plain": [
       "\u001b[1mModel: \"sequential\"\u001b[0m\n"
      ]
     },
     "metadata": {},
     "output_type": "display_data"
    },
    {
     "data": {
      "text/html": [
       "<pre style=\"white-space:pre;overflow-x:auto;line-height:normal;font-family:Menlo,'DejaVu Sans Mono',consolas,'Courier New',monospace\">┏━━━━━━━━━━━━━━━━━━━━━━━━━━━━━━━━━━━━━━┳━━━━━━━━━━━━━━━━━━━━━━━━━━━━━┳━━━━━━━━━━━━━━━━━┓\n",
       "┃<span style=\"font-weight: bold\"> Layer (type)                         </span>┃<span style=\"font-weight: bold\"> Output Shape                </span>┃<span style=\"font-weight: bold\">         Param # </span>┃\n",
       "┡━━━━━━━━━━━━━━━━━━━━━━━━━━━━━━━━━━━━━━╇━━━━━━━━━━━━━━━━━━━━━━━━━━━━━╇━━━━━━━━━━━━━━━━━┩\n",
       "│ dense (<span style=\"color: #0087ff; text-decoration-color: #0087ff\">Dense</span>)                        │ (<span style=\"color: #00d7ff; text-decoration-color: #00d7ff\">None</span>, <span style=\"color: #00af00; text-decoration-color: #00af00\">48</span>)                  │             <span style=\"color: #00af00; text-decoration-color: #00af00\">624</span> │\n",
       "├──────────────────────────────────────┼─────────────────────────────┼─────────────────┤\n",
       "│ dense_1 (<span style=\"color: #0087ff; text-decoration-color: #0087ff\">Dense</span>)                      │ (<span style=\"color: #00d7ff; text-decoration-color: #00d7ff\">None</span>, <span style=\"color: #00af00; text-decoration-color: #00af00\">24</span>)                  │           <span style=\"color: #00af00; text-decoration-color: #00af00\">1,176</span> │\n",
       "├──────────────────────────────────────┼─────────────────────────────┼─────────────────┤\n",
       "│ dense_2 (<span style=\"color: #0087ff; text-decoration-color: #0087ff\">Dense</span>)                      │ (<span style=\"color: #00d7ff; text-decoration-color: #00d7ff\">None</span>, <span style=\"color: #00af00; text-decoration-color: #00af00\">12</span>)                  │             <span style=\"color: #00af00; text-decoration-color: #00af00\">300</span> │\n",
       "├──────────────────────────────────────┼─────────────────────────────┼─────────────────┤\n",
       "│ dense_3 (<span style=\"color: #0087ff; text-decoration-color: #0087ff\">Dense</span>)                      │ (<span style=\"color: #00d7ff; text-decoration-color: #00d7ff\">None</span>, <span style=\"color: #00af00; text-decoration-color: #00af00\">2</span>)                   │              <span style=\"color: #00af00; text-decoration-color: #00af00\">26</span> │\n",
       "└──────────────────────────────────────┴─────────────────────────────┴─────────────────┘\n",
       "</pre>\n"
      ],
      "text/plain": [
       "┏━━━━━━━━━━━━━━━━━━━━━━━━━━━━━━━━━━━━━━┳━━━━━━━━━━━━━━━━━━━━━━━━━━━━━┳━━━━━━━━━━━━━━━━━┓\n",
       "┃\u001b[1m \u001b[0m\u001b[1mLayer (type)                        \u001b[0m\u001b[1m \u001b[0m┃\u001b[1m \u001b[0m\u001b[1mOutput Shape               \u001b[0m\u001b[1m \u001b[0m┃\u001b[1m \u001b[0m\u001b[1m        Param #\u001b[0m\u001b[1m \u001b[0m┃\n",
       "┡━━━━━━━━━━━━━━━━━━━━━━━━━━━━━━━━━━━━━━╇━━━━━━━━━━━━━━━━━━━━━━━━━━━━━╇━━━━━━━━━━━━━━━━━┩\n",
       "│ dense (\u001b[38;5;33mDense\u001b[0m)                        │ (\u001b[38;5;45mNone\u001b[0m, \u001b[38;5;34m48\u001b[0m)                  │             \u001b[38;5;34m624\u001b[0m │\n",
       "├──────────────────────────────────────┼─────────────────────────────┼─────────────────┤\n",
       "│ dense_1 (\u001b[38;5;33mDense\u001b[0m)                      │ (\u001b[38;5;45mNone\u001b[0m, \u001b[38;5;34m24\u001b[0m)                  │           \u001b[38;5;34m1,176\u001b[0m │\n",
       "├──────────────────────────────────────┼─────────────────────────────┼─────────────────┤\n",
       "│ dense_2 (\u001b[38;5;33mDense\u001b[0m)                      │ (\u001b[38;5;45mNone\u001b[0m, \u001b[38;5;34m12\u001b[0m)                  │             \u001b[38;5;34m300\u001b[0m │\n",
       "├──────────────────────────────────────┼─────────────────────────────┼─────────────────┤\n",
       "│ dense_3 (\u001b[38;5;33mDense\u001b[0m)                      │ (\u001b[38;5;45mNone\u001b[0m, \u001b[38;5;34m2\u001b[0m)                   │              \u001b[38;5;34m26\u001b[0m │\n",
       "└──────────────────────────────────────┴─────────────────────────────┴─────────────────┘\n"
      ]
     },
     "metadata": {},
     "output_type": "display_data"
    },
    {
     "data": {
      "text/html": [
       "<pre style=\"white-space:pre;overflow-x:auto;line-height:normal;font-family:Menlo,'DejaVu Sans Mono',consolas,'Courier New',monospace\"><span style=\"font-weight: bold\"> Total params: </span><span style=\"color: #00af00; text-decoration-color: #00af00\">2,126</span> (8.30 KB)\n",
       "</pre>\n"
      ],
      "text/plain": [
       "\u001b[1m Total params: \u001b[0m\u001b[38;5;34m2,126\u001b[0m (8.30 KB)\n"
      ]
     },
     "metadata": {},
     "output_type": "display_data"
    },
    {
     "data": {
      "text/html": [
       "<pre style=\"white-space:pre;overflow-x:auto;line-height:normal;font-family:Menlo,'DejaVu Sans Mono',consolas,'Courier New',monospace\"><span style=\"font-weight: bold\"> Trainable params: </span><span style=\"color: #00af00; text-decoration-color: #00af00\">2,126</span> (8.30 KB)\n",
       "</pre>\n"
      ],
      "text/plain": [
       "\u001b[1m Trainable params: \u001b[0m\u001b[38;5;34m2,126\u001b[0m (8.30 KB)\n"
      ]
     },
     "metadata": {},
     "output_type": "display_data"
    },
    {
     "data": {
      "text/html": [
       "<pre style=\"white-space:pre;overflow-x:auto;line-height:normal;font-family:Menlo,'DejaVu Sans Mono',consolas,'Courier New',monospace\"><span style=\"font-weight: bold\"> Non-trainable params: </span><span style=\"color: #00af00; text-decoration-color: #00af00\">0</span> (0.00 B)\n",
       "</pre>\n"
      ],
      "text/plain": [
       "\u001b[1m Non-trainable params: \u001b[0m\u001b[38;5;34m0\u001b[0m (0.00 B)\n"
      ]
     },
     "metadata": {},
     "output_type": "display_data"
    }
   ],
   "source": [
    "# (2) 와인 데이터셋 분류 모델 생성하고 실행\n",
    "#     회귀 모델과 비슷해 보이지만 마지막 레이어의 활성화 함수가 softmax이다.\n",
    "#     마지막 레이어의 뉴런의 갯수가 2개인 것은 원-핫 인코딩으로 변환한 정답의 차원 수와 동일하다.\n",
    "import tensorflow as tf\n",
    "model = tf.keras.Sequential([\n",
    "    tf.keras.layers.Dense(units=48, activation='relu', input_shape=(12,)),\n",
    "    tf.keras.layers.Dense(units=24, activation='relu'),\n",
    "    tf.keras.layers.Dense(units=12, activation='relu'),\n",
    "    tf.keras.layers.Dense(units=2, activation='softmax')\n",
    "])\n",
    "\n",
    "#model.compile(optimizer=tf.keras.optimizers.Adam(lr=0.07), loss='categorical_crossentropy', metrics=['accuracy'])\n",
    "model.compile(optimizer='adam', loss='categorical_crossentropy', metrics=['accuracy'])\n",
    "\n",
    "model.summary()\n",
    "\n",
    "# loss에 주로 사용하던 mse 대신 categorical_crossentropy 지정\n",
    "# metrics=['accuracy'] : 분류 문제는 정확도(accuracy)로 퍼포먼스를 측정하기 때문에 정확도를 설정하는 것이 필수이다."
   ]
  },
  {
   "cell_type": "markdown",
   "metadata": {},
   "source": [
    "[참고] [ 크로스 엔트로피(cross entropy) ](https://wordbe.tistory.com/entry/ML-Cross-entropyCategorical-Binary%EC%9D%98-%EC%9D%B4%ED%95%B4)\n",
    "\n",
    "[참고] [ softmax 간단한 이해 ](https://m.blog.naver.com/wideeyed/221021710286)"
   ]
  },
  {
   "cell_type": "code",
   "execution_count": 28,
   "metadata": {
    "colab": {
     "base_uri": "https://localhost:8080/",
     "height": 935
    },
    "colab_type": "code",
    "executionInfo": {
     "elapsed": 9435,
     "status": "ok",
     "timestamp": 1575817265364,
     "user": {
      "displayName": "Hwanhee Kim",
      "photoUrl": "https://lh3.googleusercontent.com/a-/AAuE7mAJC9PPBoQ91glDwFjxm3TlW5EqGy0BIAJ52D-ekw=s64",
      "userId": "04863080312902369470"
     },
     "user_tz": -540
    },
    "id": "hNXtNSwUxXr4",
    "outputId": "4c1bcd7b-bb00-4303-e58a-c9bea05a8031"
   },
   "outputs": [
    {
     "name": "stdout",
     "output_type": "stream",
     "text": [
      "Epoch 1/25\n",
      "\u001b[1m122/122\u001b[0m \u001b[32m━━━━━━━━━━━━━━━━━━━━\u001b[0m\u001b[37m\u001b[0m \u001b[1m1s\u001b[0m 3ms/step - accuracy: 0.6600 - loss: 0.6278 - val_accuracy: 0.9715 - val_loss: 0.1868\n",
      "Epoch 2/25\n",
      "\u001b[1m122/122\u001b[0m \u001b[32m━━━━━━━━━━━━━━━━━━━━\u001b[0m\u001b[37m\u001b[0m \u001b[1m0s\u001b[0m 2ms/step - accuracy: 0.9686 - loss: 0.1277 - val_accuracy: 0.9762 - val_loss: 0.0817\n",
      "Epoch 3/25\n",
      "\u001b[1m122/122\u001b[0m \u001b[32m━━━━━━━━━━━━━━━━━━━━\u001b[0m\u001b[37m\u001b[0m \u001b[1m0s\u001b[0m 2ms/step - accuracy: 0.9871 - loss: 0.0537 - val_accuracy: 0.9838 - val_loss: 0.0616\n",
      "Epoch 4/25\n",
      "\u001b[1m122/122\u001b[0m \u001b[32m━━━━━━━━━━━━━━━━━━━━\u001b[0m\u001b[37m\u001b[0m \u001b[1m0s\u001b[0m 2ms/step - accuracy: 0.9902 - loss: 0.0439 - val_accuracy: 0.9846 - val_loss: 0.0573\n",
      "Epoch 5/25\n",
      "\u001b[1m122/122\u001b[0m \u001b[32m━━━━━━━━━━━━━━━━━━━━\u001b[0m\u001b[37m\u001b[0m \u001b[1m0s\u001b[0m 2ms/step - accuracy: 0.9907 - loss: 0.0385 - val_accuracy: 0.9877 - val_loss: 0.0528\n",
      "Epoch 6/25\n",
      "\u001b[1m122/122\u001b[0m \u001b[32m━━━━━━━━━━━━━━━━━━━━\u001b[0m\u001b[37m\u001b[0m \u001b[1m0s\u001b[0m 2ms/step - accuracy: 0.9889 - loss: 0.0323 - val_accuracy: 0.9900 - val_loss: 0.0488\n",
      "Epoch 7/25\n",
      "\u001b[1m122/122\u001b[0m \u001b[32m━━━━━━━━━━━━━━━━━━━━\u001b[0m\u001b[37m\u001b[0m \u001b[1m0s\u001b[0m 2ms/step - accuracy: 0.9891 - loss: 0.0327 - val_accuracy: 0.9862 - val_loss: 0.0562\n",
      "Epoch 8/25\n",
      "\u001b[1m122/122\u001b[0m \u001b[32m━━━━━━━━━━━━━━━━━━━━\u001b[0m\u001b[37m\u001b[0m \u001b[1m0s\u001b[0m 2ms/step - accuracy: 0.9889 - loss: 0.0365 - val_accuracy: 0.9908 - val_loss: 0.0475\n",
      "Epoch 9/25\n",
      "\u001b[1m122/122\u001b[0m \u001b[32m━━━━━━━━━━━━━━━━━━━━\u001b[0m\u001b[37m\u001b[0m \u001b[1m0s\u001b[0m 2ms/step - accuracy: 0.9943 - loss: 0.0271 - val_accuracy: 0.9892 - val_loss: 0.0497\n",
      "Epoch 10/25\n",
      "\u001b[1m122/122\u001b[0m \u001b[32m━━━━━━━━━━━━━━━━━━━━\u001b[0m\u001b[37m\u001b[0m \u001b[1m0s\u001b[0m 2ms/step - accuracy: 0.9922 - loss: 0.0301 - val_accuracy: 0.9885 - val_loss: 0.0515\n",
      "Epoch 11/25\n",
      "\u001b[1m122/122\u001b[0m \u001b[32m━━━━━━━━━━━━━━━━━━━━\u001b[0m\u001b[37m\u001b[0m \u001b[1m0s\u001b[0m 2ms/step - accuracy: 0.9945 - loss: 0.0269 - val_accuracy: 0.9892 - val_loss: 0.0477\n",
      "Epoch 12/25\n",
      "\u001b[1m122/122\u001b[0m \u001b[32m━━━━━━━━━━━━━━━━━━━━\u001b[0m\u001b[37m\u001b[0m \u001b[1m0s\u001b[0m 2ms/step - accuracy: 0.9921 - loss: 0.0315 - val_accuracy: 0.9923 - val_loss: 0.0481\n",
      "Epoch 13/25\n",
      "\u001b[1m122/122\u001b[0m \u001b[32m━━━━━━━━━━━━━━━━━━━━\u001b[0m\u001b[37m\u001b[0m \u001b[1m0s\u001b[0m 2ms/step - accuracy: 0.9963 - loss: 0.0205 - val_accuracy: 0.9915 - val_loss: 0.0484\n",
      "Epoch 14/25\n",
      "\u001b[1m122/122\u001b[0m \u001b[32m━━━━━━━━━━━━━━━━━━━━\u001b[0m\u001b[37m\u001b[0m \u001b[1m0s\u001b[0m 2ms/step - accuracy: 0.9923 - loss: 0.0341 - val_accuracy: 0.9915 - val_loss: 0.0510\n",
      "Epoch 15/25\n",
      "\u001b[1m122/122\u001b[0m \u001b[32m━━━━━━━━━━━━━━━━━━━━\u001b[0m\u001b[37m\u001b[0m \u001b[1m0s\u001b[0m 2ms/step - accuracy: 0.9956 - loss: 0.0167 - val_accuracy: 0.9908 - val_loss: 0.0519\n",
      "Epoch 16/25\n",
      "\u001b[1m122/122\u001b[0m \u001b[32m━━━━━━━━━━━━━━━━━━━━\u001b[0m\u001b[37m\u001b[0m \u001b[1m0s\u001b[0m 2ms/step - accuracy: 0.9949 - loss: 0.0265 - val_accuracy: 0.9915 - val_loss: 0.0501\n",
      "Epoch 17/25\n",
      "\u001b[1m122/122\u001b[0m \u001b[32m━━━━━━━━━━━━━━━━━━━━\u001b[0m\u001b[37m\u001b[0m \u001b[1m0s\u001b[0m 2ms/step - accuracy: 0.9940 - loss: 0.0172 - val_accuracy: 0.9908 - val_loss: 0.0503\n",
      "Epoch 18/25\n",
      "\u001b[1m122/122\u001b[0m \u001b[32m━━━━━━━━━━━━━━━━━━━━\u001b[0m\u001b[37m\u001b[0m \u001b[1m0s\u001b[0m 2ms/step - accuracy: 0.9962 - loss: 0.0197 - val_accuracy: 0.9923 - val_loss: 0.0518\n",
      "Epoch 19/25\n",
      "\u001b[1m122/122\u001b[0m \u001b[32m━━━━━━━━━━━━━━━━━━━━\u001b[0m\u001b[37m\u001b[0m \u001b[1m0s\u001b[0m 2ms/step - accuracy: 0.9966 - loss: 0.0154 - val_accuracy: 0.9915 - val_loss: 0.0509\n",
      "Epoch 20/25\n",
      "\u001b[1m122/122\u001b[0m \u001b[32m━━━━━━━━━━━━━━━━━━━━\u001b[0m\u001b[37m\u001b[0m \u001b[1m0s\u001b[0m 2ms/step - accuracy: 0.9952 - loss: 0.0236 - val_accuracy: 0.9915 - val_loss: 0.0520\n",
      "Epoch 21/25\n",
      "\u001b[1m122/122\u001b[0m \u001b[32m━━━━━━━━━━━━━━━━━━━━\u001b[0m\u001b[37m\u001b[0m \u001b[1m0s\u001b[0m 2ms/step - accuracy: 0.9964 - loss: 0.0197 - val_accuracy: 0.9915 - val_loss: 0.0546\n",
      "Epoch 22/25\n",
      "\u001b[1m122/122\u001b[0m \u001b[32m━━━━━━━━━━━━━━━━━━━━\u001b[0m\u001b[37m\u001b[0m \u001b[1m0s\u001b[0m 2ms/step - accuracy: 0.9974 - loss: 0.0154 - val_accuracy: 0.9908 - val_loss: 0.0585\n",
      "Epoch 23/25\n",
      "\u001b[1m122/122\u001b[0m \u001b[32m━━━━━━━━━━━━━━━━━━━━\u001b[0m\u001b[37m\u001b[0m \u001b[1m0s\u001b[0m 2ms/step - accuracy: 0.9968 - loss: 0.0140 - val_accuracy: 0.9877 - val_loss: 0.0693\n",
      "Epoch 24/25\n",
      "\u001b[1m122/122\u001b[0m \u001b[32m━━━━━━━━━━━━━━━━━━━━\u001b[0m\u001b[37m\u001b[0m \u001b[1m0s\u001b[0m 2ms/step - accuracy: 0.9974 - loss: 0.0154 - val_accuracy: 0.9892 - val_loss: 0.0620\n",
      "Epoch 25/25\n",
      "\u001b[1m122/122\u001b[0m \u001b[32m━━━━━━━━━━━━━━━━━━━━\u001b[0m\u001b[37m\u001b[0m \u001b[1m0s\u001b[0m 2ms/step - accuracy: 0.9932 - loss: 0.0262 - val_accuracy: 0.9908 - val_loss: 0.0610\n"
     ]
    }
   ],
   "source": [
    "# (3) 와인 데이터셋 분류 모델 학습\n",
    "history = model.fit(train_X, train_Y, epochs=25, batch_size=32, validation_split=0.25)"
   ]
  },
  {
   "cell_type": "markdown",
   "metadata": {},
   "source": [
    "[결과] 정확도가 100% 가까운 매우 좋은 결과를 유지하고 있다\n",
    "\n",
    "Epoch 25/25\n",
    "3897/3897 [==============================] - 0s 73us/sample - loss: 0.0339 - accuracy: 0.9905 - val_loss: 0.0443 - val_accuracy: 0.9885\n",
    "\n",
    "    훈련 손실값 (loss)\n",
    "    훈련 정확도 (acc)\n",
    "    검증 손실값 (val_loss)\n",
    "    검증 정확도 (val_acc)"
   ]
  },
  {
   "cell_type": "code",
   "execution_count": 30,
   "metadata": {
    "colab": {
     "base_uri": "https://localhost:8080/",
     "height": 283
    },
    "colab_type": "code",
    "executionInfo": {
     "elapsed": 912,
     "status": "ok",
     "timestamp": 1575817392321,
     "user": {
      "displayName": "Hwanhee Kim",
      "photoUrl": "https://lh3.googleusercontent.com/a-/AAuE7mAJC9PPBoQ91glDwFjxm3TlW5EqGy0BIAJ52D-ekw=s64",
      "userId": "04863080312902369470"
     },
     "user_tz": -540
    },
    "id": "hsI7XviYXZ39",
    "outputId": "5176b51c-bedb-44ed-d00e-73de4fdbeb95"
   },
   "outputs": [
    {
     "data": {
      "image/png": "[encoded data removed]",
      "text/plain": [
       "<Figure size 1200x400 with 2 Axes>"
      ]
     },
     "metadata": {},
     "output_type": "display_data"
    }
   ],
   "source": [
    "# [확인] 분류 모델 학습 결과 시각화\n",
    "import matplotlib.pyplot as plt\n",
    "plt.figure(figsize=(12, 4))\n",
    "\n",
    "plt.subplot(1, 2, 1)\n",
    "plt.plot(history.history['loss'], 'b-', label='loss')\n",
    "plt.plot(history.history['val_loss'], 'r--', label='val_loss')\n",
    "plt.xlabel('Epoch')\n",
    "plt.legend()\n",
    "\n",
    "plt.subplot(1, 2, 2)\n",
    "plt.plot(history.history['accuracy'], 'g-', label='accuracy')\n",
    "plt.plot(history.history['val_accuracy'], 'k--', label='val_accuracy')\n",
    "plt.xlabel('Epoch')\n",
    "plt.ylim(0.7, 1)\n",
    "plt.legend()\n",
    "\n",
    "plt.show()"
   ]
  },
  {
   "cell_type": "code",
   "execution_count": 32,
   "metadata": {
    "colab": {
     "base_uri": "https://localhost:8080/",
     "height": 73
    },
    "colab_type": "code",
    "executionInfo": {
     "elapsed": 743,
     "status": "ok",
     "timestamp": 1575817499680,
     "user": {
      "displayName": "Hwanhee Kim",
      "photoUrl": "https://lh3.googleusercontent.com/a-/AAuE7mAJC9PPBoQ91glDwFjxm3TlW5EqGy0BIAJ52D-ekw=s64",
      "userId": "04863080312902369470"
     },
     "user_tz": -540
    },
    "id": "MyFEtZSw19Ol",
    "outputId": "3a624ca8-d9dd-4498-f7b5-2e5f0ba5b257"
   },
   "outputs": [
    {
     "name": "stdout",
     "output_type": "stream",
     "text": [
      "\u001b[1m41/41\u001b[0m \u001b[32m━━━━━━━━━━━━━━━━━━━━\u001b[0m\u001b[37m\u001b[0m \u001b[1m0s\u001b[0m 1ms/step - accuracy: 0.9979 - loss: 0.0151 \n"
     ]
    },
    {
     "data": {
      "text/plain": [
       "[0.01626928336918354, 0.9969230890274048]"
      ]
     },
     "execution_count": 32,
     "metadata": {},
     "output_type": "execute_result"
    }
   ],
   "source": [
    "# (4) 분류 모델 평가\n",
    "model.evaluate(test_X, test_Y)\n",
    "\n",
    "# 정확도(accuracy)가 0.9931로 거의 오차 없이 레드와인와 화이트와인을 분류했다"
   ]
  },
  {
   "cell_type": "code",
   "execution_count": 40,
   "metadata": {},
   "outputs": [
    {
     "name": "stdout",
     "output_type": "stream",
     "text": [
      "[0.16528926 0.12       0.10843373 0.00920245 0.03654485 0.13541667\n",
      " 0.24884793 0.07113939 0.54263566 0.1011236  0.43478261 0.66666667]\n",
      "[1. 0.]\n"
     ]
    }
   ],
   "source": [
    "print(train_X[1000])\n",
    "print(train_Y[1000]) # 화이트와인"
   ]
  },
  {
   "cell_type": "code",
   "execution_count": 44,
   "metadata": {},
   "outputs": [
    {
     "name": "stdout",
     "output_type": "stream",
     "text": [
      "\u001b[1m1/1\u001b[0m \u001b[32m━━━━━━━━━━━━━━━━━━━━\u001b[0m\u001b[37m\u001b[0m \u001b[1m0s\u001b[0m 24ms/step\n"
     ]
    },
    {
     "data": {
      "text/plain": [
       "array([[0.9989675 , 0.00103246]], dtype=float32)"
      ]
     },
     "execution_count": 44,
     "metadata": {},
     "output_type": "execute_result"
    }
   ],
   "source": [
    "# (5) 주어진 자료로 레드와인인지 화이트 와인인지 감별\n",
    "# 정답이 레드 와인(0.0)이라면 [1. 0.]이 되고 화이트 와인(1.0)이라면 [0. 1.]이 된다.\n",
    "\n",
    "x_values = ([0.16528926, 0.12, 0.10843373, 0.00920245, 0.03654485, 0.13541667,\n",
    " 0.24884793, 0.07113939, 0.54263566, 0.1011236,  0.43478261, 0.66666667],)\n",
    "\n",
    "import numpy as np\n",
    "x_values = np.array(x_values)\n",
    "\n",
    "y_pred = model.predict(x_values)\n",
    "y_pred  # 화이트와인"
   ]
  }
 ],
 "metadata": {
  "colab": {
   "collapsed_sections": [],
   "name": "Chapter5.ipynb",
   "provenance": [],
   "toc_visible": true
  },
  "kernelspec": {
   "display_name": "Python [conda env:base] *",
   "language": "python",
   "name": "conda-base-py"
  },
  "language_info": {
   "codemirror_mode": {
    "name": "ipython",
    "version": 3
   },
   "file_extension": ".py",
   "mimetype": "text/x-python",
   "name": "python",
   "nbconvert_exporter": "python",
   "pygments_lexer": "ipython3",
   "version": "3.12.7"
  }
 },
 "nbformat": 4,
 "nbformat_minor": 4
}
