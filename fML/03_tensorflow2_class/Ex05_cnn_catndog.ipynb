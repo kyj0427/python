{
 "cells": [
  {
   "cell_type": "markdown",
   "id": "5620e48f",
   "metadata": {},
   "source": [
    "## <font color='green'> 개와 고양이 이미지 분류하기</font>\n",
    "\n",
    "\n",
    "[ 참고 ] https://codetorial.net/tensorflow/classifying_the_cats_and_dogs.html\n",
    "\n",
    "\n",
    "위의 참고 사이트에서 코드를 복사하며 실행\n",
    "\n",
    "학습시간 상당히 소요\n"
   ]
  },
  {
   "cell_type": "markdown",
   "id": "cebed6d7",
   "metadata": {},
   "source": [
    "### 1. 데이타 준비하기\n",
    "\n",
    "[ 자료다운 ] https://storage.googleapis.com/mledu-datasets/cats_and_dogs_filtered.zip"
   ]
  },
  {
   "cell_type": "code",
   "execution_count": null,
   "id": "59fede78",
   "metadata": {},
   "outputs": [],
   "source": [
    "import os\n",
    "\n",
    "# 기본 경로\n",
    "base_dir = 'dataset/cats_and_dogs_filtered'\n",
    "\n",
    "train_dir = os.path.join(base_dir, 'train')\n",
    "validation_dir = os.path.join(base_dir, 'validation')\n",
    "\n",
    "# 훈련에 사용되는 고양이/개 이미지 경로\n",
    "train_cats_dir = os.path.join(train_dir, 'cats')\n",
    "train_dogs_dir = os.path.join(train_dir, 'dogs')\n",
    "print(train_cats_dir)\n",
    "print(train_dogs_dir)\n",
    "\n",
    "# 테스트에 사용되는 고양이/개 이미지 경로\n",
    "validation_cats_dir = os.path.join(validation_dir, 'cats')\n",
    "validation_dogs_dir = os.path.join(validation_dir, 'dogs')\n",
    "print(validation_cats_dir)\n",
    "print(validation_dogs_dir)"
   ]
  },
  {
   "cell_type": "markdown",
   "id": "7354c18b",
   "metadata": {},
   "source": [
    "### 2. 데이타 살펴보기"
   ]
  },
  {
   "cell_type": "code",
   "execution_count": null,
   "id": "f02910d8",
   "metadata": {
    "scrolled": true
   },
   "outputs": [],
   "source": [
    "train_cat_fnames = os.listdir( train_cats_dir )\n",
    "train_dog_fnames = os.listdir( train_dogs_dir )\n",
    "\n",
    "print(train_cat_fnames[:5])\n",
    "print(train_dog_fnames[:5])\n",
    "\n",
    "print('Total training cat images :', len(os.listdir(train_cats_dir)))\n",
    "print('Total training dog images :', len(os.listdir(train_dogs_dir)))\n",
    "\n",
    "print('Total validation cat images :', len(os.listdir(validation_cats_dir)))\n",
    "print('Total validation dog images :', len(os.listdir(validation_dogs_dir)))"
   ]
  },
  {
   "cell_type": "markdown",
   "id": "e615b5c1",
   "metadata": {},
   "source": [
    "### 3. 이미지 확인하기"
   ]
  },
  {
   "cell_type": "code",
   "execution_count": null,
   "id": "6a568bc5",
   "metadata": {},
   "outputs": [],
   "source": [
    "%matplotlib inline\n",
    "\n",
    "import matplotlib.image as mpimg\n",
    "import matplotlib.pyplot as plt\n",
    "\n",
    "nrows, ncols = 4, 4\n",
    "pic_index = 0\n",
    "\n",
    "fig = plt.gcf()\n",
    "fig.set_size_inches(ncols*3, nrows*3)\n",
    "\n",
    "pic_index+=8\n",
    "\n",
    "next_cat_pix = [os.path.join(train_cats_dir, fname)\n",
    "                for fname in train_cat_fnames[ pic_index-8:pic_index]]\n",
    "\n",
    "next_dog_pix = [os.path.join(train_dogs_dir, fname)\n",
    "                for fname in train_dog_fnames[ pic_index-8:pic_index]]\n",
    "\n",
    "for i, img_path in enumerate(next_cat_pix+next_dog_pix):\n",
    "    sp = plt.subplot(nrows, ncols, i + 1)\n",
    "    sp.axis('Off')\n",
    "\n",
    "    img = mpimg.imread(img_path)\n",
    "    plt.imshow(img)\n",
    "\n",
    "plt.show()"
   ]
  },
  {
   "cell_type": "markdown",
   "id": "63a7446b",
   "metadata": {},
   "source": [
    "### 4. 모델 구성하기"
   ]
  },
  {
   "cell_type": "code",
   "execution_count": null,
   "id": "21aa970a",
   "metadata": {},
   "outputs": [],
   "source": [
    "import tensorflow as tf\n",
    "\n",
    "\n",
    "model = tf.keras.models.Sequential([\n",
    "  tf.keras.layers.Conv2D(16, (3,3), activation='relu', input_shape=(150, 150, 3)),\n",
    "  tf.keras.layers.MaxPooling2D(2,2),\n",
    "  tf.keras.layers.Conv2D(32, (3,3), activation='relu'),\n",
    "  tf.keras.layers.MaxPooling2D(2,2),\n",
    "  tf.keras.layers.Conv2D(64, (3,3), activation='relu'),\n",
    "  tf.keras.layers.MaxPooling2D(2,2),\n",
    "  tf.keras.layers.Flatten(),\n",
    "  tf.keras.layers.Dense(512, activation='relu'),\n",
    "  tf.keras.layers.Dense(1, activation='sigmoid')\n",
    "])\n",
    "\n",
    "model.summary()"
   ]
  },
  {
   "cell_type": "markdown",
   "id": "da880094",
   "metadata": {},
   "source": [
    "### 5. 모델 컴파일하기"
   ]
  },
  {
   "cell_type": "code",
   "execution_count": null,
   "id": "66baac0f",
   "metadata": {
    "scrolled": true
   },
   "outputs": [],
   "source": [
    "from tensorflow.keras.optimizers import RMSprop\n",
    "\n",
    "model.compile(optimizer=RMSprop(learning_rate=0.001),\n",
    "            loss='binary_crossentropy',\n",
    "            metrics = ['accuracy'])"
   ]
  },
  {
   "cell_type": "markdown",
   "id": "394e95e9",
   "metadata": {},
   "source": [
    "### 6. 이미지 데이터 전처리하기"
   ]
  },
  {
   "cell_type": "code",
   "execution_count": null,
   "id": "e1671694",
   "metadata": {},
   "outputs": [],
   "source": [
    "from tensorflow.keras.preprocessing.image import ImageDataGenerator\n",
    "\n",
    "\n",
    "train_datagen = ImageDataGenerator( rescale = 1.0/255. )\n",
    "test_datagen  = ImageDataGenerator( rescale = 1.0/255. )\n",
    "\n",
    "train_generator = train_datagen.flow_from_directory(train_dir,\n",
    "                                                  batch_size=20,\n",
    "                                                  class_mode='binary',\n",
    "                                                  target_size=(150, 150))\n",
    "validation_generator =  test_datagen.flow_from_directory(validation_dir,\n",
    "                                                       batch_size=20,\n",
    "                                                       class_mode  = 'binary',\n",
    "                                                       target_size = (150, 150))"
   ]
  },
  {
   "cell_type": "markdown",
   "id": "55b8f558",
   "metadata": {},
   "source": [
    "### 7. 모델 훈련하기\n",
    "\n",
    "\n",
    "( 에포크가 100이라 시간소요 상당함 )"
   ]
  },
  {
   "cell_type": "code",
   "execution_count": null,
   "id": "5c8aaa52",
   "metadata": {},
   "outputs": [],
   "source": [
    "history = model.fit(train_generator,\n",
    "                    validation_data=validation_generator,\n",
    "                    steps_per_epoch=50,\n",
    "                    #epochs=100,\n",
    "                    validation_steps=25,\n",
    "                    verbose=2)"
   ]
  },
  {
   "cell_type": "markdown",
   "id": "37e6b7ef",
   "metadata": {},
   "source": [
    "<font color='red'>\n",
    "\n",
    "* 학습속도가 너무 느려서 모델을 저장하고 다시 불러다 사용\n",
    "\n",
    "    저장하기 : model.save('./savedata/catndog.h5')\n",
    "\n",
    "    불어오기 : h5_model=tf.keras.models.load_model('./savedata/catndog.h5')\n",
    "    \n",
    "</font>    "
   ]
  },
  {
   "cell_type": "code",
   "execution_count": null,
   "id": "103619be",
   "metadata": {},
   "outputs": [],
   "source": [
    "# model.save('./savedata/catndog.h5')"
   ]
  },
  {
   "cell_type": "code",
   "execution_count": null,
   "id": "fe08fa61-f50d-4e58-875f-b17be1dcf99b",
   "metadata": {},
   "outputs": [],
   "source": [
    "# h5_model = tf.keras.models.load_model('./savedata/catndog.h5')"
   ]
  },
  {
   "cell_type": "markdown",
   "id": "597ae1cc",
   "metadata": {},
   "source": [
    "### 9. 테스트 이미지 분류하기"
   ]
  },
  {
   "cell_type": "code",
   "execution_count": null,
   "id": "0b179316-588c-45bb-908e-699670c9c0c1",
   "metadata": {},
   "outputs": [],
   "source": []
  },
  {
   "cell_type": "code",
   "execution_count": null,
   "id": "ea6abc25-8294-4e8a-a6e2-efacfaf1aad5",
   "metadata": {},
   "outputs": [],
   "source": []
  },
  {
   "cell_type": "code",
   "execution_count": null,
   "id": "df0de177-a03a-40b6-a14f-e942831b0257",
   "metadata": {},
   "outputs": [],
   "source": []
  }
 ],
 "metadata": {
  "kernelspec": {
   "display_name": "Python [conda env:base] *",
   "language": "python",
   "name": "conda-base-py"
  },
  "language_info": {
   "codemirror_mode": {
    "name": "ipython",
    "version": 3
   },
   "file_extension": ".py",
   "mimetype": "text/x-python",
   "name": "python",
   "nbconvert_exporter": "python",
   "pygments_lexer": "ipython3",
   "version": "3.12.7"
  }
 },
 "nbformat": 4,
 "nbformat_minor": 5
}
