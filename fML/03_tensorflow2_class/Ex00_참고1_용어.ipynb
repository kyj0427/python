{
 "cells": [
  {
   "cell_type": "markdown",
   "id": "2b0487c5",
   "metadata": {},
   "source": [
    "# [참고] Hello 텐서플로 2.0 확인"
   ]
  },
  {
   "cell_type": "code",
   "execution_count": 1,
   "id": "67ab103d",
   "metadata": {},
   "outputs": [
    {
     "name": "stdout",
     "output_type": "stream",
     "text": [
      "Collecting tensorflow\n",
      "  Downloading tensorflow-2.18.0-cp312-cp312-win_amd64.whl.metadata (3.3 kB)\n",
      "Collecting tensorflow-intel==2.18.0 (from tensorflow)\n",
      "  Downloading tensorflow_intel-2.18.0-cp312-cp312-win_amd64.whl.metadata (4.9 kB)\n",
      "Collecting absl-py>=1.0.0 (from tensorflow-intel==2.18.0->tensorflow)\n",
      "  Downloading absl_py-2.1.0-py3-none-any.whl.metadata (2.3 kB)\n",
      "Collecting astunparse>=1.6.0 (from tensorflow-intel==2.18.0->tensorflow)\n",
      "  Downloading astunparse-1.6.3-py2.py3-none-any.whl.metadata (4.4 kB)\n",
      "Collecting flatbuffers>=24.3.25 (from tensorflow-intel==2.18.0->tensorflow)\n",
      "  Downloading flatbuffers-24.3.25-py2.py3-none-any.whl.metadata (850 bytes)\n",
      "Collecting gast!=0.5.0,!=0.5.1,!=0.5.2,>=0.2.1 (from tensorflow-intel==2.18.0->tensorflow)\n",
      "  Downloading gast-0.6.0-py3-none-any.whl.metadata (1.3 kB)\n",
      "Collecting google-pasta>=0.1.1 (from tensorflow-intel==2.18.0->tensorflow)\n",
      "  Downloading google_pasta-0.2.0-py3-none-any.whl.metadata (814 bytes)\n",
      "Collecting libclang>=13.0.0 (from tensorflow-intel==2.18.0->tensorflow)\n",
      "  Downloading libclang-18.1.1-py2.py3-none-win_amd64.whl.metadata (5.3 kB)\n",
      "Collecting opt-einsum>=2.3.2 (from tensorflow-intel==2.18.0->tensorflow)\n",
      "  Downloading opt_einsum-3.4.0-py3-none-any.whl.metadata (6.3 kB)\n",
      "Requirement already satisfied: packaging in c:\\users\\ict\\anaconda3\\lib\\site-packages (from tensorflow-intel==2.18.0->tensorflow) (24.1)\n",
      "Requirement already satisfied: protobuf!=4.21.0,!=4.21.1,!=4.21.2,!=4.21.3,!=4.21.4,!=4.21.5,<6.0.0dev,>=3.20.3 in c:\\users\\ict\\anaconda3\\lib\\site-packages (from tensorflow-intel==2.18.0->tensorflow) (4.25.3)\n",
      "Requirement already satisfied: requests<3,>=2.21.0 in c:\\users\\ict\\anaconda3\\lib\\site-packages (from tensorflow-intel==2.18.0->tensorflow) (2.32.3)\n",
      "Requirement already satisfied: setuptools in c:\\users\\ict\\anaconda3\\lib\\site-packages (from tensorflow-intel==2.18.0->tensorflow) (75.1.0)\n",
      "Requirement already satisfied: six>=1.12.0 in c:\\users\\ict\\anaconda3\\lib\\site-packages (from tensorflow-intel==2.18.0->tensorflow) (1.16.0)\n",
      "Collecting termcolor>=1.1.0 (from tensorflow-intel==2.18.0->tensorflow)\n",
      "  Downloading termcolor-2.5.0-py3-none-any.whl.metadata (6.1 kB)\n",
      "Requirement already satisfied: typing-extensions>=3.6.6 in c:\\users\\ict\\anaconda3\\lib\\site-packages (from tensorflow-intel==2.18.0->tensorflow) (4.11.0)\n",
      "Requirement already satisfied: wrapt>=1.11.0 in c:\\users\\ict\\anaconda3\\lib\\site-packages (from tensorflow-intel==2.18.0->tensorflow) (1.14.1)\n",
      "Collecting grpcio<2.0,>=1.24.3 (from tensorflow-intel==2.18.0->tensorflow)\n",
      "  Downloading grpcio-1.68.0-cp312-cp312-win_amd64.whl.metadata (4.0 kB)\n",
      "Collecting tensorboard<2.19,>=2.18 (from tensorflow-intel==2.18.0->tensorflow)\n",
      "  Downloading tensorboard-2.18.0-py3-none-any.whl.metadata (1.6 kB)\n",
      "Collecting keras>=3.5.0 (from tensorflow-intel==2.18.0->tensorflow)\n",
      "  Downloading keras-3.7.0-py3-none-any.whl.metadata (5.8 kB)\n",
      "Requirement already satisfied: numpy<2.1.0,>=1.26.0 in c:\\users\\ict\\anaconda3\\lib\\site-packages (from tensorflow-intel==2.18.0->tensorflow) (1.26.4)\n",
      "Requirement already satisfied: h5py>=3.11.0 in c:\\users\\ict\\anaconda3\\lib\\site-packages (from tensorflow-intel==2.18.0->tensorflow) (3.11.0)\n",
      "Collecting ml-dtypes<0.5.0,>=0.4.0 (from tensorflow-intel==2.18.0->tensorflow)\n",
      "  Downloading ml_dtypes-0.4.1-cp312-cp312-win_amd64.whl.metadata (20 kB)\n",
      "Requirement already satisfied: wheel<1.0,>=0.23.0 in c:\\users\\ict\\anaconda3\\lib\\site-packages (from astunparse>=1.6.0->tensorflow-intel==2.18.0->tensorflow) (0.44.0)\n",
      "Requirement already satisfied: rich in c:\\users\\ict\\anaconda3\\lib\\site-packages (from keras>=3.5.0->tensorflow-intel==2.18.0->tensorflow) (13.7.1)\n",
      "Collecting namex (from keras>=3.5.0->tensorflow-intel==2.18.0->tensorflow)\n",
      "  Downloading namex-0.0.8-py3-none-any.whl.metadata (246 bytes)\n",
      "Collecting optree (from keras>=3.5.0->tensorflow-intel==2.18.0->tensorflow)\n",
      "  Downloading optree-0.13.1-cp312-cp312-win_amd64.whl.metadata (48 kB)\n",
      "Requirement already satisfied: charset-normalizer<4,>=2 in c:\\users\\ict\\anaconda3\\lib\\site-packages (from requests<3,>=2.21.0->tensorflow-intel==2.18.0->tensorflow) (3.3.2)\n",
      "Requirement already satisfied: idna<4,>=2.5 in c:\\users\\ict\\anaconda3\\lib\\site-packages (from requests<3,>=2.21.0->tensorflow-intel==2.18.0->tensorflow) (3.7)\n",
      "Requirement already satisfied: urllib3<3,>=1.21.1 in c:\\users\\ict\\anaconda3\\lib\\site-packages (from requests<3,>=2.21.0->tensorflow-intel==2.18.0->tensorflow) (2.2.3)\n",
      "Requirement already satisfied: certifi>=2017.4.17 in c:\\users\\ict\\anaconda3\\lib\\site-packages (from requests<3,>=2.21.0->tensorflow-intel==2.18.0->tensorflow) (2024.8.30)\n",
      "Requirement already satisfied: markdown>=2.6.8 in c:\\users\\ict\\anaconda3\\lib\\site-packages (from tensorboard<2.19,>=2.18->tensorflow-intel==2.18.0->tensorflow) (3.4.1)\n",
      "Collecting tensorboard-data-server<0.8.0,>=0.7.0 (from tensorboard<2.19,>=2.18->tensorflow-intel==2.18.0->tensorflow)\n",
      "  Downloading tensorboard_data_server-0.7.2-py3-none-any.whl.metadata (1.1 kB)\n",
      "Requirement already satisfied: werkzeug>=1.0.1 in c:\\users\\ict\\anaconda3\\lib\\site-packages (from tensorboard<2.19,>=2.18->tensorflow-intel==2.18.0->tensorflow) (3.0.3)\n",
      "Requirement already satisfied: MarkupSafe>=2.1.1 in c:\\users\\ict\\anaconda3\\lib\\site-packages (from werkzeug>=1.0.1->tensorboard<2.19,>=2.18->tensorflow-intel==2.18.0->tensorflow) (2.1.3)\n",
      "Requirement already satisfied: markdown-it-py>=2.2.0 in c:\\users\\ict\\anaconda3\\lib\\site-packages (from rich->keras>=3.5.0->tensorflow-intel==2.18.0->tensorflow) (2.2.0)\n",
      "Requirement already satisfied: pygments<3.0.0,>=2.13.0 in c:\\users\\ict\\anaconda3\\lib\\site-packages (from rich->keras>=3.5.0->tensorflow-intel==2.18.0->tensorflow) (2.15.1)\n",
      "Requirement already satisfied: mdurl~=0.1 in c:\\users\\ict\\anaconda3\\lib\\site-packages (from markdown-it-py>=2.2.0->rich->keras>=3.5.0->tensorflow-intel==2.18.0->tensorflow) (0.1.0)\n",
      "Downloading tensorflow-2.18.0-cp312-cp312-win_amd64.whl (7.5 kB)\n",
      "Downloading tensorflow_intel-2.18.0-cp312-cp312-win_amd64.whl (390.3 MB)\n",
      "   ---------------------------------------- 0.0/390.3 MB ? eta -:--:--\n",
      "    --------------------------------------- 7.9/390.3 MB 40.7 MB/s eta 0:00:10\n",
      "    --------------------------------------- 8.7/390.3 MB 22.4 MB/s eta 0:00:18\n",
      "   -- ------------------------------------- 23.3/390.3 MB 36.9 MB/s eta 0:00:10\n",
      "   ---- ----------------------------------- 41.4/390.3 MB 48.8 MB/s eta 0:00:08\n",
      "   ----- ---------------------------------- 49.5/390.3 MB 47.8 MB/s eta 0:00:08\n",
      "   ----- ---------------------------------- 53.0/390.3 MB 41.6 MB/s eta 0:00:09\n",
      "   ------- -------------------------------- 73.4/390.3 MB 49.3 MB/s eta 0:00:07\n",
      "   -------- ------------------------------- 84.1/390.3 MB 49.7 MB/s eta 0:00:07\n",
      "   ---------- ---------------------------- 106.2/390.3 MB 55.6 MB/s eta 0:00:06\n",
      "   ------------- ------------------------- 130.8/390.3 MB 61.4 MB/s eta 0:00:05\n",
      "   --------------- ----------------------- 150.2/390.3 MB 64.4 MB/s eta 0:00:04\n",
      "   ----------------- --------------------- 173.3/390.3 MB 68.4 MB/s eta 0:00:04\n",
      "   ------------------- ------------------- 194.0/390.3 MB 70.9 MB/s eta 0:00:03\n",
      "   --------------------- ----------------- 212.9/390.3 MB 73.2 MB/s eta 0:00:03\n",
      "   --------------------- ----------------- 217.3/390.3 MB 69.1 MB/s eta 0:00:03\n",
      "   ---------------------- ---------------- 226.0/390.3 MB 67.2 MB/s eta 0:00:03\n",
      "   ----------------------- --------------- 239.6/390.3 MB 67.2 MB/s eta 0:00:03\n",
      "   -------------------------- ------------ 264.0/390.3 MB 69.8 MB/s eta 0:00:02\n",
      "   ---------------------------- ---------- 285.7/390.3 MB 77.6 MB/s eta 0:00:02\n",
      "   ------------------------------ -------- 307.5/390.3 MB 78.3 MB/s eta 0:00:02\n",
      "   -------------------------------- ------ 327.4/390.3 MB 86.8 MB/s eta 0:00:01\n",
      "   ----------------------------------- --- 351.8/390.3 MB 91.1 MB/s eta 0:00:01\n",
      "   ----------------------------------- --- 354.7/390.3 MB 87.8 MB/s eta 0:00:01\n",
      "   ------------------------------------- - 371.7/390.3 MB 84.6 MB/s eta 0:00:01\n",
      "   ------------------------------------- - 377.5/390.3 MB 81.0 MB/s eta 0:00:01\n",
      "   --------------------------------------  388.2/390.3 MB 78.3 MB/s eta 0:00:01\n",
      "   --------------------------------------  390.1/390.3 MB 74.8 MB/s eta 0:00:01\n",
      "   --------------------------------------  390.1/390.3 MB 74.8 MB/s eta 0:00:01\n",
      "   --------------------------------------- 390.3/390.3 MB 67.6 MB/s eta 0:00:00\n",
      "Downloading absl_py-2.1.0-py3-none-any.whl (133 kB)\n",
      "Downloading astunparse-1.6.3-py2.py3-none-any.whl (12 kB)\n",
      "Downloading flatbuffers-24.3.25-py2.py3-none-any.whl (26 kB)\n",
      "Downloading gast-0.6.0-py3-none-any.whl (21 kB)\n",
      "Downloading google_pasta-0.2.0-py3-none-any.whl (57 kB)\n",
      "Downloading grpcio-1.68.0-cp312-cp312-win_amd64.whl (4.4 MB)\n",
      "   ---------------------------------------- 0.0/4.4 MB ? eta -:--:--\n",
      "   ---------------------------------------- 4.4/4.4 MB 89.7 MB/s eta 0:00:00\n",
      "Downloading keras-3.7.0-py3-none-any.whl (1.2 MB)\n",
      "   ---------------------------------------- 0.0/1.2 MB ? eta -:--:--\n",
      "   ---------------------------------------- 1.2/1.2 MB 60.4 MB/s eta 0:00:00\n",
      "Downloading libclang-18.1.1-py2.py3-none-win_amd64.whl (26.4 MB)\n",
      "   ---------------------------------------- 0.0/26.4 MB ? eta -:--:--\n",
      "   ------------------------ --------------- 16.0/26.4 MB 91.4 MB/s eta 0:00:01\n",
      "   ---------------------------------------- 26.4/26.4 MB 72.8 MB/s eta 0:00:00\n",
      "Downloading ml_dtypes-0.4.1-cp312-cp312-win_amd64.whl (127 kB)\n",
      "Downloading opt_einsum-3.4.0-py3-none-any.whl (71 kB)\n",
      "Downloading tensorboard-2.18.0-py3-none-any.whl (5.5 MB)\n",
      "   ---------------------------------------- 0.0/5.5 MB ? eta -:--:--\n",
      "   ---------------------------------------- 5.5/5.5 MB 84.5 MB/s eta 0:00:00\n",
      "Downloading termcolor-2.5.0-py3-none-any.whl (7.8 kB)\n",
      "Downloading tensorboard_data_server-0.7.2-py3-none-any.whl (2.4 kB)\n",
      "Downloading namex-0.0.8-py3-none-any.whl (5.8 kB)\n",
      "Downloading optree-0.13.1-cp312-cp312-win_amd64.whl (292 kB)\n",
      "Installing collected packages: namex, libclang, flatbuffers, termcolor, tensorboard-data-server, optree, opt-einsum, ml-dtypes, grpcio, google-pasta, gast, astunparse, absl-py, tensorboard, keras, tensorflow-intel, tensorflow\n",
      "Successfully installed absl-py-2.1.0 astunparse-1.6.3 flatbuffers-24.3.25 gast-0.6.0 google-pasta-0.2.0 grpcio-1.68.0 keras-3.7.0 libclang-18.1.1 ml-dtypes-0.4.1 namex-0.0.8 opt-einsum-3.4.0 optree-0.13.1 tensorboard-2.18.0 tensorboard-data-server-0.7.2 tensorflow-2.18.0 tensorflow-intel-2.18.0 termcolor-2.5.0\n"
     ]
    }
   ],
   "source": [
    "#!pip install tensorflow"
   ]
  },
  {
   "cell_type": "code",
   "execution_count": 1,
   "id": "2c102069",
   "metadata": {},
   "outputs": [],
   "source": [
    "#  텐서플로 2.0 버전 선택\n",
    "try:\n",
    "    # %tensorflow_version only exists in Colab.\n",
    "    %tensorflow_version 2.x\n",
    "except Exception:\n",
    "    pass\n",
    "\n"
   ]
  },
  {
   "cell_type": "code",
   "execution_count": 3,
   "id": "6cf1dd5e",
   "metadata": {},
   "outputs": [],
   "source": [
    "# Google Colab 운영체제 확인\n",
    "# import platform\n",
    "# print(platform.platform())"
   ]
  },
  {
   "cell_type": "code",
   "execution_count": 7,
   "id": "ba5681cb",
   "metadata": {},
   "outputs": [
    {
     "data": {
      "text/plain": [
       "'2.19.0'"
      ]
     },
     "execution_count": 7,
     "metadata": {},
     "output_type": "execute_result"
    }
   ],
   "source": [
    "# 텐서플로우 불러오기, 버전 확인\n",
    "import tensorflow as tf\n",
    "\n",
    "tf.__version__"
   ]
  },
  {
   "cell_type": "code",
   "execution_count": null,
   "id": "6025127c",
   "metadata": {},
   "outputs": [],
   "source": []
  },
  {
   "cell_type": "markdown",
   "id": "8194d553",
   "metadata": {},
   "source": [
    "\n",
    "---\n",
    "\n",
    "##  [참고] 랜덤한 수 생성\n",
    "\n",
    " * 균등분포란\n",
    " \n",
    "     일반적으로 각 이벤트의 결과값을 알 수 없는 경우에 미래에 발생할\n",
    "    이벤트의 결과값 x가 각 예상되는 범위별로  균등한 확률로 일어날 것이라고 예상될 때\n",
    "   사용한다.\n",
    "\n",
    "   예를 들어 주사위를 던져 윗면에 있는 숫자를 알아보기로 하자.  200번을 던지고 201번째    주사위를 던진다고 했을 때 201번째 결과값은 앞은 1에서 200번까지 결과값에 영향을\n",
    "   받지 않는다.\n",
    "   201번째 결과값이 1,2,3,4,5,6 각각의 결과값으로 나올 확률은 6분의 1이며 이는 앞의\n",
    "   1~200번째 결과값에 영향을 받아 줄어들거나 늘어나지 않는다는 것이다.\n",
    "   이처럼  미래 결과값이 경험적으로 알 수 없을 상황에서 사용하는 것이 균등분포이다.\n",
    "\n",
    "\n",
    "  * 정규분포란  \n",
    "  \n",
    "      과거의 축적된 경험적 데이타를 이미 보유하고 있어 이를 이용하여 미래에\n",
    "    발생할 결과값 x의 각 예상되는 범위별로 발생될 확률을 어느정도 추정할 수 있을 때\n",
    "    사용한다.\n",
    "    세상의 수많은 현상들은  많은 경우에 있어서 정규분포를 따른다고 한다.\n",
    "   \n",
    "     예를 들어, 프랜차이즈 매장을  연지 2년이 되었다면  다음 달 매출액이 대략 어느\n",
    "     정도 범위안에 들 것이라는 것이 예측가능하다.  이전 3개월의 매출추세를 이용해\n",
    "     이번달에는 어느 범위에 들 것이라는 것이 예측가능하다.\n",
    "     매장주라면 과거 3개월의 매출이 2천만원, 2천백만원, 2천2백원 발생하였으니\n",
    "     이번달 매출은 과거 3개월의 매출평균인 2천백만원으로 예측할 수 있고 못해도 최소\n",
    "     2천만원의 매출을 달성할 수 있고,  최대 2천2백만원까지 매출할 수 있다는 예상이\n",
    "     가능하다.\n",
    "\n",
    "    많은 수학자들은  현실의 현상을 분석하여 수많은 현상들이 정규분포를 따른다는 것을\n",
    "    밝혀 내고 이 정규분포가 갖고 있는 여러가지 특성들을 정리하였다.\n",
    "    \n",
    "    [출처](https://jonnyomme.blogspot.com/)"
   ]
  },
  {
   "cell_type": "code",
   "execution_count": 8,
   "id": "c95a01e9",
   "metadata": {},
   "outputs": [
    {
     "name": "stdout",
     "output_type": "stream",
     "text": [
      "tf.Tensor([0.8759407], shape=(1,), dtype=float32)\n"
     ]
    }
   ],
   "source": [
    "# 1) 랜덤한 수 얻기 (균일 분포)\n",
    "rand = tf.random.uniform([1],0,1) # shape,   minval=0,    maxval=None,\n",
    "print(rand)"
   ]
  },
  {
   "cell_type": "code",
   "execution_count": 11,
   "id": "2fe57c4c",
   "metadata": {},
   "outputs": [
    {
     "name": "stdout",
     "output_type": "stream",
     "text": [
      "tf.Tensor([0.15952742 0.8906002  0.39616013 0.98796153], shape=(4,), dtype=float32)\n"
     ]
    }
   ],
   "source": [
    "# 2)랜덤한 수 여러 개 얻기 (균일 분포)\n",
    "rand = tf.random.uniform([4],0,1) # shape,   minval=0,    maxval=None,\n",
    "print(rand)"
   ]
  },
  {
   "cell_type": "code",
   "execution_count": 13,
   "id": "0ecacd16",
   "metadata": {},
   "outputs": [
    {
     "name": "stdout",
     "output_type": "stream",
     "text": [
      "tf.Tensor([ 2.2946777  -0.1331406   0.35515407  0.44891214], shape=(4,), dtype=float32)\n"
     ]
    }
   ],
   "source": [
    "# 3) 랜덤한 수 여러 개 얻기 (정규 분포)\n",
    "rand = tf.random.normal([4],0,1)  # shape,   mean=0.0,   stddev=1.0,\n",
    "print(rand)"
   ]
  },
  {
   "cell_type": "code",
   "execution_count": null,
   "id": "b3269dd0",
   "metadata": {},
   "outputs": [],
   "source": []
  },
  {
   "cell_type": "markdown",
   "id": "0beafd42",
   "metadata": {},
   "source": [
    "## 경사하강법\n",
    "\n",
    "> + 경사하강법은 딥러닝 모델을 훈련할 때, 모델 태부의 가중치(weight)에 대한 미분 값을 구하고 목적함수 값이 낮아지는 방향으로 차감하면서 결국 최소 함수 값을 갖도록 하는 방법이다.\n",
    "\n",
    "> + 딥러닝 훈련 프로세스에서 경사하강법 알고리즘을 적용하여 손실함수 값을 최소로 만드는 가충지를 찾을 수 있다\n",
    "\n",
    "\n",
    "\n",
    "\n",
    "### 속도와 정확도 문제를 해결하는 고급 경사 하강법\n",
    " \n",
    "\n",
    "가중치를 업데이트하는 방법으로 우리는 경사 하강법을 배웠습니다. 그런데 경사 하강법은 정확하게 가중치를 찾아가지만, 한 번 업데이트할 때마다 전체 데이터를 미분해야 하므로 계산량이 매우 많다는 단점이 있습니다. 이러한 점을 보완한 고급 경사 하강법이 등장하면서 딥러닝의 발전 속도는 더 빨라졌습니다.\n",
    "\n",
    " \n",
    "\n",
    "◼︎ 확률적 경사 하강법\n",
    "\n",
    "경사 하강법은 불필요하게 많은 계산량은 속도를 느리게 할 뿐 아니라, 최적 해를 찾기 전에 최적화 과정이 멈출 수도 있습니다. 확률적 경사 하강법(Stochastic Gradient Descent, SGD)은 경사 하강법의 이러한 단점을 보완한 방법입니다.\n",
    "\n",
    "전체 데이터를 사용하는 것이 아니라, 랜덤하게 추출한 일부 데이터를 사용합니다. 일부 데이터를 사용하므로 더 빨리 그리고 자주 업데이트를 하는 것이 가능해졌습니다.\n",
    "\n",
    "아래 그림은 경사 하강법과 확률적 경사 하강법의 차이를 보여 줍니다. 랜덤한 일부 데이터를 사용하는 만큼 확률적 경사 하강법은 중간 결과의 진폭이 크고 불안정해 보일 수도 있습니다. 하지만 속도가 확연히 빠르면서도 최적 해에 근사한 값을 찾아낸다는 장점 덕분에 경사 하강법의 대안으로 사용되고 있습니다.\n",
    "\n",
    "<img src='./imgs/경사하강법3.PNG' width='500'/>\n",
    "\n",
    "---\n",
    "\n",
    "---\n",
    "\n",
    "### [참고] 경사하강법\n",
    "\n",
    "- 오차와 기울기의 관계를 그래프로 그려보면, 어느 한 기울기에서 오차가 최소인 점을 알 우 싱다.\n",
    "- 그 점은 기울이가 0인 점이다.\n",
    "- 즉, 오차가 최소인 점을 알아낼려면 기울기가 0인 점을 찾아내면 된다\n",
    "- 그래서 어느 한 점을 정해두고 정해둔 학습률과 함께 미문을 하면서 이동하다보면 오차가 최소인 점을 찾게 되는데, 마치 경사를 타고 내려가는 것처럼 보여져서 이 방법을 \"경사하강법\"이라고 한다\n",
    "\n",
    "\n",
    "<img src='./imgs/경사하강법1.png' width='500'>\n",
    "<img src='./imgs/경사하강법2.png' width='500'>\n",
    "\n",
    "\n",
    "\n",
    "---\n",
    "\n",
    "<img src='./imgs/경사하강법4.PNG' width='500'/>\n",
    "\n",
    " 아담(Adam)은 현재 가장 많이 사용되는 고급 경사 하강법입니다.\n",
    " \n"
   ]
  },
  {
   "cell_type": "code",
   "execution_count": null,
   "id": "eba4ba7d",
   "metadata": {},
   "outputs": [],
   "source": []
  },
  {
   "cell_type": "markdown",
   "id": "2443075f",
   "metadata": {},
   "source": [
    "## 오차 역전파 (back propagation)\n",
    "\n",
    "+ 신경망 내부의 가중치를 수정할 때 오차 역전파 방법을 사용\n",
    "+ 경사 하강법의 확장 개념\n",
    "\n",
    "<img src='./imgs/오차역전파.PNG' width='500'/>\n",
    "\n",
    " [출처] [모두의 딥러닝](https://thebook.io/080228/part03/ch09/02-02/)"
   ]
  },
  {
   "cell_type": "code",
   "execution_count": null,
   "id": "9b0f32d3",
   "metadata": {},
   "outputs": [],
   "source": []
  }
 ],
 "metadata": {
  "kernelspec": {
   "display_name": "Python [conda env:base] *",
   "language": "python",
   "name": "conda-base-py"
  },
  "language_info": {
   "codemirror_mode": {
    "name": "ipython",
    "version": 3
   },
   "file_extension": ".py",
   "mimetype": "text/x-python",
   "name": "python",
   "nbconvert_exporter": "python",
   "pygments_lexer": "ipython3",
   "version": "3.12.7"
  }
 },
 "nbformat": 4,
 "nbformat_minor": 5
}
